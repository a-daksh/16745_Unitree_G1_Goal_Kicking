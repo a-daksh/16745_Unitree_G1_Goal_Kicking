{
 "cells": [
  {
   "cell_type": "code",
   "execution_count": null,
   "metadata": {},
   "outputs": [],
   "source": [
    "using MuJoCo\n",
    "using LinearAlgebra\n",
    "using MatrixEquations  \n",
    "import MuJoCo as MJ\n",
    "\n",
    "model = MJ.load_model(\"../unitree_robots/g1/scene_29dof.xml\")      #\n",
    "data  = MJ.init_data(model)               \n",
    "\n",
    "MJ.init_visualiser()"
   ]
  },
  {
   "cell_type": "code",
   "execution_count": null,
   "metadata": {},
   "outputs": [
    {
     "data": {
      "text/plain": [
       "29×1 Matrix{Float64}:\n",
       " -1.2192965303060772\n",
       " -0.06826768606121636\n",
       "  0.009351820161128899\n",
       " -0.25623776897999995\n",
       " -0.15281168454\n",
       "  0.0\n",
       " -1.2192965303060772\n",
       "  0.06826768606121814\n",
       " -0.00935182016112912\n",
       " -0.25623776897999995\n",
       "  ⋮\n",
       " -0.40097180970350166\n",
       "  1.0381295464721673e-5\n",
       " -2.0933910619160376\n",
       " -0.19408874489754613\n",
       " -0.00012846741010276875\n",
       " -1.8814202856289333\n",
       "  0.004373843135833999\n",
       " -0.40097180970350166\n",
       " -1.0381295464721673e-5"
      ]
     },
     "metadata": {},
     "output_type": "display_data"
    }
   ],
   "source": [
    "# default upright pose from XML (might have to chage to one leg pose)\n",
    "reset!(model, data)\n",
    "forward!(model, data)\n",
    "data.qacc .= 0\n",
    "\n",
    "# inverse dynamics to get required torques for static pose\n",
    "MJ.mj_inverse(model, data)\n",
    "qpos0 = copy(data.qpos)\n",
    "qfrc0 = copy(data.qfrc_inverse)\n",
    "\n",
    "# generalized forces to actuator controls\n",
    "M_act = data.actuator_moment\n",
    "ctrl0 = pinv(M_act)' * qfrc0"
   ]
  },
  {
   "cell_type": "code",
   "execution_count": null,
   "metadata": {},
   "outputs": [
    {
     "data": {
      "text/plain": [
       "0.3"
      ]
     },
     "metadata": {},
     "output_type": "display_data"
    }
   ],
   "source": [
    "nu = model.nu\n",
    "nv = model.nv\n",
    "\n",
    "# LQR cost matrices\n",
    "R = Matrix{Float64}(I, nu, nu)\n",
    "\n",
    "free_dofs = 1:6\n",
    "body_dofs = 7:nv\n",
    "waist_dofs = [j.id+1 for j in MJ.joints(model) if occursin(\"waist\", j.name)]\n",
    "left_leg_dofs = [j.id+1 for j in MJ.joints(model) if occursin(\"left_\", j.name) && any(occursin(p, j.name) for p in (\"hip\",\"knee\",\"ankle\"))]\n",
    "balance_dofs = vcat(waist_dofs, left_leg_dofs)\n",
    "other_dofs = setdiff(body_dofs, balance_dofs)\n",
    "\n",
    "balance_cost = 1000\n",
    "balance_joint_cost = 3\n",
    "other_joint_cost = 0.3"
   ]
  },
  {
   "cell_type": "code",
   "execution_count": 24,
   "metadata": {},
   "outputs": [
    {
     "data": {
      "text/plain": [
       "41×41 view(::Matrix{Float64}, 1:41, 1:41) with eltype Float64:\n",
       "  1.0e-10       0.0           0.0          …  0.0  0.0  0.0  0.0  0.0  0.0\n",
       "  0.0           1.0e-10       0.0             0.0  0.0  0.0  0.0  0.0  0.0\n",
       "  0.0           0.0           1.0e-10         0.0  0.0  0.0  0.0  0.0  0.0\n",
       "  0.0          -3.11795e-13  -5.25954e-14     0.0  0.0  0.0  0.0  0.0  0.0\n",
       "  3.11795e-13   0.0           3.07849e-15     0.0  0.0  0.0  0.0  0.0  0.0\n",
       "  5.25954e-14  -3.07849e-15   0.0          …  0.0  0.0  0.0  0.0  0.0  0.0\n",
       "  2.71683e-13   0.0           1.01975e-14     0.0  0.0  0.0  0.0  0.0  0.0\n",
       "  1.74312e-16  -2.5865e-13   -9.86458e-16     0.0  0.0  0.0  0.0  0.0  0.0\n",
       "  9.66675e-16   4.44667e-14   1.70817e-16     0.0  0.0  0.0  0.0  0.0  0.0\n",
       "  1.42534e-13   0.0           1.14402e-14     0.0  0.0  0.0  0.0  0.0  0.0\n",
       "  ⋮                                        ⋱  ⋮                        ⋮\n",
       " -2.02367e-24   1.62787e-18   5.63906e-18     0.0  0.0  0.0  0.0  0.0  0.0\n",
       " -1.65647e-18  -3.05822e-20  -5.16961e-16     0.0  0.0  0.0  0.0  0.0  0.0\n",
       "  5.73691e-19   2.28041e-16  -1.33843e-20     0.0  0.0  0.0  0.0  0.0  0.0\n",
       "  0.0           0.0           0.0          …  0.3  0.0  0.0  0.0  0.0  0.0\n",
       "  0.0           0.0           0.0             0.0  0.3  0.0  0.0  0.0  0.0\n",
       "  0.0           0.0           0.0             0.0  0.0  0.3  0.0  0.0  0.0\n",
       "  0.0           0.0           0.0             0.0  0.0  0.0  0.3  0.0  0.0\n",
       "  0.0           0.0           0.0             0.0  0.0  0.0  0.0  0.3  0.0\n",
       "  0.0           0.0           0.0          …  0.0  0.0  0.0  0.0  0.0  0.3"
      ]
     },
     "metadata": {},
     "output_type": "display_data"
    }
   ],
   "source": [
    "# Compute Jacobians\n",
    "reset!(model, data)\n",
    "data.qpos .= qpos0\n",
    "forward!(model, data)\n",
    "\n",
    "jac_com = MJ.mj_zeros(3, nv)\n",
    "pelvis = MJ.body(model, \"pelvis\")\n",
    "MJ.mj_jacSubtreeCom(model, data, jac_com, pelvis.id)\n",
    "\n",
    "jac_foot = MJ.mj_zeros(3, nv)\n",
    "foot_body = MJ.body(model, \"left_ankle_roll_link\")\n",
    "MJ.mj_jacBodyCom(model, data, jac_foot, nothing, foot_body.id)\n",
    "\n",
    "jac_diff = jac_com .- jac_foot\n",
    "Qbalance = jac_diff' * jac_diff\n",
    "\n",
    "Qjoint = Matrix{Float64}(I, nv, nv)\n",
    "Qjoint[free_dofs, free_dofs] .= 0\n",
    "Qjoint[balance_dofs, balance_dofs] .*= balance_joint_cost\n",
    "Qjoint[other_dofs, other_dofs] .*= other_joint_cost\n",
    "\n",
    "Qpos = balance_cost * Qbalance + Qjoint\n",
    "Q = Matrix{Float64}(I, 2*nv, 2*nv) * 1e-10\n",
    "Q[1:nv, 1:nv] .+= Qpos"
   ]
  },
  {
   "cell_type": "code",
   "execution_count": null,
   "metadata": {},
   "outputs": [
    {
     "ename": "ErrorException",
     "evalue": "The extended symplectic pencil is not dichotomic",
     "output_type": "error",
     "traceback": [
      "The extended symplectic pencil is not dichotomic\n",
      "\n",
      "Stacktrace:\n",
      " [1] error(s::String)\n",
      "   @ Base ./error.jl:35\n",
      " [2] gared(A::Matrix{Float64}, E::UniformScaling{Bool}, B::Matrix{Float64}, R::Matrix{Float64}, Q::Matrix{Float64}, S::Matrix{Float64}; scaling::Char, pow2::Bool, as::Bool, rtol::Float64, nrm::Int64)\n",
      "   @ MatrixEquations ~/.julia/packages/MatrixEquations/YALsb/src/riccati.jl:1059\n",
      " [3] gared\n",
      "   @ ~/.julia/packages/MatrixEquations/YALsb/src/riccati.jl:970 [inlined]\n",
      " [4] #ared#40\n",
      "   @ ~/.julia/packages/MatrixEquations/YALsb/src/riccati.jl:873 [inlined]\n",
      " [5] ared(A::Matrix{Float64}, B::Matrix{Float64}, R::Matrix{Float64}, Q::Matrix{Float64}, S::Matrix{Float64})\n",
      "   @ MatrixEquations ~/.julia/packages/MatrixEquations/YALsb/src/riccati.jl:870\n",
      " [6] top-level scope\n",
      "   @ ~/16745_Unitree_G1_Goal_Kicking_Julia/src/jl_notebook_cell_df34fa98e69747e1a8f8a730347b8e2f_W2sZmlsZQ==.jl:29"
     ]
    }
   ],
   "source": [
    "# Linearize dynamics around upright pose\n",
    "data.qpos .= qpos0\n",
    "data.qvel .= 0\n",
    "data.ctrl .= ctrl0\n",
    "\n",
    "A = MJ.mj_zeros(2*nv, 2*nv)\n",
    "B = MJ.mj_zeros(2*nv, nu)\n",
    "\n",
    "ϵ = 1e-6\n",
    "MJ.mjd_transitionFD(model, data, ϵ, true, A, B, nothing, nothing)\n",
    "\n",
    "# Reduce to actuated joints only (exclude floating base)\n",
    "actuated = 7:nv\n",
    "\n",
    "A_joint = [A[actuated, actuated] A[actuated, nv .+ actuated];\n",
    "           A[nv .+ actuated, actuated] A[nv .+ actuated, nv .+ actuated]]\n",
    "B_joint = [B[actuated, :]; B[nv .+ actuated, :]]\n",
    "\n",
    "Q_joint = Q[ [actuated; nv .+ actuated], [actuated; nv .+ actuated] ]\n",
    "R_joint = R\n",
    "S_joint = zeros(size(Q_joint,1), size(R_joint,1))\n",
    "\n",
    "# regularization to avoid ricatti failure\n",
    "ϵ_qr = 1e-6\n",
    "Q_joint .+= ϵ_qr * Matrix{Float64}(I, size(Q_joint)...)\n",
    "R_joint .+= ϵ_qr * Matrix{Float64}(I, size(R_joint)...)\n",
    "\n",
    "# Solve the riccati for joint-only subsystem\n",
    "_, _, K_joint, _ = ared(A_joint, B_joint, R_joint, Q_joint, S_joint)\n",
    "\n",
    "\n",
    "# Controller callback (uses joint-only state)\n",
    "function g1_ctrl!(m::Model, d::Data)\n",
    "    Δq = zeros(nv)\n",
    "    MJ.mj_differentiatePos(m, Δq, 1.0, qpos0, d.qpos)\n",
    "    Δx_joint = vcat(Δq[actuated], d.qvel[actuated])\n",
    "    d.ctrl .= ctrl0 .- K_joint * Δx_joint\n",
    "    return nothing\n",
    "end"
   ]
  },
  {
   "cell_type": "code",
   "execution_count": null,
   "metadata": {},
   "outputs": [],
   "source": [
    "reset!(model, data)\n",
    "data.qpos .= qpos0\n",
    "data.qvel .= 0\n",
    "data.ctrl .= ctrl0\n",
    "MJ.visualise!(model, data, controller = g1_ctrl!)"
   ]
  }
 ],
 "metadata": {
  "kernelspec": {
   "display_name": "Julia 1.10.8",
   "language": "julia",
   "name": "julia-1.10"
  },
  "language_info": {
   "file_extension": ".jl",
   "mimetype": "application/julia",
   "name": "julia",
   "version": "1.10.8"
  }
 },
 "nbformat": 4,
 "nbformat_minor": 2
}
