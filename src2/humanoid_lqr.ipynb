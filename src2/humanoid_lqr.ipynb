{
 "cells": [
  {
   "cell_type": "code",
   "execution_count": 1,
   "metadata": {},
   "outputs": [
    {
     "name": "stderr",
     "output_type": "stream",
     "text": [
      "\u001b[32m\u001b[1m  Activating\u001b[22m\u001b[39m project at `~/16745_Unitree_G1_Goal_Kicking_Julia/src2`\n"
     ]
    }
   ],
   "source": [
    "using Pkg\n",
    "Pkg.activate(\".\")\n",
    "Pkg.instantiate()\n",
    "\n",
    "using MuJoCo\n",
    "using CairoMakie\n",
    "using LinearAlgebra\n",
    "using MatrixEquations: ared\n",
    "using MuJoCo\n",
    "import MuJoCo as MJ"
   ]
  },
  {
   "cell_type": "markdown",
   "metadata": {},
   "source": [
    "## Initialize Mujoco\n"
   ]
  },
  {
   "cell_type": "code",
   "execution_count": 2,
   "metadata": {},
   "outputs": [
    {
     "name": "stderr",
     "output_type": "stream",
     "text": [
      "┌ Warning: The visualiser for MuJoCo.jl is designed to run multi-threaded, but the current Julia session was started with only one thread. Degraded performance will occur. To enable multi-threading, set JULIA_NUM_THREADS to a value greater than 1 before starting Julia.\n",
      "└ @ VisualiserExt /home/genisis/.julia/packages/MuJoCo/564rW/ext/VisualiserExt/VisualiserExt.jl:76\n"
     ]
    }
   ],
   "source": [
    "init_visualiser()\n",
    "isplot = true\n",
    "model, data = MuJoCo.sample_model_and_data()\n",
    "const keyframe = 2 # Stand on one leg is the second keyframe.\n",
    "resetkey!(model, data, keyframe)"
   ]
  },
  {
   "cell_type": "markdown",
   "metadata": {},
   "source": [
    "## Get control set-point\n",
    "\n",
    "We want to torque required to hold the humanoid in this position. Just using inverse dynamics won't work yet - there's an unphysical vertical contact force with the ground we want to remove first. Here's a hacky approach."
   ]
  },
  {
   "cell_type": "code",
   "execution_count": 6,
   "metadata": {},
   "outputs": [
    {
     "name": "stdout",
     "output_type": "stream",
     "text": [
      " __  __            _        _____       _ _ \n",
      "|  \\/  |          | |      / ____|     (_) |\n",
      "| \\  / |_   _     | | ___ | |     ___   _| |\n",
      "| |\\/| | | | |_   | |/ _ \\| |    / _ \\ | | |\n",
      "| |  | | |_| | |__| | (_) | |___| (_) || | |\n",
      "|_|  |_|\\__,_|\\____/ \\___/ \\_____\\___(_) |_|\n",
      "                                      _/ |  \n",
      "                                     |__/   \n",
      "\n",
      "Press \"F1\" to show the help message.\n"
     ]
    }
   ],
   "source": [
    "\n",
    "heights = LinRange(-0.001, 0.001, 2001)\n",
    "u_vert = zeros(length(heights))\n",
    "for k in eachindex(heights)\n",
    "\n",
    "    # Set model in position and assume qacc == 0\n",
    "    resetkey!(model, data, keyframe)\n",
    "    forward!(model, data)\n",
    "    data.qacc .= 0\n",
    "\n",
    "    # Offset the height and check required vertical forces\n",
    "    data.qpos[3] += heights[k]\n",
    "    mj_inverse(model, data)\n",
    "    u_vert[k] = data.qfrc_inverse[3] # 3 -> z-force\n",
    "end\n",
    "isplot && visualise!(model, data)"
   ]
  },
  {
   "cell_type": "markdown",
   "metadata": {},
   "source": [
    "Find height corresponding to minimum ficticous force (best offset) and plot the relationship just to see - compare force to weight of humanoid\n"
   ]
  },
  {
   "cell_type": "code",
   "execution_count": 8,
   "metadata": {},
   "outputs": [
    {
     "ename": "ErrorException",
     "evalue": "cannot assign a value to imported variable CairoMakie.height from module Main",
     "output_type": "error",
     "traceback": [
      "cannot assign a value to imported variable CairoMakie.height from module Main\n",
      "\n",
      "Stacktrace:\n",
      " [1] top-level scope\n",
      "   @ ~/16745_Unitree_G1_Goal_Kicking_Julia/src2/jl_notebook_cell_df34fa98e69747e1a8f8a730347b8e2f_W6sZmlsZQ==.jl:1"
     ]
    }
   ],
   "source": [
    "height = heights[argmin(abs.(u_vert))]\n",
    "weight = sum(model.body_mass) * norm(model.opt.gravity)\n",
    "\n",
    "fig = Figure(resolution=(600,400))\n",
    "ax = Axis(fig[1,1], xlabel=\"Vertical offsets (mm)\", ylabel=\"Vertical force (N)\")\n",
    "lines!(ax, heights*1000, u_vert)\n",
    "lines!(ax, heights*1000, weight*ones(length(heights)), linestyle=:dash)\n",
    "lines!(ax, [height, height]*1000, [minimum(u_vert), maximum(u_vert)], linestyle=:dash)\n",
    "isplot && display(fig)"
   ]
  },
  {
   "cell_type": "markdown",
   "metadata": {},
   "source": [
    "We'll use the best-choice offset to get our required ID forces and save q0"
   ]
  },
  {
   "cell_type": "code",
   "execution_count": 5,
   "metadata": {},
   "outputs": [
    {
     "ename": "MethodError",
     "evalue": "MethodError: no method matching +(::Float64, ::typeof(height))\n\nClosest candidates are:\n  +(::Any, ::Any, !Matched::Any, !Matched::Any...)\n   @ Base operators.jl:587\n  +(!Matched::ChainRulesCore.ZeroTangent, ::Any)\n   @ ChainRulesCore ~/.julia/packages/ChainRulesCore/U6wNx/src/tangent_arithmetic.jl:99\n  +(::Any, !Matched::ChainRulesCore.NotImplemented)\n   @ ChainRulesCore ~/.julia/packages/ChainRulesCore/U6wNx/src/tangent_arithmetic.jl:25\n  ...\n",
     "output_type": "error",
     "traceback": [
      "MethodError: no method matching +(::Float64, ::typeof(height))\n",
      "\n",
      "Closest candidates are:\n",
      "  +(::Any, ::Any, !Matched::Any, !Matched::Any...)\n",
      "   @ Base operators.jl:587\n",
      "  +(!Matched::ChainRulesCore.ZeroTangent, ::Any)\n",
      "   @ ChainRulesCore ~/.julia/packages/ChainRulesCore/U6wNx/src/tangent_arithmetic.jl:99\n",
      "  +(::Any, !Matched::ChainRulesCore.NotImplemented)\n",
      "   @ ChainRulesCore ~/.julia/packages/ChainRulesCore/U6wNx/src/tangent_arithmetic.jl:25\n",
      "  ...\n",
      "\n",
      "\n",
      "Stacktrace:\n",
      " [1] top-level scope\n",
      "   @ ~/16745_Unitree_G1_Goal_Kicking_Julia/src2/jl_notebook_cell_df34fa98e69747e1a8f8a730347b8e2f_X11sZmlsZQ==.jl:4"
     ]
    }
   ],
   "source": [
    "resetkey!(model, data, keyframe)\n",
    "forward!(model, data)\n",
    "data.qacc .= 0\n",
    "data.qpos[3] += height\n",
    "qpos0 = vec(copy(data.qpos))\n",
    "mj_inverse(model, data)\n",
    "qfrc0 = vec(copy(data.qfrc_inverse))\n",
    "println(\"Desired forces qfrc0 acquired\")"
   ]
  },
  {
   "cell_type": "markdown",
   "metadata": {},
   "source": [
    "Need the corresponding control torque (through the actuators)"
   ]
  },
  {
   "cell_type": "code",
   "execution_count": 4,
   "metadata": {},
   "outputs": [
    {
     "ename": "UndefVarError",
     "evalue": "UndefVarError: `qfrc0` not defined",
     "output_type": "error",
     "traceback": [
      "UndefVarError: `qfrc0` not defined\n",
      "\n",
      "Stacktrace:\n",
      " [1] top-level scope\n",
      "   @ ~/16745_Unitree_G1_Goal_Kicking_Julia/src2/jl_notebook_cell_df34fa98e69747e1a8f8a730347b8e2f_X13sZmlsZQ==.jl:2"
     ]
    }
   ],
   "source": [
    "M_act = data.actuator_moment\n",
    "ctrl0 = pinv(M_act)' * qfrc0\n",
    "println(\"Control set-point ctrl0 acquired\")"
   ]
  },
  {
   "cell_type": "markdown",
   "metadata": {},
   "source": [
    "Double-check (note: this works because the humanoid is fully-actuated!)"
   ]
  },
  {
   "cell_type": "code",
   "execution_count": 17,
   "metadata": {},
   "outputs": [
    {
     "name": "stdout",
     "output_type": "stream",
     "text": [
      "Desired force meets actual? true\n"
     ]
    }
   ],
   "source": [
    "data.ctrl .= ctrl0\n",
    "forward!(model, data)\n",
    "qfrc_test = vec(copy(data.qfrc_actuator))\n",
    "println(\"Desired force meets actual? \", all((qfrc_test .≈ qfrc0)[7:end]))"
   ]
  },
  {
   "cell_type": "markdown",
   "metadata": {},
   "source": [
    "Run the simulation\n"
   ]
  },
  {
   "cell_type": "code",
   "execution_count": 18,
   "metadata": {},
   "outputs": [
    {
     "name": "stdout",
     "output_type": "stream",
     "text": [
      " __  __            _        _____       _ _ \n",
      "|  \\/  |          | |      / ____|     (_) |\n",
      "| \\  / |_   _     | | ___ | |     ___   _| |\n",
      "| |\\/| | | | |_   | |/ _ \\| |    / _ \\ | | |\n",
      "| |  | | |_| | |__| | (_) | |___| (_) || | |\n",
      "|_|  |_|\\__,_|\\____/ \\___/ \\_____\\___(_) |_|\n",
      "                                      _/ |  \n",
      "                                     |__/   \n",
      "\n",
      "Press \"F1\" to show the help message.\n"
     ]
    }
   ],
   "source": [
    "reset!(model, data)\n",
    "data.qpos .= qpos0\n",
    "data.ctrl .= ctrl0\n",
    "\n",
    "isplot && visualise!(model, data)"
   ]
  },
  {
   "cell_type": "markdown",
   "metadata": {},
   "source": [
    "## LQR Design"
   ]
  },
  {
   "cell_type": "code",
   "execution_count": 19,
   "metadata": {},
   "outputs": [
    {
     "data": {
      "text/plain": [
       "27×27 Matrix{Float64}:\n",
       "  4.93038e-32   0.0           0.0          …   1.56436e-18  -1.09719e-18\n",
       "  0.0           4.93038e-32   0.0             -1.42229e-18   6.97275e-21\n",
       "  0.0           0.0           4.93038e-32      2.05105e-18   6.37879e-19\n",
       " -3.74222e-17  -1.67156e-16  -1.43645e-17      0.00303711    0.000623299\n",
       " -9.20177e-17   1.4418e-17    2.56496e-16      0.00733475    0.00536825\n",
       " -1.19436e-17  -1.96278e-17  -5.83216e-17  …  -0.00223894   -0.000491536\n",
       " -1.27891e-17  -2.55172e-17  -5.66499e-17     -0.00202633   -0.000451924\n",
       " -5.79463e-17   7.34383e-17   1.98035e-16      0.00428123    0.00386204\n",
       " -3.48729e-17  -8.07435e-17   7.07643e-17      0.00416659    0.00168016\n",
       "  1.84487e-18   1.18236e-17  -4.71393e-18     -0.000478646  -0.000100371\n",
       "  ⋮                                        ⋱   ⋮            \n",
       "  3.45516e-18  -2.72403e-17  -8.86781e-17     -0.00279359   -0.00122804\n",
       "  5.85288e-18   3.44814e-18   1.77356e-17      0.000824044   9.96981e-5\n",
       "  4.42521e-18   9.635e-18    -3.39375e-18  …  -0.000278719  -0.000141022\n",
       " -6.69612e-19   1.96031e-18  -3.2494e-18      -0.000212972  -2.68613e-5\n",
       "  3.30785e-18   2.10483e-18   5.88156e-19      6.87031e-5   -6.5705e-5\n",
       "  1.30222e-19   1.09268e-18   6.32359e-19     -1.08287e-6    5.4379e-6\n",
       " -6.38493e-19  -2.25055e-18  -1.07365e-18      2.67353e-22   1.17673e-20\n",
       "  1.56436e-18  -1.42229e-18   2.05105e-18  …   0.00017599   -8.4781e-6\n",
       " -1.09719e-18   6.97275e-21   6.37879e-19     -8.4781e-6     3.26704e-5"
      ]
     },
     "metadata": {},
     "output_type": "display_data"
    }
   ],
   "source": [
    "# Useful dimensions\n",
    "nu = model.nu\n",
    "nv = model.nv\n",
    "\n",
    "# R-matrix just identity\n",
    "R = Matrix{Float64}(I, nu, nu)\n",
    "\n",
    "# Body IDs\n",
    "torso = MJ.body(model, \"torso\")\n",
    "left_foot = MJ.body(model, \"foot_left\")\n",
    "\n",
    "# Get Jacobian for torso CoM\n",
    "mj_jacBodyCom(model, data, jac_foot, nothing, left_foot.id)\n",
    "\n",
    "# Design Q-matrix to balance CoM over foot\n",
    "jac_diff = jac_com .- jac_foot\n",
    "Qbalance = jac_diff' * jac_diff"
   ]
  },
  {
   "cell_type": "markdown",
   "metadata": {},
   "source": [
    "Now we include a cost on joints deviating from the steady-state. Torso already sorted. Left leg should remain rigid. Other joints can move for balance.\n"
   ]
  },
  {
   "cell_type": "code",
   "execution_count": 20,
   "metadata": {},
   "outputs": [
    {
     "name": "stdout",
     "output_type": "stream",
     "text": [
      " __  __            _        _____       _ _ \n",
      "|  \\/  |          | |      / ____|     (_) |\n",
      "| \\  / |_   _     | | ___ | |     ___   _| |\n",
      "| |\\/| | | | |_   | |/ _ \\| |    / _ \\ | | |\n",
      "| |  | | |_| | |__| | (_) | |___| (_) || | |\n",
      "|_|  |_|\\__,_|\\____/ \\___/ \\_____\\___(_) |_|\n",
      "                                      _/ |  \n",
      "                                     |__/   \n",
      "\n",
      "Press \"F1\" to show the help message.\n"
     ]
    }
   ],
   "source": [
    "\n",
    "# Get indices into relevant sets of joints.\n",
    "free_dofs = 1:6\n",
    "body_dofs = 7:nv\n",
    "\n",
    "# Get all the joints using a list comprehension. We add one to the raw ID to get the Julia 1-based index of the joint.\n",
    "abdomen_dofs = [jnt.id+1 for jnt in MJ.joints(model) if occursin(\"abdomen\", jnt.name)]\n",
    "left_leg_dofs = [jnt.id+1 for jnt in MJ.joints(model) if occursin(\"left\", jnt.name) && any(occursin(part, jnt.name) for part in (\"hip\", \"knee\", \"ankle\"))]\n",
    "\n",
    "balance_dofs = vcat(abdomen_dofs, left_leg_dofs)\n",
    "other_dofs = setdiff(body_dofs, balance_dofs)\n",
    "\n",
    "# Cost coefficients\n",
    "balance_cost       = 1000       # CoM units large, keep it still\n",
    "balance_joint_cost = 3          # Joints can move a bit and still balance\n",
    "other_joint_cost   = 0.3        # Other joints can do whatever\n",
    "\n",
    "# Construct joint Q matrix\n",
    "Qjoint = Matrix{Float64}(I, nv, nv)\n",
    "Qjoint[free_dofs, free_dofs] *= 0\n",
    "Qjoint[balance_dofs, balance_dofs] *= balance_joint_cost\n",
    "Qjoint[other_dofs, other_dofs] *= other_joint_cost\n",
    "\n",
    "# Total Q-matrix\n",
    "Qpos = balance_cost*Qbalance + Qjoint\n",
    "Q = [Qpos zeros(nv,nv); zeros(nv, 2nv)]  + (1e-10)I # Add ϵI for positive definite Q\n",
    "\n",
    "# Get A and B matrices from Jacobian\n",
    "reset!(model, data)\n",
    "data.ctrl .= ctrl0\n",
    "data.qpos .= qpos0\n",
    "\n",
    "A = mj_zeros(2nv, 2nv)\n",
    "B = mj_zeros(2nv, nu)\n",
    "ϵ = 1e-6\n",
    "centred = true\n",
    "mjd_transitionFD(model, data, ϵ, centred, A, B, nothing, nothing)\n",
    "\n",
    "# Solve LQR with MatrixEquations.jl (faster than loading ControlSystems.jl)\n",
    "S = zeros(size(Q,1), size(R,1))\n",
    "_, _, K, _ = ared(A,B,R,Q,S)\n",
    "\n",
    "# Write the LQR function\n",
    "function humanoid_ctrl!(m::Model, d::Data)\n",
    "\n",
    "    # Get difference in states qpos - qpos0 (this function does quaternion diff)\n",
    "    Δq = zeros(nv)\n",
    "    mj_differentiatePos(m, Δq, 1, qpos0, d.qpos)\n",
    "    Δx = vcat(Δq, data.qvel)\n",
    "\n",
    "    # Compute controls with LQR\n",
    "    data.ctrl .= (ctrl0 .- K*Δx)\n",
    "    return nothing\n",
    "end\n",
    "\n",
    "# Initialise the humanoid and visualise\n",
    "reset!(model, data)\n",
    "data.qpos .= qpos0\n",
    "visualise!(model, data, controller=humanoid_ctrl!)"
   ]
  }
 ],
 "metadata": {
  "kernelspec": {
   "display_name": "Julia 1.10.8",
   "language": "julia",
   "name": "julia-1.10"
  },
  "language_info": {
   "file_extension": ".jl",
   "mimetype": "application/julia",
   "name": "julia",
   "version": "1.10.8"
  }
 },
 "nbformat": 4,
 "nbformat_minor": 2
}
