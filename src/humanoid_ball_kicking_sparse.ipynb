{
 "cells": [
  {
   "cell_type": "code",
   "execution_count": 1,
   "id": "d9e46a51-d576-42e1-9f32-fad84017fd32",
   "metadata": {},
   "outputs": [
    {
     "name": "stderr",
     "output_type": "stream",
     "text": [
      "\u001b[32m\u001b[1m   Resolving\u001b[22m\u001b[39m package versions...\n",
      "\u001b[32m\u001b[1m  No Changes\u001b[22m\u001b[39m to `~/.julia/environments/v1.11/Project.toml`\n",
      "\u001b[32m\u001b[1m  No Changes\u001b[22m\u001b[39m to `~/.julia/environments/v1.11/Manifest.toml`\n"
     ]
    },
    {
     "data": {
      "application/vnd.webio.node+json": {
       "children": [],
       "instanceArgs": {
        "namespace": "html",
        "tag": "div"
       },
       "nodeType": "DOM",
       "props": {},
       "type": "node"
      },
      "text/html": [
       "<div style=\"padding: 1em; background-color: #f8d6da; border: 1px solid #f5c6cb; font-weight: bold;\">\n",
       "<p>The WebIO Jupyter extension was not detected. See the\n",
       "<a href=\"https://juliagizmos.github.io/WebIO.jl/latest/providers/ijulia/\" target=\"_blank\">\n",
       "    WebIO Jupyter integration documentation\n",
       "</a>\n",
       "for more information.\n",
       "</div>\n"
      ],
      "text/plain": [
       "WebIO._IJuliaInit()"
      ]
     },
     "metadata": {},
     "output_type": "display_data"
    }
   ],
   "source": [
    "using Pkg\n",
    "#Pkg.add(\"RigidBodyDynamics\")\n",
    "#Pkg.add(\"MeshCat\")\n",
    "#Pkg.add(\"MeshCatMechanisms\")\n",
    "#Pkg.add(\"StaticArrays\")\n",
    "#Pkg.add(\"Rotations\")\n",
    "#Pkg.add(\"ForwardDiff\")\n",
    "#Pkg.add(\"FiniteDiff\")\n",
    "#Pkg.add(\"Quaternions\")\n",
    "#Pkg.add(\"OSQP\")\n",
    "#Pkg.add(\"Plots\")\n",
    "#Pkg.add(\"Colors\")\n",
    "#Pkg.add(\"MathOptInterface\")\n",
    "#Pkg.add(\"Ipopt\")\n",
    "#Pkg.add(\"GeometryBasics\")\n",
    "#Pkg.add(\"CoordinateTransformations\")\n",
    "Pkg.add(\"Optim\")\n",
    "include(joinpath(@__DIR__, \"humanoid.jl\"))\n",
    "include(joinpath(@__DIR__, \"ball_qp.jl\"))\n",
    "using LinearAlgebra\n",
    "import ForwardDiff as FD\n",
    "using GeometryBasics\n",
    "using Optim"
   ]
  },
  {
   "cell_type": "markdown",
   "id": "4e3b3679-8776-4b81-a692-77b8e253b35b",
   "metadata": {},
   "source": [
    "## Finding Robot Balancing Pose"
   ]
  },
  {
   "cell_type": "code",
   "execution_count": 2,
   "id": "dfc01ab3-39d6-4f8b-a605-a1f7adf4e5f5",
   "metadata": {},
   "outputs": [
    {
     "name": "stderr",
     "output_type": "stream",
     "text": [
      "\u001b[36m\u001b[1m[ \u001b[22m\u001b[39m\u001b[36m\u001b[1mInfo: \u001b[22m\u001b[39mListening on: 127.0.0.1:8729, thread id: 1\n"
     ]
    },
    {
     "name": "stdout",
     "output_type": "stream",
     "text": [
      "Foot tip position: "
     ]
    },
    {
     "name": "stderr",
     "output_type": "stream",
     "text": [
      "\u001b[36m\u001b[1m┌ \u001b[22m\u001b[39m\u001b[36m\u001b[1mInfo: \u001b[22m\u001b[39mMeshCat server started. You can open the visualizer by visiting the following URL in your browser:\n",
      "\u001b[36m\u001b[1m└ \u001b[22m\u001b[39mhttp://127.0.0.1:8729\n"
     ]
    },
    {
     "name": "stdout",
     "output_type": "stream",
     "text": [
      "[-0.4539735038572158, -0.19194453008619367, 0.2135702686910089]\n"
     ]
    },
    {
     "data": {
      "text/html": [
       "    <div style=\"height: 500px; width: 100%; overflow-x: auto; overflow-y: hidden; resize: both\">\n",
       "    <iframe src=\"http://127.0.0.1:8729\" style=\"width: 100%; height: 100%; border: none\"></iframe>\n",
       "    </div>\n"
      ],
      "text/plain": [
       "MeshCat.DisplayedVisualizer(MeshCat.CoreVisualizer(MeshCat.SceneTrees.SceneNode(nothing, nothing, Dict{String, Vector{UInt8}}(), nothing, Dict{String, MeshCat.SceneTrees.SceneNode}(\"meshcat\" => MeshCat.SceneTrees.SceneNode(nothing, nothing, Dict{String, Vector{UInt8}}(), nothing, Dict{String, MeshCat.SceneTrees.SceneNode}(\"foot_point\" => MeshCat.SceneTrees.SceneNode(UInt8[0x83, 0xa6, 0x6f, 0x62, 0x6a, 0x65, 0x63, 0x74, 0x84, 0xaa  …  0x66, 0x6f, 0x6f, 0x74, 0x5f, 0x70, 0x6f, 0x69, 0x6e, 0x74], nothing, Dict{String, Vector{UInt8}}(\"color\" => [0x84, 0xa8, 0x70, 0x72, 0x6f, 0x70, 0x65, 0x72, 0x74, 0x79  …  0x66, 0x6f, 0x6f, 0x74, 0x5f, 0x70, 0x6f, 0x69, 0x6e, 0x74]), nothing, Dict{String, MeshCat.SceneTrees.SceneNode}()), \"world\" => MeshCat.SceneTrees.SceneNode(nothing, nothing, Dict{String, Vector{UInt8}}(), nothing, Dict{String, MeshCat.SceneTrees.SceneNode}(\"dummy1\" => MeshCat.SceneTrees.SceneNode(nothing, UInt8[0x83, 0xa6, 0x6d, 0x61, 0x74, 0x72, 0x69, 0x78, 0xc7, 0x40  …  0x72, 0x6c, 0x64, 0x2f, 0x64, 0x75, 0x6d, 0x6d, 0x79, 0x31], Dict{String, Vector{UInt8}}(), nothing, Dict{String, MeshCat.SceneTrees.SceneNode}(\"dummy2\" => MeshCat.SceneTrees.SceneNode(nothing, UInt8[0x83, 0xa6, 0x6d, 0x61, 0x74, 0x72, 0x69, 0x78, 0xc7, 0x40  …  0x6d, 0x79, 0x31, 0x2f, 0x64, 0x75, 0x6d, 0x6d, 0x79, 0x32], Dict{String, Vector{UInt8}}(), nothing, Dict{String, MeshCat.SceneTrees.SceneNode}(\"left_ankle_roll_link\" => MeshCat.SceneTrees.SceneNode(nothing, UInt8[0x83, 0xa6, 0x6d, 0x61, 0x74, 0x72, 0x69, 0x78, 0xc7, 0x40  …  0x5f, 0x72, 0x6f, 0x6c, 0x6c, 0x5f, 0x6c, 0x69, 0x6e, 0x6b], Dict{String, Vector{UInt8}}(), nothing, Dict{String, MeshCat.SceneTrees.SceneNode}(\"after_left_ankle_roll_joint\" => MeshCat.SceneTrees.SceneNode(nothing, UInt8[0x83, 0xa6, 0x6d, 0x61, 0x74, 0x72, 0x69, 0x78, 0xc7, 0x40  …  0x72, 0x6f, 0x6c, 0x6c, 0x5f, 0x6a, 0x6f, 0x69, 0x6e, 0x74], Dict{String, Vector{UInt8}}(), nothing, Dict{String, MeshCat.SceneTrees.SceneNode}(\"geometry_8\" => MeshCat.SceneTrees.SceneNode(UInt8[0x83, 0xa6, 0x6f, 0x62, 0x6a, 0x65, 0x63, 0x74, 0x84, 0xaa  …  0x67, 0x65, 0x6f, 0x6d, 0x65, 0x74, 0x72, 0x79, 0x5f, 0x38], UInt8[0x83, 0xa6, 0x6d, 0x61, 0x74, 0x72, 0x69, 0x78, 0xc7, 0x40  …  0x67, 0x65, 0x6f, 0x6d, 0x65, 0x74, 0x72, 0x79, 0x5f, 0x38], Dict{String, Vector{UInt8}}(), nothing, Dict{String, MeshCat.SceneTrees.SceneNode}()))), \"left_ankle_pitch_link\" => MeshCat.SceneTrees.SceneNode(nothing, UInt8[0x83, 0xa6, 0x6d, 0x61, 0x74, 0x72, 0x69, 0x78, 0xc7, 0x40  …  0x70, 0x69, 0x74, 0x63, 0x68, 0x5f, 0x6c, 0x69, 0x6e, 0x6b], Dict{String, Vector{UInt8}}(), nothing, Dict{String, MeshCat.SceneTrees.SceneNode}(\"after_left_ankle_pitch_joint\" => MeshCat.SceneTrees.SceneNode(nothing, UInt8[0x83, 0xa6, 0x6d, 0x61, 0x74, 0x72, 0x69, 0x78, 0xc7, 0x40  …  0x69, 0x74, 0x63, 0x68, 0x5f, 0x6a, 0x6f, 0x69, 0x6e, 0x74], Dict{String, Vector{UInt8}}(), nothing, Dict{String, MeshCat.SceneTrees.SceneNode}(\"geometry_7\" => MeshCat.SceneTrees.SceneNode(UInt8[0x83, 0xa6, 0x6f, 0x62, 0x6a, 0x65, 0x63, 0x74, 0x84, 0xaa  …  0x67, 0x65, 0x6f, 0x6d, 0x65, 0x74, 0x72, 0x79, 0x5f, 0x37], UInt8[0x83, 0xa6, 0x6d, 0x61, 0x74, 0x72, 0x69, 0x78, 0xc7, 0x40  …  0x67, 0x65, 0x6f, 0x6d, 0x65, 0x74, 0x72, 0x79, 0x5f, 0x37], Dict{String, Vector{UInt8}}(), nothing, Dict{String, MeshCat.SceneTrees.SceneNode}()))), \"left_knee_link\" => MeshCat.SceneTrees.SceneNode(nothing, UInt8[0x83, 0xa6, 0x6d, 0x61, 0x74, 0x72, 0x69, 0x78, 0xc7, 0x40  …  0x5f, 0x6b, 0x6e, 0x65, 0x65, 0x5f, 0x6c, 0x69, 0x6e, 0x6b], Dict{String, Vector{UInt8}}(), nothing, Dict{String, MeshCat.SceneTrees.SceneNode}(\"after_left_knee_joint\" => MeshCat.SceneTrees.SceneNode(nothing, UInt8[0x83, 0xa6, 0x6d, 0x61, 0x74, 0x72, 0x69, 0x78, 0xc7, 0x40  …  0x6b, 0x6e, 0x65, 0x65, 0x5f, 0x6a, 0x6f, 0x69, 0x6e, 0x74], Dict{String, Vector{UInt8}}(), nothing, Dict{String, MeshCat.SceneTrees.SceneNode}(\"geometry_6\" => MeshCat.SceneTrees.SceneNode(UInt8[0x83, 0xa6, 0x6f, 0x62, 0x6a, 0x65, 0x63, 0x74, 0x84, 0xaa  …  0x67, 0x65, 0x6f, 0x6d, 0x65, 0x74, 0x72, 0x79, 0x5f, 0x36], UInt8[0x83, 0xa6, 0x6d, 0x61, 0x74, 0x72, 0x69, 0x78, 0xc7, 0x40  …  0x67, 0x65, 0x6f, 0x6d, 0x65, 0x74, 0x72, 0x79, 0x5f, 0x36], Dict{String, Vector{UInt8}}(), nothing, Dict{String, MeshCat.SceneTrees.SceneNode}()))), \"left_hip_yaw_link\" => MeshCat.SceneTrees.SceneNode(nothing, UInt8[0x83, 0xa6, 0x6d, 0x61, 0x74, 0x72, 0x69, 0x78, 0xc7, 0x40  …  0x70, 0x5f, 0x79, 0x61, 0x77, 0x5f, 0x6c, 0x69, 0x6e, 0x6b], Dict{String, Vector{UInt8}}(), nothing, Dict{String, MeshCat.SceneTrees.SceneNode}(\"after_left_hip_yaw_joint\" => MeshCat.SceneTrees.SceneNode(nothing, UInt8[0x83, 0xa6, 0x6d, 0x61, 0x74, 0x72, 0x69, 0x78, 0xc7, 0x40  …  0x5f, 0x79, 0x61, 0x77, 0x5f, 0x6a, 0x6f, 0x69, 0x6e, 0x74], Dict{String, Vector{UInt8}}(), nothing, Dict{String, MeshCat.SceneTrees.SceneNode}(\"geometry_5\" => MeshCat.SceneTrees.SceneNode(UInt8[0x83, 0xa6, 0x6f, 0x62, 0x6a, 0x65, 0x63, 0x74, 0x84, 0xaa  …  0x67, 0x65, 0x6f, 0x6d, 0x65, 0x74, 0x72, 0x79, 0x5f, 0x35], UInt8[0x83, 0xa6, 0x6d, 0x61, 0x74, 0x72, 0x69, 0x78, 0xc7, 0x40  …  0x67, 0x65, 0x6f, 0x6d, 0x65, 0x74, 0x72, 0x79, 0x5f, 0x35], Dict{String, Vector{UInt8}}(), nothing, Dict{String, MeshCat.SceneTrees.SceneNode}()))), \"left_hip_roll_link\" => MeshCat.SceneTrees.SceneNode(nothing, UInt8[0x83, 0xa6, 0x6d, 0x61, 0x74, 0x72, 0x69, 0x78, 0xc7, 0x40  …  0x5f, 0x72, 0x6f, 0x6c, 0x6c, 0x5f, 0x6c, 0x69, 0x6e, 0x6b], Dict{String, Vector{UInt8}}(), nothing, Dict{String, MeshCat.SceneTrees.SceneNode}(\"left_hip_pitch_link\" => MeshCat.SceneTrees.SceneNode(nothing, UInt8[0x83, 0xa6, 0x6d, 0x61, 0x74, 0x72, 0x69, 0x78, 0xc7, 0x40  …  0x70, 0x69, 0x74, 0x63, 0x68, 0x5f, 0x6c, 0x69, 0x6e, 0x6b], Dict{String, Vector{UInt8}}(), nothing, Dict{String, MeshCat.SceneTrees.SceneNode}(\"pelvis\" => MeshCat.SceneTrees.SceneNode(nothing, UInt8[0x83, 0xa6, 0x6d, 0x61, 0x74, 0x72, 0x69, 0x78, 0xc7, 0x40  …  0x69, 0x6e, 0x6b, 0x2f, 0x70, 0x65, 0x6c, 0x76, 0x69, 0x73], Dict{String, Vector{UInt8}}(), nothing, Dict{String, MeshCat.SceneTrees.SceneNode}(\"imu_in_pelvis\" => MeshCat.SceneTrees.SceneNode(nothing, UInt8[0x83, 0xa6, 0x6d, 0x61, 0x74, 0x72, 0x69, 0x78, 0xc7, 0x40  …  0x5f, 0x69, 0x6e, 0x5f, 0x70, 0x65, 0x6c, 0x76, 0x69, 0x73], Dict{String, Vector{UInt8}}(), nothing, Dict{String, MeshCat.SceneTrees.SceneNode}()), \"right_hip_pitch_link\" => MeshCat.SceneTrees.SceneNode(nothing, UInt8[0x83, 0xa6, 0x6d, 0x61, 0x74, 0x72, 0x69, 0x78, 0xc7, 0x40  …  0x70, 0x69, 0x74, 0x63, 0x68, 0x5f, 0x6c, 0x69, 0x6e, 0x6b], Dict{String, Vector{UInt8}}(), nothing, Dict{String, MeshCat.SceneTrees.SceneNode}(\"right_hip_roll_link\" => MeshCat.SceneTrees.SceneNode(nothing, UInt8[0x83, 0xa6, 0x6d, 0x61, 0x74, 0x72, 0x69, 0x78, 0xc7, 0x40  …  0x5f, 0x72, 0x6f, 0x6c, 0x6c, 0x5f, 0x6c, 0x69, 0x6e, 0x6b], Dict{String, Vector{UInt8}}(), nothing, Dict{String, MeshCat.SceneTrees.SceneNode}(\"after_right_hip_roll_joint\" => MeshCat.SceneTrees.SceneNode(nothing, UInt8[0x83, 0xa6, 0x6d, 0x61, 0x74, 0x72, 0x69, 0x78, 0xc7, 0x40  …  0x72, 0x6f, 0x6c, 0x6c, 0x5f, 0x6a, 0x6f, 0x69, 0x6e, 0x74], Dict{String, Vector{UInt8}}(), nothing, Dict{String, MeshCat.SceneTrees.SceneNode}(\"geometry_10\" => MeshCat.SceneTrees.SceneNode(UInt8[0x83, 0xa6, 0x6f, 0x62, 0x6a, 0x65, 0x63, 0x74, 0x84, 0xaa  …  0x65, 0x6f, 0x6d, 0x65, 0x74, 0x72, 0x79, 0x5f, 0x31, 0x30], UInt8[0x83, 0xa6, 0x6d, 0x61, 0x74, 0x72, 0x69, 0x78, 0xc7, 0x40  …  0x65, 0x6f, 0x6d, 0x65, 0x74, 0x72, 0x79, 0x5f, 0x31, 0x30], Dict{String, Vector{UInt8}}(), nothing, Dict{String, MeshCat.SceneTrees.SceneNode}()))), \"right_hip_yaw_link\" => MeshCat.SceneTrees.SceneNode(nothing, UInt8[0x83, 0xa6, 0x6d, 0x61, 0x74, 0x72, 0x69, 0x78, 0xc7, 0x40  …  0x70, 0x5f, 0x79, 0x61, 0x77, 0x5f, 0x6c, 0x69, 0x6e, 0x6b], Dict{String, Vector{UInt8}}(), nothing, Dict{String, MeshCat.SceneTrees.SceneNode}(\"right_knee_link\" => MeshCat.SceneTrees.SceneNode(nothing, UInt8[0x83, 0xa6, 0x6d, 0x61, 0x74, 0x72, 0x69, 0x78, 0xc7, 0x40  …  0x5f, 0x6b, 0x6e, 0x65, 0x65, 0x5f, 0x6c, 0x69, 0x6e, 0x6b], Dict{String, Vector{UInt8}}(), nothing, Dict{String, MeshCat.SceneTrees.SceneNode}(\"right_ankle_pitch_link\" => MeshCat.SceneTrees.SceneNode(nothing, UInt8[0x83, 0xa6, 0x6d, 0x61, 0x74, 0x72, 0x69, 0x78, 0xc7, 0x40  …  0x70, 0x69, 0x74, 0x63, 0x68, 0x5f, 0x6c, 0x69, 0x6e, 0x6b], Dict{String, Vector{UInt8}}(), nothing, Dict{String, MeshCat.SceneTrees.SceneNode}(\"after_right_ankle_pitch_joint\" => MeshCat.SceneTrees.SceneNode(nothing, UInt8[0x83, 0xa6, 0x6d, 0x61, 0x74, 0x72, 0x69, 0x78, 0xc7, 0x40  …  0x69, 0x74, 0x63, 0x68, 0x5f, 0x6a, 0x6f, 0x69, 0x6e, 0x74], Dict{String, Vector{UInt8}}(), nothing, Dict{String, MeshCat.SceneTrees.SceneNode}(\"geometry_13\" => MeshCat.SceneTrees.SceneNode(UInt8[0x83, 0xa6, 0x6f, 0x62, 0x6a, 0x65, 0x63, 0x74, 0x84, 0xaa  …  0x65, 0x6f, 0x6d, 0x65, 0x74, 0x72, 0x79, 0x5f, 0x31, 0x33], UInt8[0x83, 0xa6, 0x6d, 0x61, 0x74, 0x72, 0x69, 0x78, 0xc7, 0x40  …  0x65, 0x6f, 0x6d, 0x65, 0x74, 0x72, 0x79, 0x5f, 0x31, 0x33], Dict{String, Vector{UInt8}}(), nothing, Dict{String, MeshCat.SceneTrees.SceneNode}()))), \"right_ankle_roll_link\" => MeshCat.SceneTrees.SceneNode(nothing, UInt8[0x83, 0xa6, 0x6d, 0x61, 0x74, 0x72, 0x69, 0x78, 0xc7, 0x40  …  0x5f, 0x72, 0x6f, 0x6c, 0x6c, 0x5f, 0x6c, 0x69, 0x6e, 0x6b], Dict{String, Vector{UInt8}}(), nothing, Dict{String, MeshCat.SceneTrees.SceneNode}(\"after_right_ankle_roll_joint\" => MeshCat.SceneTrees.SceneNode(nothing, UInt8[0x83, 0xa6, 0x6d, 0x61, 0x74, 0x72, 0x69, 0x78, 0xc7, 0x40  …  0x72, 0x6f, 0x6c, 0x6c, 0x5f, 0x6a, 0x6f, 0x69, 0x6e, 0x74], Dict{String, Vector{UInt8}}(), nothing, Dict{String, MeshCat.SceneTrees.SceneNode}(\"geometry_14\" => MeshCat.SceneTrees.SceneNode(UInt8[0x83, 0xa6, 0x6f, 0x62, 0x6a, 0x65, 0x63, 0x74, 0x84, 0xaa  …  0x65, 0x6f, 0x6d, 0x65, 0x74, 0x72, 0x79, 0x5f, 0x31, 0x34], UInt8[0x83, 0xa6, 0x6d, 0x61, 0x74, 0x72, 0x69, 0x78, 0xc7, 0x40  …  0x65, 0x6f, 0x6d, 0x65, 0x74, 0x72, 0x79, 0x5f, 0x31, 0x34], Dict{String, Vector{UInt8}}(), nothing, Dict{String, MeshCat.SceneTrees.SceneNode}()))))))), \"after_right_knee_joint\" => MeshCat.SceneTrees.SceneNode(nothing, UInt8[0x83, 0xa6, 0x6d, 0x61, 0x74, 0x72, 0x69, 0x78, 0xc7, 0x40  …  0x6b, 0x6e, 0x65, 0x65, 0x5f, 0x6a, 0x6f, 0x69, 0x6e, 0x74], Dict{String, Vector{UInt8}}(), nothing, Dict{String, MeshCat.SceneTrees.SceneNode}(\"geometry_12\" => MeshCat.SceneTrees.SceneNode(UInt8[0x83, 0xa6, 0x6f, 0x62, 0x6a, 0x65, 0x63, 0x74, 0x84, 0xaa  …  0x65, 0x6f, 0x6d, 0x65, 0x74, 0x72, 0x79, 0x5f, 0x31, 0x32], UInt8[0x83, 0xa6, 0x6d, 0x61, 0x74, 0x72, 0x69, 0x78, 0xc7, 0x40  …  0x65, 0x6f, 0x6d, 0x65, 0x74, 0x72, 0x79, 0x5f, 0x31, 0x32], Dict{String, Vector{UInt8}}(), nothing, Dict{String, MeshCat.SceneTrees.SceneNode}()))))), \"after_right_hip_yaw_joint\" => MeshCat.SceneTrees.SceneNode(nothing, UInt8[0x83, 0xa6, 0x6d, 0x61, 0x74, 0x72, 0x69, 0x78, 0xc7, 0x40  …  0x5f, 0x79, 0x61, 0x77, 0x5f, 0x6a, 0x6f, 0x69, 0x6e, 0x74], Dict{String, Vector{UInt8}}(), nothing, Dict{String, MeshCat.SceneTrees.SceneNode}(\"geometry_11\" => MeshCat.SceneTrees.SceneNode(UInt8[0x83, 0xa6, 0x6f, 0x62, 0x6a, 0x65, 0x63, 0x74, 0x84, 0xaa  …  0x65, 0x6f, 0x6d, 0x65, 0x74, 0x72, 0x79, 0x5f, 0x31, 0x31], UInt8[0x83, 0xa6, 0x6d, 0x61, 0x74, 0x72, 0x69, 0x78, 0xc7, 0x40  …  0x65, 0x6f, 0x6d, 0x65, 0x74, 0x72, 0x79, 0x5f, 0x31, 0x31], Dict{String, Vector{UInt8}}(), nothing, Dict{String, MeshCat.SceneTrees.SceneNode}()))))))), \"after_right_hip_pitch_joint\" => MeshCat.SceneTrees.SceneNode(nothing, UInt8[0x83, 0xa6, 0x6d, 0x61, 0x74, 0x72, 0x69, 0x78, 0xc7, 0x40  …  0x69, 0x74, 0x63, 0x68, 0x5f, 0x6a, 0x6f, 0x69, 0x6e, 0x74], Dict{String, Vector{UInt8}}(), nothing, Dict{String, MeshCat.SceneTrees.SceneNode}(\"geometry_9\" => MeshCat.SceneTrees.SceneNode(UInt8[0x83, 0xa6, 0x6f, 0x62, 0x6a, 0x65, 0x63, 0x74, 0x84, 0xaa  …  0x67, 0x65, 0x6f, 0x6d, 0x65, 0x74, 0x72, 0x79, 0x5f, 0x39], UInt8[0x83, 0xa6, 0x6d, 0x61, 0x74, 0x72, 0x69, 0x78, 0xc7, 0x40  …  0x67, 0x65, 0x6f, 0x6d, 0x65, 0x74, 0x72, 0x79, 0x5f, 0x39], Dict{String, Vector{UInt8}}(), nothing, Dict{String, MeshCat.SceneTrees.SceneNode}()))))), \"pelvis\" => MeshCat.SceneTrees.SceneNode(nothing, UInt8[0x83, 0xa6, 0x6d, 0x61, 0x74, 0x72, 0x69, 0x78, 0xc7, 0x40  …  0x76, 0x69, 0x73, 0x2f, 0x70, 0x65, 0x6c, 0x76, 0x69, 0x73], Dict{String, Vector{UInt8}}(), nothing, Dict{String, MeshCat.SceneTrees.SceneNode}(\"geometry_1\" => MeshCat.SceneTrees.SceneNode(UInt8[0x83, 0xa6, 0x6f, 0x62, 0x6a, 0x65, 0x63, 0x74, 0x84, 0xaa  …  0x67, 0x65, 0x6f, 0x6d, 0x65, 0x74, 0x72, 0x79, 0x5f, 0x31], UInt8[0x83, 0xa6, 0x6d, 0x61, 0x74, 0x72, 0x69, 0x78, 0xc7, 0x40  …  0x67, 0x65, 0x6f, 0x6d, 0x65, 0x74, 0x72, 0x79, 0x5f, 0x31], Dict{String, Vector{UInt8}}(), nothing, Dict{String, MeshCat.SceneTrees.SceneNode}()))), \"pelvis_contour_link\" => MeshCat.SceneTrees.SceneNode(nothing, UInt8[0x83, 0xa6, 0x6d, 0x61, 0x74, 0x72, 0x69, 0x78, 0xc7, 0x40  …  0x6e, 0x74, 0x6f, 0x75, 0x72, 0x5f, 0x6c, 0x69, 0x6e, 0x6b], Dict{String, Vector{UInt8}}(), nothing, Dict{String, MeshCat.SceneTrees.SceneNode}(\"after_pelvis_contour_joint\" => MeshCat.SceneTrees.SceneNode(nothing, UInt8[0x83, 0xa6, 0x6d, 0x61, 0x74, 0x72, 0x69, 0x78, 0xc7, 0x40  …  0x74, 0x6f, 0x75, 0x72, 0x5f, 0x6a, 0x6f, 0x69, 0x6e, 0x74], Dict{String, Vector{UInt8}}(), nothing, Dict{String, MeshCat.SceneTrees.SceneNode}(\"geometry_2\" => MeshCat.SceneTrees.SceneNode(UInt8[0x83, 0xa6, 0x6f, 0x62, 0x6a, 0x65, 0x63, 0x74, 0x84, 0xaa  …  0x67, 0x65, 0x6f, 0x6d, 0x65, 0x74, 0x72, 0x79, 0x5f, 0x32], UInt8[0x83, 0xa6, 0x6d, 0x61, 0x74, 0x72, 0x69, 0x78, 0xc7, 0x40  …  0x67, 0x65, 0x6f, 0x6d, 0x65, 0x74, 0x72, 0x79, 0x5f, 0x32], Dict{String, Vector{UInt8}}(), nothing, Dict{String, MeshCat.SceneTrees.SceneNode}()))))), \"waist_yaw_link\" => MeshCat.SceneTrees.SceneNode(nothing, UInt8[0x83, 0xa6, 0x6d, 0x61, 0x74, 0x72, 0x69, 0x78, 0xc7, 0x40  …  0x74, 0x5f, 0x79, 0x61, 0x77, 0x5f, 0x6c, 0x69, 0x6e, 0x6b], Dict{String, Vector{UInt8}}(), nothing, Dict{String, MeshCat.SceneTrees.SceneNode}(\"after_waist_yaw_joint\" => MeshCat.SceneTrees.SceneNode(nothing, UInt8[0x83, 0xa6, 0x6d, 0x61, 0x74, 0x72, 0x69, 0x78, 0xc7, 0x40  …  0x5f, 0x79, 0x61, 0x77, 0x5f, 0x6a, 0x6f, 0x69, 0x6e, 0x74], Dict{String, Vector{UInt8}}(), nothing, Dict{String, MeshCat.SceneTrees.SceneNode}(\"geometry_15\" => MeshCat.SceneTrees.SceneNode(UInt8[0x83, 0xa6, 0x6f, 0x62, 0x6a, 0x65, 0x63, 0x74, 0x84, 0xaa  …  0x65, 0x6f, 0x6d, 0x65, 0x74, 0x72, 0x79, 0x5f, 0x31, 0x35], UInt8[0x83, 0xa6, 0x6d, 0x61, 0x74, 0x72, 0x69, 0x78, 0xc7, 0x40  …  0x65, 0x6f, 0x6d, 0x65, 0x74, 0x72, 0x79, 0x5f, 0x31, 0x35], Dict{String, Vector{UInt8}}(), nothing, Dict{String, MeshCat.SceneTrees.SceneNode}()))), \"waist_roll_link\" => MeshCat.SceneTrees.SceneNode(nothing, UInt8[0x83, 0xa6, 0x6d, 0x61, 0x74, 0x72, 0x69, 0x78, 0xc7, 0x40  …  0x5f, 0x72, 0x6f, 0x6c, 0x6c, 0x5f, 0x6c, 0x69, 0x6e, 0x6b], Dict{String, Vector{UInt8}}(), nothing, Dict{String, MeshCat.SceneTrees.SceneNode}(\"torso_link\" => MeshCat.SceneTrees.SceneNode(nothing, UInt8[0x83, 0xa6, 0x6d, 0x61, 0x74, 0x72, 0x69, 0x78, 0xc7, 0x40  …  0x74, 0x6f, 0x72, 0x73, 0x6f, 0x5f, 0x6c, 0x69, 0x6e, 0x6b], Dict{String, Vector{UInt8}}(), nothing, Dict{String, MeshCat.SceneTrees.SceneNode}(\"left_shoulder_pitch_link\" => MeshCat.SceneTrees.SceneNode(nothing, UInt8[0x83, 0xa6, 0x6d, 0x61, 0x74, 0x72, 0x69, 0x78, 0xc7, 0x40  …  0x70, 0x69, 0x74, 0x63, 0x68, 0x5f, 0x6c, 0x69, 0x6e, 0x6b], Dict{String, Vector{UInt8}}(), nothing, Dict{String, MeshCat.SceneTrees.SceneNode}(\"after_left_shoulder_pitch_joint\" => MeshCat.SceneTrees.SceneNode(nothing, UInt8[0x83, 0xa6, 0x6d, 0x61, 0x74, 0x72, 0x69, 0x78, 0xc7, 0x40  …  0x69, 0x74, 0x63, 0x68, 0x5f, 0x6a, 0x6f, 0x69, 0x6e, 0x74], Dict{String, Vector{UInt8}}(), nothing, Dict{String, MeshCat.SceneTrees.SceneNode}(\"geometry_21\" => MeshCat.SceneTrees.SceneNode(UInt8[0x83, 0xa6, 0x6f, 0x62, 0x6a, 0x65, 0x63, 0x74, 0x84, 0xaa  …  0x65, 0x6f, 0x6d, 0x65, 0x74, 0x72, 0x79, 0x5f, 0x32, 0x31], UInt8[0x83, 0xa6, 0x6d, 0x61, 0x74, 0x72, 0x69, 0x78, 0xc7, 0x40  …  0x65, 0x6f, 0x6d, 0x65, 0x74, 0x72, 0x79, 0x5f, 0x32, 0x31], Dict{String, Vector{UInt8}}(), nothing, Dict{String, MeshCat.SceneTrees.SceneNode}()))), \"left_shoulder_roll_link\" => MeshCat.SceneTrees.SceneNode(nothing, UInt8[0x83, 0xa6, 0x6d, 0x61, 0x74, 0x72, 0x69, 0x78, 0xc7, 0x40  …  0x5f, 0x72, 0x6f, 0x6c, 0x6c, 0x5f, 0x6c, 0x69, 0x6e, 0x6b], Dict{String, Vector{UInt8}}(), nothing, Dict{String, MeshCat.SceneTrees.SceneNode}(\"left_shoulder_yaw_link\" => MeshCat.SceneTrees.SceneNode(nothing, UInt8[0x83, 0xa6, 0x6d, 0x61, 0x74, 0x72, 0x69, 0x78, 0xc7, 0x40  …  0x72, 0x5f, 0x79, 0x61, 0x77, 0x5f, 0x6c, 0x69, 0x6e, 0x6b], Dict{String, Vector{UInt8}}(), nothing, Dict{String, MeshCat.SceneTrees.SceneNode}(\"left_elbow_link\" => MeshCat.SceneTrees.SceneNode(nothing, UInt8[0x83, 0xa6, 0x6d, 0x61, 0x74, 0x72, 0x69, 0x78, 0xc7, 0x40  …  0x65, 0x6c, 0x62, 0x6f, 0x77, 0x5f, 0x6c, 0x69, 0x6e, 0x6b], Dict{String, Vector{UInt8}}(), nothing, Dict{String, MeshCat.SceneTrees.SceneNode}(\"left_wrist_roll_link\" => MeshCat.SceneTrees.SceneNode(nothing, UInt8[0x83, 0xa6, 0x6d, 0x61, 0x74, 0x72, 0x69, 0x78, 0xc7, 0x40  …  0x5f, 0x72, 0x6f, 0x6c, 0x6c, 0x5f, 0x6c, 0x69, 0x6e, 0x6b], Dict{String, Vector{UInt8}}(), nothing, Dict{String, MeshCat.SceneTrees.SceneNode}(\"after_left_wrist_roll_joint\" => MeshCat.SceneTrees.SceneNode(nothing, UInt8[0x83, 0xa6, 0x6d, 0x61, 0x74, 0x72, 0x69, 0x78, 0xc7, 0x40  …  0x72, 0x6f, 0x6c, 0x6c, 0x5f, 0x6a, 0x6f, 0x69, 0x6e, 0x74], Dict{String, Vector{UInt8}}(), nothing, Dict{String, MeshCat.SceneTrees.SceneNode}(\"geometry_25\" => MeshCat.SceneTrees.SceneNode(UInt8[0x83, 0xa6, 0x6f, 0x62, 0x6a, 0x65, 0x63, 0x74, 0x84, 0xaa  …  0x65, 0x6f, 0x6d, 0x65, 0x74, 0x72, 0x79, 0x5f, 0x32, 0x35], UInt8[0x83, 0xa6, 0x6d, 0x61, 0x74, 0x72, 0x69, 0x78, 0xc7, 0x40  …  0x65, 0x6f, 0x6d, 0x65, 0x74, 0x72, 0x79, 0x5f, 0x32, 0x35], Dict{String, Vector{UInt8}}(), nothing, Dict{String, MeshCat.SceneTrees.SceneNode}()))), \"left_wrist_pitch_link\" => MeshCat.SceneTrees.SceneNode(nothing, UInt8[0x83, 0xa6, 0x6d, 0x61, 0x74, 0x72, 0x69, 0x78, 0xc7, 0x40  …  0x70, 0x69, 0x74, 0x63, 0x68, 0x5f, 0x6c, 0x69, 0x6e, 0x6b], Dict{String, Vector{UInt8}}(), nothing, Dict{String, MeshCat.SceneTrees.SceneNode}(\"left_wrist_yaw_link\" => MeshCat.SceneTrees.SceneNode(nothing, UInt8[0x83, 0xa6, 0x6d, 0x61, 0x74, 0x72, 0x69, 0x78, 0xc7, 0x40  …  0x74, 0x5f, 0x79, 0x61, 0x77, 0x5f, 0x6c, 0x69, 0x6e, 0x6b], Dict{String, Vector{UInt8}}(), nothing, Dict{String, MeshCat.SceneTrees.SceneNode}(\"left_rubber_hand\" => MeshCat.SceneTrees.SceneNode(nothing, UInt8[0x83, 0xa6, 0x6d, 0x61, 0x74, 0x72, 0x69, 0x78, 0xc7, 0x40  …  0x75, 0x62, 0x62, 0x65, 0x72, 0x5f, 0x68, 0x61, 0x6e, 0x64], Dict{String, Vector{UInt8}}(), nothing, Dict{String, MeshCat.SceneTrees.SceneNode}(\"after_left_hand_palm_joint\" => MeshCat.SceneTrees.SceneNode(nothing, UInt8[0x83, 0xa6, 0x6d, 0x61, 0x74, 0x72, 0x69, 0x78, 0xc7, 0x40  …  0x70, 0x61, 0x6c, 0x6d, 0x5f, 0x6a, 0x6f, 0x69, 0x6e, 0x74], Dict{String, Vector{UInt8}}(), nothing, Dict{String, MeshCat.SceneTrees.SceneNode}(\"geometry_28\" => MeshCat.SceneTrees.SceneNode(UInt8[0x83, 0xa6, 0x6f, 0x62, 0x6a, 0x65, 0x63, 0x74, 0x84, 0xaa  …  0x65, 0x6f, 0x6d, 0x65, 0x74, 0x72, 0x79, 0x5f, 0x32, 0x38], UInt8[0x83, 0xa6, 0x6d, 0x61, 0x74, 0x72, 0x69, 0x78, 0xc7, 0x40  …  0x65, 0x6f, 0x6d, 0x65, 0x74, 0x72, 0x79, 0x5f, 0x32, 0x38], Dict{String, Vector{UInt8}}(), nothing, Dict{String, MeshCat.SceneTrees.SceneNode}()))))), \"after_left_wrist_yaw_joint\" => MeshCat.SceneTrees.SceneNode(nothing, UInt8[0x83, 0xa6, 0x6d, 0x61, 0x74, 0x72, 0x69, 0x78, 0xc7, 0x40  …  0x5f, 0x79, 0x61, 0x77, 0x5f, 0x6a, 0x6f, 0x69, 0x6e, 0x74], Dict{String, Vector{UInt8}}(), nothing, Dict{String, MeshCat.SceneTrees.SceneNode}(\"geometry_27\" => MeshCat.SceneTrees.SceneNode(UInt8[0x83, 0xa6, 0x6f, 0x62, 0x6a, 0x65, 0x63, 0x74, 0x84, 0xaa  …  0x65, 0x6f, 0x6d, 0x65, 0x74, 0x72, 0x79, 0x5f, 0x32, 0x37], UInt8[0x83, 0xa6, 0x6d, 0x61, 0x74, 0x72, 0x69, 0x78, 0xc7, 0x40  …  0x65, 0x6f, 0x6d, 0x65, 0x74, 0x72, 0x79, 0x5f, 0x32, 0x37], Dict{String, Vector{UInt8}}(), nothing, Dict{String, MeshCat.SceneTrees.SceneNode}()))))), \"after_left_wrist_pitch_joint\" => MeshCat.SceneTrees.SceneNode(nothing, UInt8[0x83, 0xa6, 0x6d, 0x61, 0x74, 0x72, 0x69, 0x78, 0xc7, 0x40  …  0x69, 0x74, 0x63, 0x68, 0x5f, 0x6a, 0x6f, 0x69, 0x6e, 0x74], Dict{String, Vector{UInt8}}(), nothing, Dict{String, MeshCat.SceneTrees.SceneNode}(\"geometry_26\" => MeshCat.SceneTrees.SceneNode(UInt8[0x83, 0xa6, 0x6f, 0x62, 0x6a, 0x65, 0x63, 0x74, 0x84, 0xaa  …  0x65, 0x6f, 0x6d, 0x65, 0x74, 0x72, 0x79, 0x5f, 0x32, 0x36], UInt8[0x83, 0xa6, 0x6d, 0x61, 0x74, 0x72, 0x69, 0x78, 0xc7, 0x40  …  0x65, 0x6f, 0x6d, 0x65, 0x74, 0x72, 0x79, 0x5f, 0x32, 0x36], Dict{String, Vector{UInt8}}(), nothing, Dict{String, MeshCat.SceneTrees.SceneNode}()))))))), \"after_left_elbow_joint\" => MeshCat.SceneTrees.SceneNode(nothing, UInt8[0x83, 0xa6, 0x6d, 0x61, 0x74, 0x72, 0x69, 0x78, 0xc7, 0x40  …  0x6c, 0x62, 0x6f, 0x77, 0x5f, 0x6a, 0x6f, 0x69, 0x6e, 0x74], Dict{String, Vector{UInt8}}(), nothing, Dict{String, MeshCat.SceneTrees.SceneNode}(\"geometry_24\" => MeshCat.SceneTrees.SceneNode(UInt8[0x83, 0xa6, 0x6f, 0x62, 0x6a, 0x65, 0x63, 0x74, 0x84, 0xaa  …  0x65, 0x6f, 0x6d, 0x65, 0x74, 0x72, 0x79, 0x5f, 0x32, 0x34], UInt8[0x83, 0xa6, 0x6d, 0x61, 0x74, 0x72, 0x69, 0x78, 0xc7, 0x40  …  0x65, 0x6f, 0x6d, 0x65, 0x74, 0x72, 0x79, 0x5f, 0x32, 0x34], Dict{String, Vector{UInt8}}(), nothing, Dict{String, MeshCat.SceneTrees.SceneNode}()))))), \"after_left_shoulder_yaw_joint\" => MeshCat.SceneTrees.SceneNode(nothing, UInt8[0x83, 0xa6, 0x6d, 0x61, 0x74, 0x72, 0x69, 0x78, 0xc7, 0x40  …  0x5f, 0x79, 0x61, 0x77, 0x5f, 0x6a, 0x6f, 0x69, 0x6e, 0x74], Dict{String, Vector{UInt8}}(), nothing, Dict{String, MeshCat.SceneTrees.SceneNode}(\"geometry_23\" => MeshCat.SceneTrees.SceneNode(UInt8[0x83, 0xa6, 0x6f, 0x62, 0x6a, 0x65, 0x63, 0x74, 0x84, 0xaa  …  0x65, 0x6f, 0x6d, 0x65, 0x74, 0x72, 0x79, 0x5f, 0x32, 0x33], UInt8[0x83, 0xa6, 0x6d, 0x61, 0x74, 0x72, 0x69, 0x78, 0xc7, 0x40  …  0x65, 0x6f, 0x6d, 0x65, 0x74, 0x72, 0x79, 0x5f, 0x32, 0x33], Dict{String, Vector{UInt8}}(), nothing, Dict{String, MeshCat.SceneTrees.SceneNode}()))))), \"after_left_shoulder_roll_joint\" => MeshCat.SceneTrees.SceneNode(nothing, UInt8[0x83, 0xa6, 0x6d, 0x61, 0x74, 0x72, 0x69, 0x78, 0xc7, 0x40  …  0x72, 0x6f, 0x6c, 0x6c, 0x5f, 0x6a, 0x6f, 0x69, 0x6e, 0x74], Dict{String, Vector{UInt8}}(), nothing, Dict{String, MeshCat.SceneTrees.SceneNode}(\"geometry_22\" => MeshCat.SceneTrees.SceneNode(UInt8[0x83, 0xa6, 0x6f, 0x62, 0x6a, 0x65, 0x63, 0x74, 0x84, 0xaa  …  0x65, 0x6f, 0x6d, 0x65, 0x74, 0x72, 0x79, 0x5f, 0x32, 0x32], UInt8[0x83, 0xa6, 0x6d, 0x61, 0x74, 0x72, 0x69, 0x78, 0xc7, 0x40  …  0x65, 0x6f, 0x6d, 0x65, 0x74, 0x72, 0x79, 0x5f, 0x32, 0x32], Dict{String, Vector{UInt8}}(), nothing, Dict{String, MeshCat.SceneTrees.SceneNode}()))))))), \"logo_link\" => MeshCat.SceneTrees.SceneNode(nothing, UInt8[0x83, 0xa6, 0x6d, 0x61, 0x74, 0x72, 0x69, 0x78, 0xc7, 0x40  …  0x2f, 0x6c, 0x6f, 0x67, 0x6f, 0x5f, 0x6c, 0x69, 0x6e, 0x6b], Dict{String, Vector{UInt8}}(), nothing, Dict{String, MeshCat.SceneTrees.SceneNode}(\"after_logo_joint\" => MeshCat.SceneTrees.SceneNode(nothing, UInt8[0x83, 0xa6, 0x6d, 0x61, 0x74, 0x72, 0x69, 0x78, 0xc7, 0x40  …  0x6c, 0x6f, 0x67, 0x6f, 0x5f, 0x6a, 0x6f, 0x69, 0x6e, 0x74], Dict{String, Vector{UInt8}}(), nothing, Dict{String, MeshCat.SceneTrees.SceneNode}(\"geometry_18\" => MeshCat.SceneTrees.SceneNode(UInt8[0x83, 0xa6, 0x6f, 0x62, 0x6a, 0x65, 0x63, 0x74, 0x84, 0xaa  …  0x65, 0x6f, 0x6d, 0x65, 0x74, 0x72, 0x79, 0x5f, 0x31, 0x38], UInt8[0x83, 0xa6, 0x6d, 0x61, 0x74, 0x72, 0x69, 0x78, 0xc7, 0x40  …  0x65, 0x6f, 0x6d, 0x65, 0x74, 0x72, 0x79, 0x5f, 0x31, 0x38], Dict{String, Vector{UInt8}}(), nothing, Dict{String, MeshCat.SceneTrees.SceneNode}()))))), \"after_waist_pitch_joint\" => MeshCat.SceneTrees.SceneNode(nothing, UInt8[0x83, 0xa6, 0x6d, 0x61, 0x74, 0x72, 0x69, 0x78, 0xc7, 0x40  …  0x69, 0x74, 0x63, 0x68, 0x5f, 0x6a, 0x6f, 0x69, 0x6e, 0x74], Dict{String, Vector{UInt8}}(), nothing, Dict{String, MeshCat.SceneTrees.SceneNode}(\"geometry_17\" => MeshCat.SceneTrees.SceneNode(UInt8[0x83, 0xa6, 0x6f, 0x62, 0x6a, 0x65, 0x63, 0x74, 0x84, 0xaa  …  0x65, 0x6f, 0x6d, 0x65, 0x74, 0x72, 0x79, 0x5f, 0x31, 0x37], UInt8[0x83, 0xa6, 0x6d, 0x61, 0x74, 0x72, 0x69, 0x78, 0xc7, 0x40  …  0x65, 0x6f, 0x6d, 0x65, 0x74, 0x72, 0x79, 0x5f, 0x31, 0x37], Dict{String, Vector{UInt8}}(), nothing, Dict{String, MeshCat.SceneTrees.SceneNode}()))), \"right_shoulder_pitch_link\" => MeshCat.SceneTrees.SceneNode(nothing, UInt8[0x83, 0xa6, 0x6d, 0x61, 0x74, 0x72, 0x69, 0x78, 0xc7, 0x40  …  0x70, 0x69, 0x74, 0x63, 0x68, 0x5f, 0x6c, 0x69, 0x6e, 0x6b], Dict{String, Vector{UInt8}}(), nothing, Dict{String, MeshCat.SceneTrees.SceneNode}(\"after_right_shoulder_pitch_joint\" => MeshCat.SceneTrees.SceneNode(nothing, UInt8[0x83, 0xa6, 0x6d, 0x61, 0x74, 0x72, 0x69, 0x78, 0xc7, 0x40  …  0x69, 0x74, 0x63, 0x68, 0x5f, 0x6a, 0x6f, 0x69, 0x6e, 0x74], Dict{String, Vector{UInt8}}(), nothing, Dict{String, MeshCat.SceneTrees.SceneNode}(\"geometry_29\" => MeshCat.SceneTrees.SceneNode(UInt8[0x83, 0xa6, 0x6f, 0x62, 0x6a, 0x65, 0x63, 0x74, 0x84, 0xaa  …  0x65, 0x6f, 0x6d, 0x65, 0x74, 0x72, 0x79, 0x5f, 0x32, 0x39], UInt8[0x83, 0xa6, 0x6d, 0x61, 0x74, 0x72, 0x69, 0x78, 0xc7, 0x40  …  0x65, 0x6f, 0x6d, 0x65, 0x74, 0x72, 0x79, 0x5f, 0x32, 0x39], Dict{String, Vector{UInt8}}(), nothing, Dict{String, MeshCat.SceneTrees.SceneNode}()))), \"right_shoulder_roll_link\" => MeshCat.SceneTrees.SceneNode(nothing, UInt8[0x83, 0xa6, 0x6d, 0x61, 0x74, 0x72, 0x69, 0x78, 0xc7, 0x40  …  0x5f, 0x72, 0x6f, 0x6c, 0x6c, 0x5f, 0x6c, 0x69, 0x6e, 0x6b], Dict{String, Vector{UInt8}}(), nothing, Dict{String, MeshCat.SceneTrees.SceneNode}(\"right_shoulder_yaw_link\" => MeshCat.SceneTrees.SceneNode(nothing, UInt8[0x83, 0xa6, 0x6d, 0x61, 0x74, 0x72, 0x69, 0x78, 0xc7, 0x40  …  0x72, 0x5f, 0x79, 0x61, 0x77, 0x5f, 0x6c, 0x69, 0x6e, 0x6b], Dict{String, Vector{UInt8}}(), nothing, Dict{String, MeshCat.SceneTrees.SceneNode}(\"right_elbow_link\" => MeshCat.SceneTrees.SceneNode(nothing, UInt8[0x83, 0xa6, 0x6d, 0x61, 0x74, 0x72, 0x69, 0x78, 0xc7, 0x40  …  0x65, 0x6c, 0x62, 0x6f, 0x77, 0x5f, 0x6c, 0x69, 0x6e, 0x6b], Dict{String, Vector{UInt8}}(), nothing, Dict{String, MeshCat.SceneTrees.SceneNode}(\"after_right_elbow_joint\" => MeshCat.SceneTrees.SceneNode(nothing, UInt8[0x83, 0xa6, 0x6d, 0x61, 0x74, 0x72, 0x69, 0x78, 0xc7, 0x40  …  0x6c, 0x62, 0x6f, 0x77, 0x5f, 0x6a, 0x6f, 0x69, 0x6e, 0x74], Dict{String, Vector{UInt8}}(), nothing, Dict{String, MeshCat.SceneTrees.SceneNode}(\"geometry_32\" => MeshCat.SceneTrees.SceneNode(UInt8[0x83, 0xa6, 0x6f, 0x62, 0x6a, 0x65, 0x63, 0x74, 0x84, 0xaa  …  0x65, 0x6f, 0x6d, 0x65, 0x74, 0x72, 0x79, 0x5f, 0x33, 0x32], UInt8[0x83, 0xa6, 0x6d, 0x61, 0x74, 0x72, 0x69, 0x78, 0xc7, 0x40  …  0x65, 0x6f, 0x6d, 0x65, 0x74, 0x72, 0x79, 0x5f, 0x33, 0x32], Dict{String, Vector{UInt8}}(), nothing, Dict{String, MeshCat.SceneTrees.SceneNode}()))), \"right_wrist_roll_link\" => MeshCat.SceneTrees.SceneNode(nothing, UInt8[0x83, 0xa6, 0x6d, 0x61, 0x74, 0x72, 0x69, 0x78, 0xc7, 0x40  …  0x5f, 0x72, 0x6f, 0x6c, 0x6c, 0x5f, 0x6c, 0x69, 0x6e, 0x6b], Dict{String, Vector{UInt8}}(), nothing, Dict{String, MeshCat.SceneTrees.SceneNode}(\"right_wrist_pitch_link\" => MeshCat.SceneTrees.SceneNode(nothing, UInt8[0x83, 0xa6, 0x6d, 0x61, 0x74, 0x72, 0x69, 0x78, 0xc7, 0x40  …  0x70, 0x69, 0x74, 0x63, 0x68, 0x5f, 0x6c, 0x69, 0x6e, 0x6b], Dict{String, Vector{UInt8}}(), nothing, Dict{String, MeshCat.SceneTrees.SceneNode}(\"after_right_wrist_pitch_joint\" => MeshCat.SceneTrees.SceneNode(nothing, UInt8[0x83, 0xa6, 0x6d, 0x61, 0x74, 0x72, 0x69, 0x78, 0xc7, 0x40  …  0x69, 0x74, 0x63, 0x68, 0x5f, 0x6a, 0x6f, 0x69, 0x6e, 0x74], Dict{String, Vector{UInt8}}(), nothing, Dict{String, MeshCat.SceneTrees.SceneNode}(\"geometry_34\" => MeshCat.SceneTrees.SceneNode(UInt8[0x83, 0xa6, 0x6f, 0x62, 0x6a, 0x65, 0x63, 0x74, 0x84, 0xaa  …  0x65, 0x6f, 0x6d, 0x65, 0x74, 0x72, 0x79, 0x5f, 0x33, 0x34], UInt8[0x83, 0xa6, 0x6d, 0x61, 0x74, 0x72, 0x69, 0x78, 0xc7, 0x40  …  0x65, 0x6f, 0x6d, 0x65, 0x74, 0x72, 0x79, 0x5f, 0x33, 0x34], Dict{String, Vector{UInt8}}(), nothing, Dict{String, MeshCat.SceneTrees.SceneNode}()))), \"right_wrist_yaw_link\" => MeshCat.SceneTrees.SceneNode(nothing, UInt8[0x83, 0xa6, 0x6d, 0x61, 0x74, 0x72, 0x69, 0x78, 0xc7, 0x40  …  0x74, 0x5f, 0x79, 0x61, 0x77, 0x5f, 0x6c, 0x69, 0x6e, 0x6b], Dict{String, Vector{UInt8}}(), nothing, Dict{String, MeshCat.SceneTrees.SceneNode}(\"after_right_wrist_yaw_joint\" => MeshCat.SceneTrees.SceneNode(nothing, UInt8[0x83, 0xa6, 0x6d, 0x61, 0x74, 0x72, 0x69, 0x78, 0xc7, 0x40  …  0x5f, 0x79, 0x61, 0x77, 0x5f, 0x6a, 0x6f, 0x69, 0x6e, 0x74], Dict{String, Vector{UInt8}}(), nothing, Dict{String, MeshCat.SceneTrees.SceneNode}(\"geometry_35\" => MeshCat.SceneTrees.SceneNode(UInt8[0x83, 0xa6, 0x6f, 0x62, 0x6a, 0x65, 0x63, 0x74, 0x84, 0xaa  …  0x65, 0x6f, 0x6d, 0x65, 0x74, 0x72, 0x79, 0x5f, 0x33, 0x35], UInt8[0x83, 0xa6, 0x6d, 0x61, 0x74, 0x72, 0x69, 0x78, 0xc7, 0x40  …  0x65, 0x6f, 0x6d, 0x65, 0x74, 0x72, 0x79, 0x5f, 0x33, 0x35], Dict{String, Vector{UInt8}}(), nothing, Dict{String, MeshCat.SceneTrees.SceneNode}()))), \"right_rubber_hand\" => MeshCat.SceneTrees.SceneNode(nothing, UInt8[0x83, 0xa6, 0x6d, 0x61, 0x74, 0x72, 0x69, 0x78, 0xc7, 0x40  …  0x75, 0x62, 0x62, 0x65, 0x72, 0x5f, 0x68, 0x61, 0x6e, 0x64], Dict{String, Vector{UInt8}}(), nothing, Dict{String, MeshCat.SceneTrees.SceneNode}(\"after_right_hand_palm_joint\" => MeshCat.SceneTrees.SceneNode(nothing, UInt8[0x83, 0xa6, 0x6d, 0x61, 0x74, 0x72, 0x69, 0x78, 0xc7, 0x40  …  0x70, 0x61, 0x6c, 0x6d, 0x5f, 0x6a, 0x6f, 0x69, 0x6e, 0x74], Dict{String, Vector{UInt8}}(), nothing, Dict{String, MeshCat.SceneTrees.SceneNode}(\"geometry_36\" => MeshCat.SceneTrees.SceneNode(UInt8[0x83, 0xa6, 0x6f, 0x62, 0x6a, 0x65, 0x63, 0x74, 0x84, 0xaa  …  0x65, 0x6f, 0x6d, 0x65, 0x74, 0x72, 0x79, 0x5f, 0x33, 0x36], UInt8[0x83, 0xa6, 0x6d, 0x61, 0x74, 0x72, 0x69, 0x78, 0xc7, 0x40  …  0x65, 0x6f, 0x6d, 0x65, 0x74, 0x72, 0x79, 0x5f, 0x33, 0x36], Dict{String, Vector{UInt8}}(), nothing, Dict{String, MeshCat.SceneTrees.SceneNode}()))))))))), \"after_right_wrist_roll_joint\" => MeshCat.SceneTrees.SceneNode(nothing, UInt8[0x83, 0xa6, 0x6d, 0x61, 0x74, 0x72, 0x69, 0x78, 0xc7, 0x40  …  0x72, 0x6f, 0x6c, 0x6c, 0x5f, 0x6a, 0x6f, 0x69, 0x6e, 0x74], Dict{String, Vector{UInt8}}(), nothing, Dict{String, MeshCat.SceneTrees.SceneNode}(\"geometry_33\" => MeshCat.SceneTrees.SceneNode(UInt8[0x83, 0xa6, 0x6f, 0x62, 0x6a, 0x65, 0x63, 0x74, 0x84, 0xaa  …  0x65, 0x6f, 0x6d, 0x65, 0x74, 0x72, 0x79, 0x5f, 0x33, 0x33], UInt8[0x83, 0xa6, 0x6d, 0x61, 0x74, 0x72, 0x69, 0x78, 0xc7, 0x40  …  0x65, 0x6f, 0x6d, 0x65, 0x74, 0x72, 0x79, 0x5f, 0x33, 0x33], Dict{String, Vector{UInt8}}(), nothing, Dict{String, MeshCat.SceneTrees.SceneNode}()))))))), \"after_right_shoulder_yaw_joint\" => MeshCat.SceneTrees.SceneNode(nothing, UInt8[0x83, 0xa6, 0x6d, 0x61, 0x74, 0x72, 0x69, 0x78, 0xc7, 0x40  …  0x5f, 0x79, 0x61, 0x77, 0x5f, 0x6a, 0x6f, 0x69, 0x6e, 0x74], Dict{String, Vector{UInt8}}(), nothing, Dict{String, MeshCat.SceneTrees.SceneNode}(\"geometry_31\" => MeshCat.SceneTrees.SceneNode(UInt8[0x83, 0xa6, 0x6f, 0x62, 0x6a, 0x65, 0x63, 0x74, 0x84, 0xaa  …  0x65, 0x6f, 0x6d, 0x65, 0x74, 0x72, 0x79, 0x5f, 0x33, 0x31], UInt8[0x83, 0xa6, 0x6d, 0x61, 0x74, 0x72, 0x69, 0x78, 0xc7, 0x40  …  0x65, 0x6f, 0x6d, 0x65, 0x74, 0x72, 0x79, 0x5f, 0x33, 0x31], Dict{String, Vector{UInt8}}(), nothing, Dict{String, MeshCat.SceneTrees.SceneNode}()))))), \"after_right_shoulder_roll_joint\" => MeshCat.SceneTrees.SceneNode(nothing, UInt8[0x83, 0xa6, 0x6d, 0x61, 0x74, 0x72, 0x69, 0x78, 0xc7, 0x40  …  0x72, 0x6f, 0x6c, 0x6c, 0x5f, 0x6a, 0x6f, 0x69, 0x6e, 0x74], Dict{String, Vector{UInt8}}(), nothing, Dict{String, MeshCat.SceneTrees.SceneNode}(\"geometry_30\" => MeshCat.SceneTrees.SceneNode(UInt8[0x83, 0xa6, 0x6f, 0x62, 0x6a, 0x65, 0x63, 0x74, 0x84, 0xaa  …  0x65, 0x6f, 0x6d, 0x65, 0x74, 0x72, 0x79, 0x5f, 0x33, 0x30], UInt8[0x83, 0xa6, 0x6d, 0x61, 0x74, 0x72, 0x69, 0x78, 0xc7, 0x40  …  0x65, 0x6f, 0x6d, 0x65, 0x74, 0x72, 0x79, 0x5f, 0x33, 0x30], Dict{String, Vector{UInt8}}(), nothing, Dict{String, MeshCat.SceneTrees.SceneNode}()))))))), \"imu_in_torso\" => MeshCat.SceneTrees.SceneNode(nothing, UInt8[0x83, 0xa6, 0x6d, 0x61, 0x74, 0x72, 0x69, 0x78, 0xc7, 0x40  …  0x75, 0x5f, 0x69, 0x6e, 0x5f, 0x74, 0x6f, 0x72, 0x73, 0x6f], Dict{String, Vector{UInt8}}(), nothing, Dict{String, MeshCat.SceneTrees.SceneNode}()), \"mid360_link\" => MeshCat.SceneTrees.SceneNode(nothing, UInt8[0x83, 0xa6, 0x6d, 0x61, 0x74, 0x72, 0x69, 0x78, 0xc7, 0x40  …  0x69, 0x64, 0x33, 0x36, 0x30, 0x5f, 0x6c, 0x69, 0x6e, 0x6b], Dict{String, Vector{UInt8}}(), nothing, Dict{String, MeshCat.SceneTrees.SceneNode}()), \"d435_link\" => MeshCat.SceneTrees.SceneNode(nothing, UInt8[0x83, 0xa6, 0x6d, 0x61, 0x74, 0x72, 0x69, 0x78, 0xc7, 0x40  …  0x2f, 0x64, 0x34, 0x33, 0x35, 0x5f, 0x6c, 0x69, 0x6e, 0x6b], Dict{String, Vector{UInt8}}(), nothing, Dict{String, MeshCat.SceneTrees.SceneNode}()), \"waist_support_link\" => MeshCat.SceneTrees.SceneNode(nothing, UInt8[0x83, 0xa6, 0x6d, 0x61, 0x74, 0x72, 0x69, 0x78, 0xc7, 0x40  …  0x70, 0x70, 0x6f, 0x72, 0x74, 0x5f, 0x6c, 0x69, 0x6e, 0x6b], Dict{String, Vector{UInt8}}(), nothing, Dict{String, MeshCat.SceneTrees.SceneNode}(\"after_waist_support_joint\" => MeshCat.SceneTrees.SceneNode(nothing, UInt8[0x83, 0xa6, 0x6d, 0x61, 0x74, 0x72, 0x69, 0x78, 0xc7, 0x40  …  0x70, 0x6f, 0x72, 0x74, 0x5f, 0x6a, 0x6f, 0x69, 0x6e, 0x74], Dict{String, Vector{UInt8}}(), nothing, Dict{String, MeshCat.SceneTrees.SceneNode}(\"geometry_20\" => MeshCat.SceneTrees.SceneNode(UInt8[0x83, 0xa6, 0x6f, 0x62, 0x6a, 0x65, 0x63, 0x74, 0x84, 0xaa  …  0x65, 0x6f, 0x6d, 0x65, 0x74, 0x72, 0x79, 0x5f, 0x32, 0x30], UInt8[0x83, 0xa6, 0x6d, 0x61, 0x74, 0x72, 0x69, 0x78, 0xc7, 0x40  …  0x65, 0x6f, 0x6d, 0x65, 0x74, 0x72, 0x79, 0x5f, 0x32, 0x30], Dict{String, Vector{UInt8}}(), nothing, Dict{String, MeshCat.SceneTrees.SceneNode}()))))), \"head_link\" => MeshCat.SceneTrees.SceneNode(nothing, UInt8[0x83, 0xa6, 0x6d, 0x61, 0x74, 0x72, 0x69, 0x78, 0xc7, 0x40  …  0x2f, 0x68, 0x65, 0x61, 0x64, 0x5f, 0x6c, 0x69, 0x6e, 0x6b], Dict{String, Vector{UInt8}}(), nothing, Dict{String, MeshCat.SceneTrees.SceneNode}(\"after_head_joint\" => MeshCat.SceneTrees.SceneNode(nothing, UInt8[0x83, 0xa6, 0x6d, 0x61, 0x74, 0x72, 0x69, 0x78, 0xc7, 0x40  …  0x68, 0x65, 0x61, 0x64, 0x5f, 0x6a, 0x6f, 0x69, 0x6e, 0x74], Dict{String, Vector{UInt8}}(), nothing, Dict{String, MeshCat.SceneTrees.SceneNode}(\"geometry_19\" => MeshCat.SceneTrees.SceneNode(UInt8[0x83, 0xa6, 0x6f, 0x62, 0x6a, 0x65, 0x63, 0x74, 0x84, 0xaa  …  0x65, 0x6f, 0x6d, 0x65, 0x74, 0x72, 0x79, 0x5f, 0x31, 0x39], UInt8[0x83, 0xa6, 0x6d, 0x61, 0x74, 0x72, 0x69, 0x78, 0xc7, 0x40  …  0x65, 0x6f, 0x6d, 0x65, 0x74, 0x72, 0x79, 0x5f, 0x31, 0x39], Dict{String, Vector{UInt8}}(), nothing, Dict{String, MeshCat.SceneTrees.SceneNode}()))))))), \"after_waist_roll_joint\" => MeshCat.SceneTrees.SceneNode(nothing, UInt8[0x83, 0xa6, 0x6d, 0x61, 0x74, 0x72, 0x69, 0x78, 0xc7, 0x40  …  0x72, 0x6f, 0x6c, 0x6c, 0x5f, 0x6a, 0x6f, 0x69, 0x6e, 0x74], Dict{String, Vector{UInt8}}(), nothing, Dict{String, MeshCat.SceneTrees.SceneNode}(\"geometry_16\" => MeshCat.SceneTrees.SceneNode(UInt8[0x83, 0xa6, 0x6f, 0x62, 0x6a, 0x65, 0x63, 0x74, 0x84, 0xaa  …  0x65, 0x6f, 0x6d, 0x65, 0x74, 0x72, 0x79, 0x5f, 0x31, 0x36], UInt8[0x83, 0xa6, 0x6d, 0x61, 0x74, 0x72, 0x69, 0x78, 0xc7, 0x40  …  0x65, 0x6f, 0x6d, 0x65, 0x74, 0x72, 0x79, 0x5f, 0x31, 0x36], Dict{String, Vector{UInt8}}(), nothing, Dict{String, MeshCat.SceneTrees.SceneNode}()))))))))), \"after_left_hip_pitch_joint\" => MeshCat.SceneTrees.SceneNode(nothing, UInt8[0x83, 0xa6, 0x6d, 0x61, 0x74, 0x72, 0x69, 0x78, 0xc7, 0x40  …  0x69, 0x74, 0x63, 0x68, 0x5f, 0x6a, 0x6f, 0x69, 0x6e, 0x74], Dict{String, Vector{UInt8}}(), nothing, Dict{String, MeshCat.SceneTrees.SceneNode}(\"geometry_3\" => MeshCat.SceneTrees.SceneNode(UInt8[0x83, 0xa6, 0x6f, 0x62, 0x6a, 0x65, 0x63, 0x74, 0x84, 0xaa  …  0x67, 0x65, 0x6f, 0x6d, 0x65, 0x74, 0x72, 0x79, 0x5f, 0x33], UInt8[0x83, 0xa6, 0x6d, 0x61, 0x74, 0x72, 0x69, 0x78, 0xc7, 0x40  …  0x67, 0x65, 0x6f, 0x6d, 0x65, 0x74, 0x72, 0x79, 0x5f, 0x33], Dict{String, Vector{UInt8}}(), nothing, Dict{String, MeshCat.SceneTrees.SceneNode}()))))), \"after_left_hip_roll_joint\" => MeshCat.SceneTrees.SceneNode(nothing, UInt8[0x83, 0xa6, 0x6d, 0x61, 0x74, 0x72, 0x69, 0x78, 0xc7, 0x40  …  0x72, 0x6f, 0x6c, 0x6c, 0x5f, 0x6a, 0x6f, 0x69, 0x6e, 0x74], Dict{String, Vector{UInt8}}(), nothing, Dict{String, MeshCat.SceneTrees.SceneNode}(\"geometry_4\" => MeshCat.SceneTrees.SceneNode(UInt8[0x83, 0xa6, 0x6f, 0x62, 0x6a, 0x65, 0x63, 0x74, 0x84, 0xaa  …  0x67, 0x65, 0x6f, 0x6d, 0x65, 0x74, 0x72, 0x79, 0x5f, 0x34], UInt8[0x83, 0xa6, 0x6d, 0x61, 0x74, 0x72, 0x69, 0x78, 0xc7, 0x40  …  0x67, 0x65, 0x6f, 0x6d, 0x65, 0x74, 0x72, 0x79, 0x5f, 0x34], Dict{String, Vector{UInt8}}(), nothing, Dict{String, MeshCat.SceneTrees.SceneNode}()))))))))))))))))))))))), Set{HTTP.WebSockets.WebSocket}(), ip\"127.0.0.1\", 8729, HTTP.Servers.Server{HTTP.Servers.Listener{Nothing, Sockets.TCPServer}}(HTTP.Servers.Listener{Nothing, Sockets.TCPServer}(Sockets.InetAddr{Sockets.IPv4}(ip\"127.0.0.1\", 8729), \"127.0.0.1\", \"8729\", nothing, Sockets.TCPServer(RawFD(106) active)), nothing, Set{HTTP.Connections.Connection}(), Task (runnable, started) @0x00007fb60b0fc650, ReentrantLock(nothing, 0x00000000, 0x00, Base.GenericCondition{Base.Threads.SpinLock}(Base.IntrusiveLinkedList{Task}(nothing, nothing), Base.Threads.SpinLock(0)), (0, 0, 431326997840))), MeshCat.AnimationContext[]))"
      ]
     },
     "execution_count": 2,
     "metadata": {},
     "output_type": "execute_result"
    }
   ],
   "source": [
    "model = G1Humanoid()\n",
    "mech = model.mech\n",
    "const x_guess = initial_state(model) # our guess state for balancing\n",
    "mvis = initialize_visualizer(model) # visualizer \n",
    "set_configuration!(mvis, x_guess[1:state_dim(model)÷2])\n",
    "foot_pos = get_right_foot_tip_location(mech, x_guess)\n",
    "println(\"Foot tip position: \", foot_pos)\n",
    "\n",
    "# Add red sphere at foot location\n",
    "foot_point = mvis.visualizer[\"foot_point\"]\n",
    "setobject!(\n",
    "    foot_point, \n",
    "    HyperSphere(Point3f(foot_pos), Float32(0.01))  # Both Float32\n",
    ")\n",
    "setprop!(foot_point, \"color\", RGB(1, 0, 0))  # Red color\n",
    "render(mvis)"
   ]
  },
  {
   "cell_type": "code",
   "execution_count": 3,
   "id": "0e5b8afd-2ac2-45d8-9027-7461fa441d34",
   "metadata": {},
   "outputs": [
    {
     "data": {
      "text/plain": [
       "merit (generic function with 1 method)"
      ]
     },
     "execution_count": 3,
     "metadata": {},
     "output_type": "execute_result"
    }
   ],
   "source": [
    "function linesearch(z::Vector, Δz::Vector, merit_fx::Function;\n",
    "                    max_ls_iters = 10)::Float64 # optional argument with a default\n",
    "\n",
    "    α = 1\n",
    "    for i = 1:max_ls_iters\n",
    "        \n",
    "        if (merit_fx(z + α * Δz) < merit_fx(z))\n",
    "            return α\n",
    "        end\n",
    "        α = α / 2\n",
    "        \n",
    "    end\n",
    "    error(\"linesearch failed\")\n",
    "end\n",
    "\n",
    "function newtons_method(z0::Vector, res_fx::Function, res_jac_fx::Function, merit_fx::Function;\n",
    "                        tol = 1e-10, max_iters = 50, verbose = false)::Vector{Vector{Float64}}\n",
    "    \n",
    "    # Computes Newton's method given the following inputs:\n",
    "    # - z0, initial guess \n",
    "    # - res_fx, residual function \n",
    "    # - res_jac_fx, Jacobian of residual function wrt z \n",
    "    # - merit_fx, merit function for use in linesearch \n",
    "    \n",
    "    # optional arguments \n",
    "    # - tol, tolerance for convergence. Return when norm(residual)<tol \n",
    "    # - max iter, max # of iterations \n",
    "    # - verbose, bool telling the function to output information at each iteration\n",
    "    \n",
    "    # return a vector of vectors containing the iterates \n",
    "    # the last vector in this vector of vectors should be the approx. solution \n",
    "    \n",
    "    # return the history of guesses as a vector\n",
    "    Z = [zeros(length(z0)) for i = 1:max_iters]\n",
    "    Z[1] = z0 \n",
    "    \n",
    "    for i = 1:(max_iters - 1)        \n",
    "        r = res_fx(Z[i]) \n",
    "        \n",
    "        norm_r = norm(r) \n",
    "        if verbose \n",
    "            print(\"iter: $i    |r|: $norm_r   \")\n",
    "        end\n",
    "        \n",
    "        # if converged, return Z[1:i]\n",
    "        if norm_r < tol\n",
    "            return Z[1:i]\n",
    "        end\n",
    "        \n",
    "        Δz = -1 *  res_jac_fx(Z[i]) \\ res_fx(Z[i])\n",
    "        \n",
    "        α = linesearch(Z[i], Δz, merit_fx)\n",
    "\n",
    "        Z[i+1] = Z[i] .+ α*Δz\n",
    "\n",
    "        if verbose\n",
    "            print(\"α: $α \\n\")\n",
    "        end\n",
    "        \n",
    "    end\n",
    "    error(\"Newton's method did not converge\")\n",
    "end\n",
    "function merit(z)\n",
    "    # merit function\n",
    "    r = kkt(z)\n",
    "    return norm(r[1:94]) + 1e4*norm(r[94:end])\n",
    "end"
   ]
  },
  {
   "cell_type": "code",
   "execution_count": 4,
   "id": "1b592245-8ad0-43cc-97dd-166a64d35566",
   "metadata": {
    "scrolled": true
   },
   "outputs": [
    {
     "name": "stderr",
     "output_type": "stream",
     "text": [
      "WARNING: redefinition of constant Main.x_guess. This may fail, cause incorrect answers, or produce other errors.\n"
     ]
    },
    {
     "name": "stdout",
     "output_type": "stream",
     "text": [
      "[-0.36974168511631605, -0.18129216838310608, 0.28428794901543925]\n",
      "Equilibrium found! 6.824357431475766e-12\n"
     ]
    },
    {
     "data": {
      "text/html": [
       "    <div style=\"height: 500px; width: 100%; overflow-x: auto; overflow-y: hidden; resize: both\">\n",
       "    <iframe src=\"http://127.0.0.1:8729\" style=\"width: 100%; height: 100%; border: none\"></iframe>\n",
       "    </div>\n"
      ],
      "text/plain": [
       "MeshCat.DisplayedVisualizer(MeshCat.CoreVisualizer(MeshCat.SceneTrees.SceneNode(nothing, nothing, Dict{String, Vector{UInt8}}(), nothing, Dict{String, MeshCat.SceneTrees.SceneNode}(\"meshcat\" => MeshCat.SceneTrees.SceneNode(nothing, nothing, Dict{String, Vector{UInt8}}(), nothing, Dict{String, MeshCat.SceneTrees.SceneNode}(\"foot_point\" => MeshCat.SceneTrees.SceneNode(UInt8[0x83, 0xa6, 0x6f, 0x62, 0x6a, 0x65, 0x63, 0x74, 0x84, 0xaa  …  0x66, 0x6f, 0x6f, 0x74, 0x5f, 0x70, 0x6f, 0x69, 0x6e, 0x74], nothing, Dict{String, Vector{UInt8}}(\"color\" => [0x84, 0xa8, 0x70, 0x72, 0x6f, 0x70, 0x65, 0x72, 0x74, 0x79  …  0x66, 0x6f, 0x6f, 0x74, 0x5f, 0x70, 0x6f, 0x69, 0x6e, 0x74]), nothing, Dict{String, MeshCat.SceneTrees.SceneNode}()), \"world\" => MeshCat.SceneTrees.SceneNode(nothing, nothing, Dict{String, Vector{UInt8}}(), nothing, Dict{String, MeshCat.SceneTrees.SceneNode}(\"dummy1\" => MeshCat.SceneTrees.SceneNode(nothing, UInt8[0x83, 0xa6, 0x6d, 0x61, 0x74, 0x72, 0x69, 0x78, 0xc7, 0x40  …  0x72, 0x6c, 0x64, 0x2f, 0x64, 0x75, 0x6d, 0x6d, 0x79, 0x31], Dict{String, Vector{UInt8}}(), nothing, Dict{String, MeshCat.SceneTrees.SceneNode}(\"dummy2\" => MeshCat.SceneTrees.SceneNode(nothing, UInt8[0x83, 0xa6, 0x6d, 0x61, 0x74, 0x72, 0x69, 0x78, 0xc7, 0x40  …  0x6d, 0x79, 0x31, 0x2f, 0x64, 0x75, 0x6d, 0x6d, 0x79, 0x32], Dict{String, Vector{UInt8}}(), nothing, Dict{String, MeshCat.SceneTrees.SceneNode}(\"left_ankle_roll_link\" => MeshCat.SceneTrees.SceneNode(nothing, UInt8[0x83, 0xa6, 0x6d, 0x61, 0x74, 0x72, 0x69, 0x78, 0xc7, 0x40  …  0x5f, 0x72, 0x6f, 0x6c, 0x6c, 0x5f, 0x6c, 0x69, 0x6e, 0x6b], Dict{String, Vector{UInt8}}(), nothing, Dict{String, MeshCat.SceneTrees.SceneNode}(\"after_left_ankle_roll_joint\" => MeshCat.SceneTrees.SceneNode(nothing, UInt8[0x83, 0xa6, 0x6d, 0x61, 0x74, 0x72, 0x69, 0x78, 0xc7, 0x40  …  0x72, 0x6f, 0x6c, 0x6c, 0x5f, 0x6a, 0x6f, 0x69, 0x6e, 0x74], Dict{String, Vector{UInt8}}(), nothing, Dict{String, MeshCat.SceneTrees.SceneNode}(\"geometry_8\" => MeshCat.SceneTrees.SceneNode(UInt8[0x83, 0xa6, 0x6f, 0x62, 0x6a, 0x65, 0x63, 0x74, 0x84, 0xaa  …  0x67, 0x65, 0x6f, 0x6d, 0x65, 0x74, 0x72, 0x79, 0x5f, 0x38], UInt8[0x83, 0xa6, 0x6d, 0x61, 0x74, 0x72, 0x69, 0x78, 0xc7, 0x40  …  0x67, 0x65, 0x6f, 0x6d, 0x65, 0x74, 0x72, 0x79, 0x5f, 0x38], Dict{String, Vector{UInt8}}(), nothing, Dict{String, MeshCat.SceneTrees.SceneNode}()))), \"left_ankle_pitch_link\" => MeshCat.SceneTrees.SceneNode(nothing, UInt8[0x83, 0xa6, 0x6d, 0x61, 0x74, 0x72, 0x69, 0x78, 0xc7, 0x40  …  0x70, 0x69, 0x74, 0x63, 0x68, 0x5f, 0x6c, 0x69, 0x6e, 0x6b], Dict{String, Vector{UInt8}}(), nothing, Dict{String, MeshCat.SceneTrees.SceneNode}(\"after_left_ankle_pitch_joint\" => MeshCat.SceneTrees.SceneNode(nothing, UInt8[0x83, 0xa6, 0x6d, 0x61, 0x74, 0x72, 0x69, 0x78, 0xc7, 0x40  …  0x69, 0x74, 0x63, 0x68, 0x5f, 0x6a, 0x6f, 0x69, 0x6e, 0x74], Dict{String, Vector{UInt8}}(), nothing, Dict{String, MeshCat.SceneTrees.SceneNode}(\"geometry_7\" => MeshCat.SceneTrees.SceneNode(UInt8[0x83, 0xa6, 0x6f, 0x62, 0x6a, 0x65, 0x63, 0x74, 0x84, 0xaa  …  0x67, 0x65, 0x6f, 0x6d, 0x65, 0x74, 0x72, 0x79, 0x5f, 0x37], UInt8[0x83, 0xa6, 0x6d, 0x61, 0x74, 0x72, 0x69, 0x78, 0xc7, 0x40  …  0x67, 0x65, 0x6f, 0x6d, 0x65, 0x74, 0x72, 0x79, 0x5f, 0x37], Dict{String, Vector{UInt8}}(), nothing, Dict{String, MeshCat.SceneTrees.SceneNode}()))), \"left_knee_link\" => MeshCat.SceneTrees.SceneNode(nothing, UInt8[0x83, 0xa6, 0x6d, 0x61, 0x74, 0x72, 0x69, 0x78, 0xc7, 0x40  …  0x5f, 0x6b, 0x6e, 0x65, 0x65, 0x5f, 0x6c, 0x69, 0x6e, 0x6b], Dict{String, Vector{UInt8}}(), nothing, Dict{String, MeshCat.SceneTrees.SceneNode}(\"after_left_knee_joint\" => MeshCat.SceneTrees.SceneNode(nothing, UInt8[0x83, 0xa6, 0x6d, 0x61, 0x74, 0x72, 0x69, 0x78, 0xc7, 0x40  …  0x6b, 0x6e, 0x65, 0x65, 0x5f, 0x6a, 0x6f, 0x69, 0x6e, 0x74], Dict{String, Vector{UInt8}}(), nothing, Dict{String, MeshCat.SceneTrees.SceneNode}(\"geometry_6\" => MeshCat.SceneTrees.SceneNode(UInt8[0x83, 0xa6, 0x6f, 0x62, 0x6a, 0x65, 0x63, 0x74, 0x84, 0xaa  …  0x67, 0x65, 0x6f, 0x6d, 0x65, 0x74, 0x72, 0x79, 0x5f, 0x36], UInt8[0x83, 0xa6, 0x6d, 0x61, 0x74, 0x72, 0x69, 0x78, 0xc7, 0x40  …  0x67, 0x65, 0x6f, 0x6d, 0x65, 0x74, 0x72, 0x79, 0x5f, 0x36], Dict{String, Vector{UInt8}}(), nothing, Dict{String, MeshCat.SceneTrees.SceneNode}()))), \"left_hip_yaw_link\" => MeshCat.SceneTrees.SceneNode(nothing, UInt8[0x83, 0xa6, 0x6d, 0x61, 0x74, 0x72, 0x69, 0x78, 0xc7, 0x40  …  0x70, 0x5f, 0x79, 0x61, 0x77, 0x5f, 0x6c, 0x69, 0x6e, 0x6b], Dict{String, Vector{UInt8}}(), nothing, Dict{String, MeshCat.SceneTrees.SceneNode}(\"after_left_hip_yaw_joint\" => MeshCat.SceneTrees.SceneNode(nothing, UInt8[0x83, 0xa6, 0x6d, 0x61, 0x74, 0x72, 0x69, 0x78, 0xc7, 0x40  …  0x5f, 0x79, 0x61, 0x77, 0x5f, 0x6a, 0x6f, 0x69, 0x6e, 0x74], Dict{String, Vector{UInt8}}(), nothing, Dict{String, MeshCat.SceneTrees.SceneNode}(\"geometry_5\" => MeshCat.SceneTrees.SceneNode(UInt8[0x83, 0xa6, 0x6f, 0x62, 0x6a, 0x65, 0x63, 0x74, 0x84, 0xaa  …  0x67, 0x65, 0x6f, 0x6d, 0x65, 0x74, 0x72, 0x79, 0x5f, 0x35], UInt8[0x83, 0xa6, 0x6d, 0x61, 0x74, 0x72, 0x69, 0x78, 0xc7, 0x40  …  0x67, 0x65, 0x6f, 0x6d, 0x65, 0x74, 0x72, 0x79, 0x5f, 0x35], Dict{String, Vector{UInt8}}(), nothing, Dict{String, MeshCat.SceneTrees.SceneNode}()))), \"left_hip_roll_link\" => MeshCat.SceneTrees.SceneNode(nothing, UInt8[0x83, 0xa6, 0x6d, 0x61, 0x74, 0x72, 0x69, 0x78, 0xc7, 0x40  …  0x5f, 0x72, 0x6f, 0x6c, 0x6c, 0x5f, 0x6c, 0x69, 0x6e, 0x6b], Dict{String, Vector{UInt8}}(), nothing, Dict{String, MeshCat.SceneTrees.SceneNode}(\"left_hip_pitch_link\" => MeshCat.SceneTrees.SceneNode(nothing, UInt8[0x83, 0xa6, 0x6d, 0x61, 0x74, 0x72, 0x69, 0x78, 0xc7, 0x40  …  0x70, 0x69, 0x74, 0x63, 0x68, 0x5f, 0x6c, 0x69, 0x6e, 0x6b], Dict{String, Vector{UInt8}}(), nothing, Dict{String, MeshCat.SceneTrees.SceneNode}(\"pelvis\" => MeshCat.SceneTrees.SceneNode(nothing, UInt8[0x83, 0xa6, 0x6d, 0x61, 0x74, 0x72, 0x69, 0x78, 0xc7, 0x40  …  0x69, 0x6e, 0x6b, 0x2f, 0x70, 0x65, 0x6c, 0x76, 0x69, 0x73], Dict{String, Vector{UInt8}}(), nothing, Dict{String, MeshCat.SceneTrees.SceneNode}(\"imu_in_pelvis\" => MeshCat.SceneTrees.SceneNode(nothing, UInt8[0x83, 0xa6, 0x6d, 0x61, 0x74, 0x72, 0x69, 0x78, 0xc7, 0x40  …  0x5f, 0x69, 0x6e, 0x5f, 0x70, 0x65, 0x6c, 0x76, 0x69, 0x73], Dict{String, Vector{UInt8}}(), nothing, Dict{String, MeshCat.SceneTrees.SceneNode}()), \"right_hip_pitch_link\" => MeshCat.SceneTrees.SceneNode(nothing, UInt8[0x83, 0xa6, 0x6d, 0x61, 0x74, 0x72, 0x69, 0x78, 0xc7, 0x40  …  0x70, 0x69, 0x74, 0x63, 0x68, 0x5f, 0x6c, 0x69, 0x6e, 0x6b], Dict{String, Vector{UInt8}}(), nothing, Dict{String, MeshCat.SceneTrees.SceneNode}(\"right_hip_roll_link\" => MeshCat.SceneTrees.SceneNode(nothing, UInt8[0x83, 0xa6, 0x6d, 0x61, 0x74, 0x72, 0x69, 0x78, 0xc7, 0x40  …  0x5f, 0x72, 0x6f, 0x6c, 0x6c, 0x5f, 0x6c, 0x69, 0x6e, 0x6b], Dict{String, Vector{UInt8}}(), nothing, Dict{String, MeshCat.SceneTrees.SceneNode}(\"after_right_hip_roll_joint\" => MeshCat.SceneTrees.SceneNode(nothing, UInt8[0x83, 0xa6, 0x6d, 0x61, 0x74, 0x72, 0x69, 0x78, 0xc7, 0x40  …  0x72, 0x6f, 0x6c, 0x6c, 0x5f, 0x6a, 0x6f, 0x69, 0x6e, 0x74], Dict{String, Vector{UInt8}}(), nothing, Dict{String, MeshCat.SceneTrees.SceneNode}(\"geometry_10\" => MeshCat.SceneTrees.SceneNode(UInt8[0x83, 0xa6, 0x6f, 0x62, 0x6a, 0x65, 0x63, 0x74, 0x84, 0xaa  …  0x65, 0x6f, 0x6d, 0x65, 0x74, 0x72, 0x79, 0x5f, 0x31, 0x30], UInt8[0x83, 0xa6, 0x6d, 0x61, 0x74, 0x72, 0x69, 0x78, 0xc7, 0x40  …  0x65, 0x6f, 0x6d, 0x65, 0x74, 0x72, 0x79, 0x5f, 0x31, 0x30], Dict{String, Vector{UInt8}}(), nothing, Dict{String, MeshCat.SceneTrees.SceneNode}()))), \"right_hip_yaw_link\" => MeshCat.SceneTrees.SceneNode(nothing, UInt8[0x83, 0xa6, 0x6d, 0x61, 0x74, 0x72, 0x69, 0x78, 0xc7, 0x40  …  0x70, 0x5f, 0x79, 0x61, 0x77, 0x5f, 0x6c, 0x69, 0x6e, 0x6b], Dict{String, Vector{UInt8}}(), nothing, Dict{String, MeshCat.SceneTrees.SceneNode}(\"right_knee_link\" => MeshCat.SceneTrees.SceneNode(nothing, UInt8[0x83, 0xa6, 0x6d, 0x61, 0x74, 0x72, 0x69, 0x78, 0xc7, 0x40  …  0x5f, 0x6b, 0x6e, 0x65, 0x65, 0x5f, 0x6c, 0x69, 0x6e, 0x6b], Dict{String, Vector{UInt8}}(), nothing, Dict{String, MeshCat.SceneTrees.SceneNode}(\"right_ankle_pitch_link\" => MeshCat.SceneTrees.SceneNode(nothing, UInt8[0x83, 0xa6, 0x6d, 0x61, 0x74, 0x72, 0x69, 0x78, 0xc7, 0x40  …  0x70, 0x69, 0x74, 0x63, 0x68, 0x5f, 0x6c, 0x69, 0x6e, 0x6b], Dict{String, Vector{UInt8}}(), nothing, Dict{String, MeshCat.SceneTrees.SceneNode}(\"after_right_ankle_pitch_joint\" => MeshCat.SceneTrees.SceneNode(nothing, UInt8[0x83, 0xa6, 0x6d, 0x61, 0x74, 0x72, 0x69, 0x78, 0xc7, 0x40  …  0x69, 0x74, 0x63, 0x68, 0x5f, 0x6a, 0x6f, 0x69, 0x6e, 0x74], Dict{String, Vector{UInt8}}(), nothing, Dict{String, MeshCat.SceneTrees.SceneNode}(\"geometry_13\" => MeshCat.SceneTrees.SceneNode(UInt8[0x83, 0xa6, 0x6f, 0x62, 0x6a, 0x65, 0x63, 0x74, 0x84, 0xaa  …  0x65, 0x6f, 0x6d, 0x65, 0x74, 0x72, 0x79, 0x5f, 0x31, 0x33], UInt8[0x83, 0xa6, 0x6d, 0x61, 0x74, 0x72, 0x69, 0x78, 0xc7, 0x40  …  0x65, 0x6f, 0x6d, 0x65, 0x74, 0x72, 0x79, 0x5f, 0x31, 0x33], Dict{String, Vector{UInt8}}(), nothing, Dict{String, MeshCat.SceneTrees.SceneNode}()))), \"right_ankle_roll_link\" => MeshCat.SceneTrees.SceneNode(nothing, UInt8[0x83, 0xa6, 0x6d, 0x61, 0x74, 0x72, 0x69, 0x78, 0xc7, 0x40  …  0x5f, 0x72, 0x6f, 0x6c, 0x6c, 0x5f, 0x6c, 0x69, 0x6e, 0x6b], Dict{String, Vector{UInt8}}(), nothing, Dict{String, MeshCat.SceneTrees.SceneNode}(\"after_right_ankle_roll_joint\" => MeshCat.SceneTrees.SceneNode(nothing, UInt8[0x83, 0xa6, 0x6d, 0x61, 0x74, 0x72, 0x69, 0x78, 0xc7, 0x40  …  0x72, 0x6f, 0x6c, 0x6c, 0x5f, 0x6a, 0x6f, 0x69, 0x6e, 0x74], Dict{String, Vector{UInt8}}(), nothing, Dict{String, MeshCat.SceneTrees.SceneNode}(\"geometry_14\" => MeshCat.SceneTrees.SceneNode(UInt8[0x83, 0xa6, 0x6f, 0x62, 0x6a, 0x65, 0x63, 0x74, 0x84, 0xaa  …  0x65, 0x6f, 0x6d, 0x65, 0x74, 0x72, 0x79, 0x5f, 0x31, 0x34], UInt8[0x83, 0xa6, 0x6d, 0x61, 0x74, 0x72, 0x69, 0x78, 0xc7, 0x40  …  0x65, 0x6f, 0x6d, 0x65, 0x74, 0x72, 0x79, 0x5f, 0x31, 0x34], Dict{String, Vector{UInt8}}(), nothing, Dict{String, MeshCat.SceneTrees.SceneNode}()))))))), \"after_right_knee_joint\" => MeshCat.SceneTrees.SceneNode(nothing, UInt8[0x83, 0xa6, 0x6d, 0x61, 0x74, 0x72, 0x69, 0x78, 0xc7, 0x40  …  0x6b, 0x6e, 0x65, 0x65, 0x5f, 0x6a, 0x6f, 0x69, 0x6e, 0x74], Dict{String, Vector{UInt8}}(), nothing, Dict{String, MeshCat.SceneTrees.SceneNode}(\"geometry_12\" => MeshCat.SceneTrees.SceneNode(UInt8[0x83, 0xa6, 0x6f, 0x62, 0x6a, 0x65, 0x63, 0x74, 0x84, 0xaa  …  0x65, 0x6f, 0x6d, 0x65, 0x74, 0x72, 0x79, 0x5f, 0x31, 0x32], UInt8[0x83, 0xa6, 0x6d, 0x61, 0x74, 0x72, 0x69, 0x78, 0xc7, 0x40  …  0x65, 0x6f, 0x6d, 0x65, 0x74, 0x72, 0x79, 0x5f, 0x31, 0x32], Dict{String, Vector{UInt8}}(), nothing, Dict{String, MeshCat.SceneTrees.SceneNode}()))))), \"after_right_hip_yaw_joint\" => MeshCat.SceneTrees.SceneNode(nothing, UInt8[0x83, 0xa6, 0x6d, 0x61, 0x74, 0x72, 0x69, 0x78, 0xc7, 0x40  …  0x5f, 0x79, 0x61, 0x77, 0x5f, 0x6a, 0x6f, 0x69, 0x6e, 0x74], Dict{String, Vector{UInt8}}(), nothing, Dict{String, MeshCat.SceneTrees.SceneNode}(\"geometry_11\" => MeshCat.SceneTrees.SceneNode(UInt8[0x83, 0xa6, 0x6f, 0x62, 0x6a, 0x65, 0x63, 0x74, 0x84, 0xaa  …  0x65, 0x6f, 0x6d, 0x65, 0x74, 0x72, 0x79, 0x5f, 0x31, 0x31], UInt8[0x83, 0xa6, 0x6d, 0x61, 0x74, 0x72, 0x69, 0x78, 0xc7, 0x40  …  0x65, 0x6f, 0x6d, 0x65, 0x74, 0x72, 0x79, 0x5f, 0x31, 0x31], Dict{String, Vector{UInt8}}(), nothing, Dict{String, MeshCat.SceneTrees.SceneNode}()))))))), \"after_right_hip_pitch_joint\" => MeshCat.SceneTrees.SceneNode(nothing, UInt8[0x83, 0xa6, 0x6d, 0x61, 0x74, 0x72, 0x69, 0x78, 0xc7, 0x40  …  0x69, 0x74, 0x63, 0x68, 0x5f, 0x6a, 0x6f, 0x69, 0x6e, 0x74], Dict{String, Vector{UInt8}}(), nothing, Dict{String, MeshCat.SceneTrees.SceneNode}(\"geometry_9\" => MeshCat.SceneTrees.SceneNode(UInt8[0x83, 0xa6, 0x6f, 0x62, 0x6a, 0x65, 0x63, 0x74, 0x84, 0xaa  …  0x67, 0x65, 0x6f, 0x6d, 0x65, 0x74, 0x72, 0x79, 0x5f, 0x39], UInt8[0x83, 0xa6, 0x6d, 0x61, 0x74, 0x72, 0x69, 0x78, 0xc7, 0x40  …  0x67, 0x65, 0x6f, 0x6d, 0x65, 0x74, 0x72, 0x79, 0x5f, 0x39], Dict{String, Vector{UInt8}}(), nothing, Dict{String, MeshCat.SceneTrees.SceneNode}()))))), \"pelvis\" => MeshCat.SceneTrees.SceneNode(nothing, UInt8[0x83, 0xa6, 0x6d, 0x61, 0x74, 0x72, 0x69, 0x78, 0xc7, 0x40  …  0x76, 0x69, 0x73, 0x2f, 0x70, 0x65, 0x6c, 0x76, 0x69, 0x73], Dict{String, Vector{UInt8}}(), nothing, Dict{String, MeshCat.SceneTrees.SceneNode}(\"geometry_1\" => MeshCat.SceneTrees.SceneNode(UInt8[0x83, 0xa6, 0x6f, 0x62, 0x6a, 0x65, 0x63, 0x74, 0x84, 0xaa  …  0x67, 0x65, 0x6f, 0x6d, 0x65, 0x74, 0x72, 0x79, 0x5f, 0x31], UInt8[0x83, 0xa6, 0x6d, 0x61, 0x74, 0x72, 0x69, 0x78, 0xc7, 0x40  …  0x67, 0x65, 0x6f, 0x6d, 0x65, 0x74, 0x72, 0x79, 0x5f, 0x31], Dict{String, Vector{UInt8}}(), nothing, Dict{String, MeshCat.SceneTrees.SceneNode}()))), \"pelvis_contour_link\" => MeshCat.SceneTrees.SceneNode(nothing, UInt8[0x83, 0xa6, 0x6d, 0x61, 0x74, 0x72, 0x69, 0x78, 0xc7, 0x40  …  0x6e, 0x74, 0x6f, 0x75, 0x72, 0x5f, 0x6c, 0x69, 0x6e, 0x6b], Dict{String, Vector{UInt8}}(), nothing, Dict{String, MeshCat.SceneTrees.SceneNode}(\"after_pelvis_contour_joint\" => MeshCat.SceneTrees.SceneNode(nothing, UInt8[0x83, 0xa6, 0x6d, 0x61, 0x74, 0x72, 0x69, 0x78, 0xc7, 0x40  …  0x74, 0x6f, 0x75, 0x72, 0x5f, 0x6a, 0x6f, 0x69, 0x6e, 0x74], Dict{String, Vector{UInt8}}(), nothing, Dict{String, MeshCat.SceneTrees.SceneNode}(\"geometry_2\" => MeshCat.SceneTrees.SceneNode(UInt8[0x83, 0xa6, 0x6f, 0x62, 0x6a, 0x65, 0x63, 0x74, 0x84, 0xaa  …  0x67, 0x65, 0x6f, 0x6d, 0x65, 0x74, 0x72, 0x79, 0x5f, 0x32], UInt8[0x83, 0xa6, 0x6d, 0x61, 0x74, 0x72, 0x69, 0x78, 0xc7, 0x40  …  0x67, 0x65, 0x6f, 0x6d, 0x65, 0x74, 0x72, 0x79, 0x5f, 0x32], Dict{String, Vector{UInt8}}(), nothing, Dict{String, MeshCat.SceneTrees.SceneNode}()))))), \"waist_yaw_link\" => MeshCat.SceneTrees.SceneNode(nothing, UInt8[0x83, 0xa6, 0x6d, 0x61, 0x74, 0x72, 0x69, 0x78, 0xc7, 0x40  …  0x74, 0x5f, 0x79, 0x61, 0x77, 0x5f, 0x6c, 0x69, 0x6e, 0x6b], Dict{String, Vector{UInt8}}(), nothing, Dict{String, MeshCat.SceneTrees.SceneNode}(\"after_waist_yaw_joint\" => MeshCat.SceneTrees.SceneNode(nothing, UInt8[0x83, 0xa6, 0x6d, 0x61, 0x74, 0x72, 0x69, 0x78, 0xc7, 0x40  …  0x5f, 0x79, 0x61, 0x77, 0x5f, 0x6a, 0x6f, 0x69, 0x6e, 0x74], Dict{String, Vector{UInt8}}(), nothing, Dict{String, MeshCat.SceneTrees.SceneNode}(\"geometry_15\" => MeshCat.SceneTrees.SceneNode(UInt8[0x83, 0xa6, 0x6f, 0x62, 0x6a, 0x65, 0x63, 0x74, 0x84, 0xaa  …  0x65, 0x6f, 0x6d, 0x65, 0x74, 0x72, 0x79, 0x5f, 0x31, 0x35], UInt8[0x83, 0xa6, 0x6d, 0x61, 0x74, 0x72, 0x69, 0x78, 0xc7, 0x40  …  0x65, 0x6f, 0x6d, 0x65, 0x74, 0x72, 0x79, 0x5f, 0x31, 0x35], Dict{String, Vector{UInt8}}(), nothing, Dict{String, MeshCat.SceneTrees.SceneNode}()))), \"waist_roll_link\" => MeshCat.SceneTrees.SceneNode(nothing, UInt8[0x83, 0xa6, 0x6d, 0x61, 0x74, 0x72, 0x69, 0x78, 0xc7, 0x40  …  0x5f, 0x72, 0x6f, 0x6c, 0x6c, 0x5f, 0x6c, 0x69, 0x6e, 0x6b], Dict{String, Vector{UInt8}}(), nothing, Dict{String, MeshCat.SceneTrees.SceneNode}(\"torso_link\" => MeshCat.SceneTrees.SceneNode(nothing, UInt8[0x83, 0xa6, 0x6d, 0x61, 0x74, 0x72, 0x69, 0x78, 0xc7, 0x40  …  0x74, 0x6f, 0x72, 0x73, 0x6f, 0x5f, 0x6c, 0x69, 0x6e, 0x6b], Dict{String, Vector{UInt8}}(), nothing, Dict{String, MeshCat.SceneTrees.SceneNode}(\"left_shoulder_pitch_link\" => MeshCat.SceneTrees.SceneNode(nothing, UInt8[0x83, 0xa6, 0x6d, 0x61, 0x74, 0x72, 0x69, 0x78, 0xc7, 0x40  …  0x70, 0x69, 0x74, 0x63, 0x68, 0x5f, 0x6c, 0x69, 0x6e, 0x6b], Dict{String, Vector{UInt8}}(), nothing, Dict{String, MeshCat.SceneTrees.SceneNode}(\"after_left_shoulder_pitch_joint\" => MeshCat.SceneTrees.SceneNode(nothing, UInt8[0x83, 0xa6, 0x6d, 0x61, 0x74, 0x72, 0x69, 0x78, 0xc7, 0x40  …  0x69, 0x74, 0x63, 0x68, 0x5f, 0x6a, 0x6f, 0x69, 0x6e, 0x74], Dict{String, Vector{UInt8}}(), nothing, Dict{String, MeshCat.SceneTrees.SceneNode}(\"geometry_21\" => MeshCat.SceneTrees.SceneNode(UInt8[0x83, 0xa6, 0x6f, 0x62, 0x6a, 0x65, 0x63, 0x74, 0x84, 0xaa  …  0x65, 0x6f, 0x6d, 0x65, 0x74, 0x72, 0x79, 0x5f, 0x32, 0x31], UInt8[0x83, 0xa6, 0x6d, 0x61, 0x74, 0x72, 0x69, 0x78, 0xc7, 0x40  …  0x65, 0x6f, 0x6d, 0x65, 0x74, 0x72, 0x79, 0x5f, 0x32, 0x31], Dict{String, Vector{UInt8}}(), nothing, Dict{String, MeshCat.SceneTrees.SceneNode}()))), \"left_shoulder_roll_link\" => MeshCat.SceneTrees.SceneNode(nothing, UInt8[0x83, 0xa6, 0x6d, 0x61, 0x74, 0x72, 0x69, 0x78, 0xc7, 0x40  …  0x5f, 0x72, 0x6f, 0x6c, 0x6c, 0x5f, 0x6c, 0x69, 0x6e, 0x6b], Dict{String, Vector{UInt8}}(), nothing, Dict{String, MeshCat.SceneTrees.SceneNode}(\"left_shoulder_yaw_link\" => MeshCat.SceneTrees.SceneNode(nothing, UInt8[0x83, 0xa6, 0x6d, 0x61, 0x74, 0x72, 0x69, 0x78, 0xc7, 0x40  …  0x72, 0x5f, 0x79, 0x61, 0x77, 0x5f, 0x6c, 0x69, 0x6e, 0x6b], Dict{String, Vector{UInt8}}(), nothing, Dict{String, MeshCat.SceneTrees.SceneNode}(\"left_elbow_link\" => MeshCat.SceneTrees.SceneNode(nothing, UInt8[0x83, 0xa6, 0x6d, 0x61, 0x74, 0x72, 0x69, 0x78, 0xc7, 0x40  …  0x65, 0x6c, 0x62, 0x6f, 0x77, 0x5f, 0x6c, 0x69, 0x6e, 0x6b], Dict{String, Vector{UInt8}}(), nothing, Dict{String, MeshCat.SceneTrees.SceneNode}(\"left_wrist_roll_link\" => MeshCat.SceneTrees.SceneNode(nothing, UInt8[0x83, 0xa6, 0x6d, 0x61, 0x74, 0x72, 0x69, 0x78, 0xc7, 0x40  …  0x5f, 0x72, 0x6f, 0x6c, 0x6c, 0x5f, 0x6c, 0x69, 0x6e, 0x6b], Dict{String, Vector{UInt8}}(), nothing, Dict{String, MeshCat.SceneTrees.SceneNode}(\"after_left_wrist_roll_joint\" => MeshCat.SceneTrees.SceneNode(nothing, UInt8[0x83, 0xa6, 0x6d, 0x61, 0x74, 0x72, 0x69, 0x78, 0xc7, 0x40  …  0x72, 0x6f, 0x6c, 0x6c, 0x5f, 0x6a, 0x6f, 0x69, 0x6e, 0x74], Dict{String, Vector{UInt8}}(), nothing, Dict{String, MeshCat.SceneTrees.SceneNode}(\"geometry_25\" => MeshCat.SceneTrees.SceneNode(UInt8[0x83, 0xa6, 0x6f, 0x62, 0x6a, 0x65, 0x63, 0x74, 0x84, 0xaa  …  0x65, 0x6f, 0x6d, 0x65, 0x74, 0x72, 0x79, 0x5f, 0x32, 0x35], UInt8[0x83, 0xa6, 0x6d, 0x61, 0x74, 0x72, 0x69, 0x78, 0xc7, 0x40  …  0x65, 0x6f, 0x6d, 0x65, 0x74, 0x72, 0x79, 0x5f, 0x32, 0x35], Dict{String, Vector{UInt8}}(), nothing, Dict{String, MeshCat.SceneTrees.SceneNode}()))), \"left_wrist_pitch_link\" => MeshCat.SceneTrees.SceneNode(nothing, UInt8[0x83, 0xa6, 0x6d, 0x61, 0x74, 0x72, 0x69, 0x78, 0xc7, 0x40  …  0x70, 0x69, 0x74, 0x63, 0x68, 0x5f, 0x6c, 0x69, 0x6e, 0x6b], Dict{String, Vector{UInt8}}(), nothing, Dict{String, MeshCat.SceneTrees.SceneNode}(\"left_wrist_yaw_link\" => MeshCat.SceneTrees.SceneNode(nothing, UInt8[0x83, 0xa6, 0x6d, 0x61, 0x74, 0x72, 0x69, 0x78, 0xc7, 0x40  …  0x74, 0x5f, 0x79, 0x61, 0x77, 0x5f, 0x6c, 0x69, 0x6e, 0x6b], Dict{String, Vector{UInt8}}(), nothing, Dict{String, MeshCat.SceneTrees.SceneNode}(\"left_rubber_hand\" => MeshCat.SceneTrees.SceneNode(nothing, UInt8[0x83, 0xa6, 0x6d, 0x61, 0x74, 0x72, 0x69, 0x78, 0xc7, 0x40  …  0x75, 0x62, 0x62, 0x65, 0x72, 0x5f, 0x68, 0x61, 0x6e, 0x64], Dict{String, Vector{UInt8}}(), nothing, Dict{String, MeshCat.SceneTrees.SceneNode}(\"after_left_hand_palm_joint\" => MeshCat.SceneTrees.SceneNode(nothing, UInt8[0x83, 0xa6, 0x6d, 0x61, 0x74, 0x72, 0x69, 0x78, 0xc7, 0x40  …  0x70, 0x61, 0x6c, 0x6d, 0x5f, 0x6a, 0x6f, 0x69, 0x6e, 0x74], Dict{String, Vector{UInt8}}(), nothing, Dict{String, MeshCat.SceneTrees.SceneNode}(\"geometry_28\" => MeshCat.SceneTrees.SceneNode(UInt8[0x83, 0xa6, 0x6f, 0x62, 0x6a, 0x65, 0x63, 0x74, 0x84, 0xaa  …  0x65, 0x6f, 0x6d, 0x65, 0x74, 0x72, 0x79, 0x5f, 0x32, 0x38], UInt8[0x83, 0xa6, 0x6d, 0x61, 0x74, 0x72, 0x69, 0x78, 0xc7, 0x40  …  0x65, 0x6f, 0x6d, 0x65, 0x74, 0x72, 0x79, 0x5f, 0x32, 0x38], Dict{String, Vector{UInt8}}(), nothing, Dict{String, MeshCat.SceneTrees.SceneNode}()))))), \"after_left_wrist_yaw_joint\" => MeshCat.SceneTrees.SceneNode(nothing, UInt8[0x83, 0xa6, 0x6d, 0x61, 0x74, 0x72, 0x69, 0x78, 0xc7, 0x40  …  0x5f, 0x79, 0x61, 0x77, 0x5f, 0x6a, 0x6f, 0x69, 0x6e, 0x74], Dict{String, Vector{UInt8}}(), nothing, Dict{String, MeshCat.SceneTrees.SceneNode}(\"geometry_27\" => MeshCat.SceneTrees.SceneNode(UInt8[0x83, 0xa6, 0x6f, 0x62, 0x6a, 0x65, 0x63, 0x74, 0x84, 0xaa  …  0x65, 0x6f, 0x6d, 0x65, 0x74, 0x72, 0x79, 0x5f, 0x32, 0x37], UInt8[0x83, 0xa6, 0x6d, 0x61, 0x74, 0x72, 0x69, 0x78, 0xc7, 0x40  …  0x65, 0x6f, 0x6d, 0x65, 0x74, 0x72, 0x79, 0x5f, 0x32, 0x37], Dict{String, Vector{UInt8}}(), nothing, Dict{String, MeshCat.SceneTrees.SceneNode}()))))), \"after_left_wrist_pitch_joint\" => MeshCat.SceneTrees.SceneNode(nothing, UInt8[0x83, 0xa6, 0x6d, 0x61, 0x74, 0x72, 0x69, 0x78, 0xc7, 0x40  …  0x69, 0x74, 0x63, 0x68, 0x5f, 0x6a, 0x6f, 0x69, 0x6e, 0x74], Dict{String, Vector{UInt8}}(), nothing, Dict{String, MeshCat.SceneTrees.SceneNode}(\"geometry_26\" => MeshCat.SceneTrees.SceneNode(UInt8[0x83, 0xa6, 0x6f, 0x62, 0x6a, 0x65, 0x63, 0x74, 0x84, 0xaa  …  0x65, 0x6f, 0x6d, 0x65, 0x74, 0x72, 0x79, 0x5f, 0x32, 0x36], UInt8[0x83, 0xa6, 0x6d, 0x61, 0x74, 0x72, 0x69, 0x78, 0xc7, 0x40  …  0x65, 0x6f, 0x6d, 0x65, 0x74, 0x72, 0x79, 0x5f, 0x32, 0x36], Dict{String, Vector{UInt8}}(), nothing, Dict{String, MeshCat.SceneTrees.SceneNode}()))))))), \"after_left_elbow_joint\" => MeshCat.SceneTrees.SceneNode(nothing, UInt8[0x83, 0xa6, 0x6d, 0x61, 0x74, 0x72, 0x69, 0x78, 0xc7, 0x40  …  0x6c, 0x62, 0x6f, 0x77, 0x5f, 0x6a, 0x6f, 0x69, 0x6e, 0x74], Dict{String, Vector{UInt8}}(), nothing, Dict{String, MeshCat.SceneTrees.SceneNode}(\"geometry_24\" => MeshCat.SceneTrees.SceneNode(UInt8[0x83, 0xa6, 0x6f, 0x62, 0x6a, 0x65, 0x63, 0x74, 0x84, 0xaa  …  0x65, 0x6f, 0x6d, 0x65, 0x74, 0x72, 0x79, 0x5f, 0x32, 0x34], UInt8[0x83, 0xa6, 0x6d, 0x61, 0x74, 0x72, 0x69, 0x78, 0xc7, 0x40  …  0x65, 0x6f, 0x6d, 0x65, 0x74, 0x72, 0x79, 0x5f, 0x32, 0x34], Dict{String, Vector{UInt8}}(), nothing, Dict{String, MeshCat.SceneTrees.SceneNode}()))))), \"after_left_shoulder_yaw_joint\" => MeshCat.SceneTrees.SceneNode(nothing, UInt8[0x83, 0xa6, 0x6d, 0x61, 0x74, 0x72, 0x69, 0x78, 0xc7, 0x40  …  0x5f, 0x79, 0x61, 0x77, 0x5f, 0x6a, 0x6f, 0x69, 0x6e, 0x74], Dict{String, Vector{UInt8}}(), nothing, Dict{String, MeshCat.SceneTrees.SceneNode}(\"geometry_23\" => MeshCat.SceneTrees.SceneNode(UInt8[0x83, 0xa6, 0x6f, 0x62, 0x6a, 0x65, 0x63, 0x74, 0x84, 0xaa  …  0x65, 0x6f, 0x6d, 0x65, 0x74, 0x72, 0x79, 0x5f, 0x32, 0x33], UInt8[0x83, 0xa6, 0x6d, 0x61, 0x74, 0x72, 0x69, 0x78, 0xc7, 0x40  …  0x65, 0x6f, 0x6d, 0x65, 0x74, 0x72, 0x79, 0x5f, 0x32, 0x33], Dict{String, Vector{UInt8}}(), nothing, Dict{String, MeshCat.SceneTrees.SceneNode}()))))), \"after_left_shoulder_roll_joint\" => MeshCat.SceneTrees.SceneNode(nothing, UInt8[0x83, 0xa6, 0x6d, 0x61, 0x74, 0x72, 0x69, 0x78, 0xc7, 0x40  …  0x72, 0x6f, 0x6c, 0x6c, 0x5f, 0x6a, 0x6f, 0x69, 0x6e, 0x74], Dict{String, Vector{UInt8}}(), nothing, Dict{String, MeshCat.SceneTrees.SceneNode}(\"geometry_22\" => MeshCat.SceneTrees.SceneNode(UInt8[0x83, 0xa6, 0x6f, 0x62, 0x6a, 0x65, 0x63, 0x74, 0x84, 0xaa  …  0x65, 0x6f, 0x6d, 0x65, 0x74, 0x72, 0x79, 0x5f, 0x32, 0x32], UInt8[0x83, 0xa6, 0x6d, 0x61, 0x74, 0x72, 0x69, 0x78, 0xc7, 0x40  …  0x65, 0x6f, 0x6d, 0x65, 0x74, 0x72, 0x79, 0x5f, 0x32, 0x32], Dict{String, Vector{UInt8}}(), nothing, Dict{String, MeshCat.SceneTrees.SceneNode}()))))))), \"logo_link\" => MeshCat.SceneTrees.SceneNode(nothing, UInt8[0x83, 0xa6, 0x6d, 0x61, 0x74, 0x72, 0x69, 0x78, 0xc7, 0x40  …  0x2f, 0x6c, 0x6f, 0x67, 0x6f, 0x5f, 0x6c, 0x69, 0x6e, 0x6b], Dict{String, Vector{UInt8}}(), nothing, Dict{String, MeshCat.SceneTrees.SceneNode}(\"after_logo_joint\" => MeshCat.SceneTrees.SceneNode(nothing, UInt8[0x83, 0xa6, 0x6d, 0x61, 0x74, 0x72, 0x69, 0x78, 0xc7, 0x40  …  0x6c, 0x6f, 0x67, 0x6f, 0x5f, 0x6a, 0x6f, 0x69, 0x6e, 0x74], Dict{String, Vector{UInt8}}(), nothing, Dict{String, MeshCat.SceneTrees.SceneNode}(\"geometry_18\" => MeshCat.SceneTrees.SceneNode(UInt8[0x83, 0xa6, 0x6f, 0x62, 0x6a, 0x65, 0x63, 0x74, 0x84, 0xaa  …  0x65, 0x6f, 0x6d, 0x65, 0x74, 0x72, 0x79, 0x5f, 0x31, 0x38], UInt8[0x83, 0xa6, 0x6d, 0x61, 0x74, 0x72, 0x69, 0x78, 0xc7, 0x40  …  0x65, 0x6f, 0x6d, 0x65, 0x74, 0x72, 0x79, 0x5f, 0x31, 0x38], Dict{String, Vector{UInt8}}(), nothing, Dict{String, MeshCat.SceneTrees.SceneNode}()))))), \"after_waist_pitch_joint\" => MeshCat.SceneTrees.SceneNode(nothing, UInt8[0x83, 0xa6, 0x6d, 0x61, 0x74, 0x72, 0x69, 0x78, 0xc7, 0x40  …  0x69, 0x74, 0x63, 0x68, 0x5f, 0x6a, 0x6f, 0x69, 0x6e, 0x74], Dict{String, Vector{UInt8}}(), nothing, Dict{String, MeshCat.SceneTrees.SceneNode}(\"geometry_17\" => MeshCat.SceneTrees.SceneNode(UInt8[0x83, 0xa6, 0x6f, 0x62, 0x6a, 0x65, 0x63, 0x74, 0x84, 0xaa  …  0x65, 0x6f, 0x6d, 0x65, 0x74, 0x72, 0x79, 0x5f, 0x31, 0x37], UInt8[0x83, 0xa6, 0x6d, 0x61, 0x74, 0x72, 0x69, 0x78, 0xc7, 0x40  …  0x65, 0x6f, 0x6d, 0x65, 0x74, 0x72, 0x79, 0x5f, 0x31, 0x37], Dict{String, Vector{UInt8}}(), nothing, Dict{String, MeshCat.SceneTrees.SceneNode}()))), \"right_shoulder_pitch_link\" => MeshCat.SceneTrees.SceneNode(nothing, UInt8[0x83, 0xa6, 0x6d, 0x61, 0x74, 0x72, 0x69, 0x78, 0xc7, 0x40  …  0x70, 0x69, 0x74, 0x63, 0x68, 0x5f, 0x6c, 0x69, 0x6e, 0x6b], Dict{String, Vector{UInt8}}(), nothing, Dict{String, MeshCat.SceneTrees.SceneNode}(\"after_right_shoulder_pitch_joint\" => MeshCat.SceneTrees.SceneNode(nothing, UInt8[0x83, 0xa6, 0x6d, 0x61, 0x74, 0x72, 0x69, 0x78, 0xc7, 0x40  …  0x69, 0x74, 0x63, 0x68, 0x5f, 0x6a, 0x6f, 0x69, 0x6e, 0x74], Dict{String, Vector{UInt8}}(), nothing, Dict{String, MeshCat.SceneTrees.SceneNode}(\"geometry_29\" => MeshCat.SceneTrees.SceneNode(UInt8[0x83, 0xa6, 0x6f, 0x62, 0x6a, 0x65, 0x63, 0x74, 0x84, 0xaa  …  0x65, 0x6f, 0x6d, 0x65, 0x74, 0x72, 0x79, 0x5f, 0x32, 0x39], UInt8[0x83, 0xa6, 0x6d, 0x61, 0x74, 0x72, 0x69, 0x78, 0xc7, 0x40  …  0x65, 0x6f, 0x6d, 0x65, 0x74, 0x72, 0x79, 0x5f, 0x32, 0x39], Dict{String, Vector{UInt8}}(), nothing, Dict{String, MeshCat.SceneTrees.SceneNode}()))), \"right_shoulder_roll_link\" => MeshCat.SceneTrees.SceneNode(nothing, UInt8[0x83, 0xa6, 0x6d, 0x61, 0x74, 0x72, 0x69, 0x78, 0xc7, 0x40  …  0x5f, 0x72, 0x6f, 0x6c, 0x6c, 0x5f, 0x6c, 0x69, 0x6e, 0x6b], Dict{String, Vector{UInt8}}(), nothing, Dict{String, MeshCat.SceneTrees.SceneNode}(\"right_shoulder_yaw_link\" => MeshCat.SceneTrees.SceneNode(nothing, UInt8[0x83, 0xa6, 0x6d, 0x61, 0x74, 0x72, 0x69, 0x78, 0xc7, 0x40  …  0x72, 0x5f, 0x79, 0x61, 0x77, 0x5f, 0x6c, 0x69, 0x6e, 0x6b], Dict{String, Vector{UInt8}}(), nothing, Dict{String, MeshCat.SceneTrees.SceneNode}(\"right_elbow_link\" => MeshCat.SceneTrees.SceneNode(nothing, UInt8[0x83, 0xa6, 0x6d, 0x61, 0x74, 0x72, 0x69, 0x78, 0xc7, 0x40  …  0x65, 0x6c, 0x62, 0x6f, 0x77, 0x5f, 0x6c, 0x69, 0x6e, 0x6b], Dict{String, Vector{UInt8}}(), nothing, Dict{String, MeshCat.SceneTrees.SceneNode}(\"after_right_elbow_joint\" => MeshCat.SceneTrees.SceneNode(nothing, UInt8[0x83, 0xa6, 0x6d, 0x61, 0x74, 0x72, 0x69, 0x78, 0xc7, 0x40  …  0x6c, 0x62, 0x6f, 0x77, 0x5f, 0x6a, 0x6f, 0x69, 0x6e, 0x74], Dict{String, Vector{UInt8}}(), nothing, Dict{String, MeshCat.SceneTrees.SceneNode}(\"geometry_32\" => MeshCat.SceneTrees.SceneNode(UInt8[0x83, 0xa6, 0x6f, 0x62, 0x6a, 0x65, 0x63, 0x74, 0x84, 0xaa  …  0x65, 0x6f, 0x6d, 0x65, 0x74, 0x72, 0x79, 0x5f, 0x33, 0x32], UInt8[0x83, 0xa6, 0x6d, 0x61, 0x74, 0x72, 0x69, 0x78, 0xc7, 0x40  …  0x65, 0x6f, 0x6d, 0x65, 0x74, 0x72, 0x79, 0x5f, 0x33, 0x32], Dict{String, Vector{UInt8}}(), nothing, Dict{String, MeshCat.SceneTrees.SceneNode}()))), \"right_wrist_roll_link\" => MeshCat.SceneTrees.SceneNode(nothing, UInt8[0x83, 0xa6, 0x6d, 0x61, 0x74, 0x72, 0x69, 0x78, 0xc7, 0x40  …  0x5f, 0x72, 0x6f, 0x6c, 0x6c, 0x5f, 0x6c, 0x69, 0x6e, 0x6b], Dict{String, Vector{UInt8}}(), nothing, Dict{String, MeshCat.SceneTrees.SceneNode}(\"right_wrist_pitch_link\" => MeshCat.SceneTrees.SceneNode(nothing, UInt8[0x83, 0xa6, 0x6d, 0x61, 0x74, 0x72, 0x69, 0x78, 0xc7, 0x40  …  0x70, 0x69, 0x74, 0x63, 0x68, 0x5f, 0x6c, 0x69, 0x6e, 0x6b], Dict{String, Vector{UInt8}}(), nothing, Dict{String, MeshCat.SceneTrees.SceneNode}(\"after_right_wrist_pitch_joint\" => MeshCat.SceneTrees.SceneNode(nothing, UInt8[0x83, 0xa6, 0x6d, 0x61, 0x74, 0x72, 0x69, 0x78, 0xc7, 0x40  …  0x69, 0x74, 0x63, 0x68, 0x5f, 0x6a, 0x6f, 0x69, 0x6e, 0x74], Dict{String, Vector{UInt8}}(), nothing, Dict{String, MeshCat.SceneTrees.SceneNode}(\"geometry_34\" => MeshCat.SceneTrees.SceneNode(UInt8[0x83, 0xa6, 0x6f, 0x62, 0x6a, 0x65, 0x63, 0x74, 0x84, 0xaa  …  0x65, 0x6f, 0x6d, 0x65, 0x74, 0x72, 0x79, 0x5f, 0x33, 0x34], UInt8[0x83, 0xa6, 0x6d, 0x61, 0x74, 0x72, 0x69, 0x78, 0xc7, 0x40  …  0x65, 0x6f, 0x6d, 0x65, 0x74, 0x72, 0x79, 0x5f, 0x33, 0x34], Dict{String, Vector{UInt8}}(), nothing, Dict{String, MeshCat.SceneTrees.SceneNode}()))), \"right_wrist_yaw_link\" => MeshCat.SceneTrees.SceneNode(nothing, UInt8[0x83, 0xa6, 0x6d, 0x61, 0x74, 0x72, 0x69, 0x78, 0xc7, 0x40  …  0x74, 0x5f, 0x79, 0x61, 0x77, 0x5f, 0x6c, 0x69, 0x6e, 0x6b], Dict{String, Vector{UInt8}}(), nothing, Dict{String, MeshCat.SceneTrees.SceneNode}(\"after_right_wrist_yaw_joint\" => MeshCat.SceneTrees.SceneNode(nothing, UInt8[0x83, 0xa6, 0x6d, 0x61, 0x74, 0x72, 0x69, 0x78, 0xc7, 0x40  …  0x5f, 0x79, 0x61, 0x77, 0x5f, 0x6a, 0x6f, 0x69, 0x6e, 0x74], Dict{String, Vector{UInt8}}(), nothing, Dict{String, MeshCat.SceneTrees.SceneNode}(\"geometry_35\" => MeshCat.SceneTrees.SceneNode(UInt8[0x83, 0xa6, 0x6f, 0x62, 0x6a, 0x65, 0x63, 0x74, 0x84, 0xaa  …  0x65, 0x6f, 0x6d, 0x65, 0x74, 0x72, 0x79, 0x5f, 0x33, 0x35], UInt8[0x83, 0xa6, 0x6d, 0x61, 0x74, 0x72, 0x69, 0x78, 0xc7, 0x40  …  0x65, 0x6f, 0x6d, 0x65, 0x74, 0x72, 0x79, 0x5f, 0x33, 0x35], Dict{String, Vector{UInt8}}(), nothing, Dict{String, MeshCat.SceneTrees.SceneNode}()))), \"right_rubber_hand\" => MeshCat.SceneTrees.SceneNode(nothing, UInt8[0x83, 0xa6, 0x6d, 0x61, 0x74, 0x72, 0x69, 0x78, 0xc7, 0x40  …  0x75, 0x62, 0x62, 0x65, 0x72, 0x5f, 0x68, 0x61, 0x6e, 0x64], Dict{String, Vector{UInt8}}(), nothing, Dict{String, MeshCat.SceneTrees.SceneNode}(\"after_right_hand_palm_joint\" => MeshCat.SceneTrees.SceneNode(nothing, UInt8[0x83, 0xa6, 0x6d, 0x61, 0x74, 0x72, 0x69, 0x78, 0xc7, 0x40  …  0x70, 0x61, 0x6c, 0x6d, 0x5f, 0x6a, 0x6f, 0x69, 0x6e, 0x74], Dict{String, Vector{UInt8}}(), nothing, Dict{String, MeshCat.SceneTrees.SceneNode}(\"geometry_36\" => MeshCat.SceneTrees.SceneNode(UInt8[0x83, 0xa6, 0x6f, 0x62, 0x6a, 0x65, 0x63, 0x74, 0x84, 0xaa  …  0x65, 0x6f, 0x6d, 0x65, 0x74, 0x72, 0x79, 0x5f, 0x33, 0x36], UInt8[0x83, 0xa6, 0x6d, 0x61, 0x74, 0x72, 0x69, 0x78, 0xc7, 0x40  …  0x65, 0x6f, 0x6d, 0x65, 0x74, 0x72, 0x79, 0x5f, 0x33, 0x36], Dict{String, Vector{UInt8}}(), nothing, Dict{String, MeshCat.SceneTrees.SceneNode}()))))))))), \"after_right_wrist_roll_joint\" => MeshCat.SceneTrees.SceneNode(nothing, UInt8[0x83, 0xa6, 0x6d, 0x61, 0x74, 0x72, 0x69, 0x78, 0xc7, 0x40  …  0x72, 0x6f, 0x6c, 0x6c, 0x5f, 0x6a, 0x6f, 0x69, 0x6e, 0x74], Dict{String, Vector{UInt8}}(), nothing, Dict{String, MeshCat.SceneTrees.SceneNode}(\"geometry_33\" => MeshCat.SceneTrees.SceneNode(UInt8[0x83, 0xa6, 0x6f, 0x62, 0x6a, 0x65, 0x63, 0x74, 0x84, 0xaa  …  0x65, 0x6f, 0x6d, 0x65, 0x74, 0x72, 0x79, 0x5f, 0x33, 0x33], UInt8[0x83, 0xa6, 0x6d, 0x61, 0x74, 0x72, 0x69, 0x78, 0xc7, 0x40  …  0x65, 0x6f, 0x6d, 0x65, 0x74, 0x72, 0x79, 0x5f, 0x33, 0x33], Dict{String, Vector{UInt8}}(), nothing, Dict{String, MeshCat.SceneTrees.SceneNode}()))))))), \"after_right_shoulder_yaw_joint\" => MeshCat.SceneTrees.SceneNode(nothing, UInt8[0x83, 0xa6, 0x6d, 0x61, 0x74, 0x72, 0x69, 0x78, 0xc7, 0x40  …  0x5f, 0x79, 0x61, 0x77, 0x5f, 0x6a, 0x6f, 0x69, 0x6e, 0x74], Dict{String, Vector{UInt8}}(), nothing, Dict{String, MeshCat.SceneTrees.SceneNode}(\"geometry_31\" => MeshCat.SceneTrees.SceneNode(UInt8[0x83, 0xa6, 0x6f, 0x62, 0x6a, 0x65, 0x63, 0x74, 0x84, 0xaa  …  0x65, 0x6f, 0x6d, 0x65, 0x74, 0x72, 0x79, 0x5f, 0x33, 0x31], UInt8[0x83, 0xa6, 0x6d, 0x61, 0x74, 0x72, 0x69, 0x78, 0xc7, 0x40  …  0x65, 0x6f, 0x6d, 0x65, 0x74, 0x72, 0x79, 0x5f, 0x33, 0x31], Dict{String, Vector{UInt8}}(), nothing, Dict{String, MeshCat.SceneTrees.SceneNode}()))))), \"after_right_shoulder_roll_joint\" => MeshCat.SceneTrees.SceneNode(nothing, UInt8[0x83, 0xa6, 0x6d, 0x61, 0x74, 0x72, 0x69, 0x78, 0xc7, 0x40  …  0x72, 0x6f, 0x6c, 0x6c, 0x5f, 0x6a, 0x6f, 0x69, 0x6e, 0x74], Dict{String, Vector{UInt8}}(), nothing, Dict{String, MeshCat.SceneTrees.SceneNode}(\"geometry_30\" => MeshCat.SceneTrees.SceneNode(UInt8[0x83, 0xa6, 0x6f, 0x62, 0x6a, 0x65, 0x63, 0x74, 0x84, 0xaa  …  0x65, 0x6f, 0x6d, 0x65, 0x74, 0x72, 0x79, 0x5f, 0x33, 0x30], UInt8[0x83, 0xa6, 0x6d, 0x61, 0x74, 0x72, 0x69, 0x78, 0xc7, 0x40  …  0x65, 0x6f, 0x6d, 0x65, 0x74, 0x72, 0x79, 0x5f, 0x33, 0x30], Dict{String, Vector{UInt8}}(), nothing, Dict{String, MeshCat.SceneTrees.SceneNode}()))))))), \"imu_in_torso\" => MeshCat.SceneTrees.SceneNode(nothing, UInt8[0x83, 0xa6, 0x6d, 0x61, 0x74, 0x72, 0x69, 0x78, 0xc7, 0x40  …  0x75, 0x5f, 0x69, 0x6e, 0x5f, 0x74, 0x6f, 0x72, 0x73, 0x6f], Dict{String, Vector{UInt8}}(), nothing, Dict{String, MeshCat.SceneTrees.SceneNode}()), \"mid360_link\" => MeshCat.SceneTrees.SceneNode(nothing, UInt8[0x83, 0xa6, 0x6d, 0x61, 0x74, 0x72, 0x69, 0x78, 0xc7, 0x40  …  0x69, 0x64, 0x33, 0x36, 0x30, 0x5f, 0x6c, 0x69, 0x6e, 0x6b], Dict{String, Vector{UInt8}}(), nothing, Dict{String, MeshCat.SceneTrees.SceneNode}()), \"d435_link\" => MeshCat.SceneTrees.SceneNode(nothing, UInt8[0x83, 0xa6, 0x6d, 0x61, 0x74, 0x72, 0x69, 0x78, 0xc7, 0x40  …  0x2f, 0x64, 0x34, 0x33, 0x35, 0x5f, 0x6c, 0x69, 0x6e, 0x6b], Dict{String, Vector{UInt8}}(), nothing, Dict{String, MeshCat.SceneTrees.SceneNode}()), \"waist_support_link\" => MeshCat.SceneTrees.SceneNode(nothing, UInt8[0x83, 0xa6, 0x6d, 0x61, 0x74, 0x72, 0x69, 0x78, 0xc7, 0x40  …  0x70, 0x70, 0x6f, 0x72, 0x74, 0x5f, 0x6c, 0x69, 0x6e, 0x6b], Dict{String, Vector{UInt8}}(), nothing, Dict{String, MeshCat.SceneTrees.SceneNode}(\"after_waist_support_joint\" => MeshCat.SceneTrees.SceneNode(nothing, UInt8[0x83, 0xa6, 0x6d, 0x61, 0x74, 0x72, 0x69, 0x78, 0xc7, 0x40  …  0x70, 0x6f, 0x72, 0x74, 0x5f, 0x6a, 0x6f, 0x69, 0x6e, 0x74], Dict{String, Vector{UInt8}}(), nothing, Dict{String, MeshCat.SceneTrees.SceneNode}(\"geometry_20\" => MeshCat.SceneTrees.SceneNode(UInt8[0x83, 0xa6, 0x6f, 0x62, 0x6a, 0x65, 0x63, 0x74, 0x84, 0xaa  …  0x65, 0x6f, 0x6d, 0x65, 0x74, 0x72, 0x79, 0x5f, 0x32, 0x30], UInt8[0x83, 0xa6, 0x6d, 0x61, 0x74, 0x72, 0x69, 0x78, 0xc7, 0x40  …  0x65, 0x6f, 0x6d, 0x65, 0x74, 0x72, 0x79, 0x5f, 0x32, 0x30], Dict{String, Vector{UInt8}}(), nothing, Dict{String, MeshCat.SceneTrees.SceneNode}()))))), \"head_link\" => MeshCat.SceneTrees.SceneNode(nothing, UInt8[0x83, 0xa6, 0x6d, 0x61, 0x74, 0x72, 0x69, 0x78, 0xc7, 0x40  …  0x2f, 0x68, 0x65, 0x61, 0x64, 0x5f, 0x6c, 0x69, 0x6e, 0x6b], Dict{String, Vector{UInt8}}(), nothing, Dict{String, MeshCat.SceneTrees.SceneNode}(\"after_head_joint\" => MeshCat.SceneTrees.SceneNode(nothing, UInt8[0x83, 0xa6, 0x6d, 0x61, 0x74, 0x72, 0x69, 0x78, 0xc7, 0x40  …  0x68, 0x65, 0x61, 0x64, 0x5f, 0x6a, 0x6f, 0x69, 0x6e, 0x74], Dict{String, Vector{UInt8}}(), nothing, Dict{String, MeshCat.SceneTrees.SceneNode}(\"geometry_19\" => MeshCat.SceneTrees.SceneNode(UInt8[0x83, 0xa6, 0x6f, 0x62, 0x6a, 0x65, 0x63, 0x74, 0x84, 0xaa  …  0x65, 0x6f, 0x6d, 0x65, 0x74, 0x72, 0x79, 0x5f, 0x31, 0x39], UInt8[0x83, 0xa6, 0x6d, 0x61, 0x74, 0x72, 0x69, 0x78, 0xc7, 0x40  …  0x65, 0x6f, 0x6d, 0x65, 0x74, 0x72, 0x79, 0x5f, 0x31, 0x39], Dict{String, Vector{UInt8}}(), nothing, Dict{String, MeshCat.SceneTrees.SceneNode}()))))))), \"after_waist_roll_joint\" => MeshCat.SceneTrees.SceneNode(nothing, UInt8[0x83, 0xa6, 0x6d, 0x61, 0x74, 0x72, 0x69, 0x78, 0xc7, 0x40  …  0x72, 0x6f, 0x6c, 0x6c, 0x5f, 0x6a, 0x6f, 0x69, 0x6e, 0x74], Dict{String, Vector{UInt8}}(), nothing, Dict{String, MeshCat.SceneTrees.SceneNode}(\"geometry_16\" => MeshCat.SceneTrees.SceneNode(UInt8[0x83, 0xa6, 0x6f, 0x62, 0x6a, 0x65, 0x63, 0x74, 0x84, 0xaa  …  0x65, 0x6f, 0x6d, 0x65, 0x74, 0x72, 0x79, 0x5f, 0x31, 0x36], UInt8[0x83, 0xa6, 0x6d, 0x61, 0x74, 0x72, 0x69, 0x78, 0xc7, 0x40  …  0x65, 0x6f, 0x6d, 0x65, 0x74, 0x72, 0x79, 0x5f, 0x31, 0x36], Dict{String, Vector{UInt8}}(), nothing, Dict{String, MeshCat.SceneTrees.SceneNode}()))))))))), \"after_left_hip_pitch_joint\" => MeshCat.SceneTrees.SceneNode(nothing, UInt8[0x83, 0xa6, 0x6d, 0x61, 0x74, 0x72, 0x69, 0x78, 0xc7, 0x40  …  0x69, 0x74, 0x63, 0x68, 0x5f, 0x6a, 0x6f, 0x69, 0x6e, 0x74], Dict{String, Vector{UInt8}}(), nothing, Dict{String, MeshCat.SceneTrees.SceneNode}(\"geometry_3\" => MeshCat.SceneTrees.SceneNode(UInt8[0x83, 0xa6, 0x6f, 0x62, 0x6a, 0x65, 0x63, 0x74, 0x84, 0xaa  …  0x67, 0x65, 0x6f, 0x6d, 0x65, 0x74, 0x72, 0x79, 0x5f, 0x33], UInt8[0x83, 0xa6, 0x6d, 0x61, 0x74, 0x72, 0x69, 0x78, 0xc7, 0x40  …  0x67, 0x65, 0x6f, 0x6d, 0x65, 0x74, 0x72, 0x79, 0x5f, 0x33], Dict{String, Vector{UInt8}}(), nothing, Dict{String, MeshCat.SceneTrees.SceneNode}()))))), \"after_left_hip_roll_joint\" => MeshCat.SceneTrees.SceneNode(nothing, UInt8[0x83, 0xa6, 0x6d, 0x61, 0x74, 0x72, 0x69, 0x78, 0xc7, 0x40  …  0x72, 0x6f, 0x6c, 0x6c, 0x5f, 0x6a, 0x6f, 0x69, 0x6e, 0x74], Dict{String, Vector{UInt8}}(), nothing, Dict{String, MeshCat.SceneTrees.SceneNode}(\"geometry_4\" => MeshCat.SceneTrees.SceneNode(UInt8[0x83, 0xa6, 0x6f, 0x62, 0x6a, 0x65, 0x63, 0x74, 0x84, 0xaa  …  0x67, 0x65, 0x6f, 0x6d, 0x65, 0x74, 0x72, 0x79, 0x5f, 0x34], UInt8[0x83, 0xa6, 0x6d, 0x61, 0x74, 0x72, 0x69, 0x78, 0xc7, 0x40  …  0x67, 0x65, 0x6f, 0x6d, 0x65, 0x74, 0x72, 0x79, 0x5f, 0x34], Dict{String, Vector{UInt8}}(), nothing, Dict{String, MeshCat.SceneTrees.SceneNode}()))))))))))))))))))))))), Set{HTTP.WebSockets.WebSocket}(), ip\"127.0.0.1\", 8729, HTTP.Servers.Server{HTTP.Servers.Listener{Nothing, Sockets.TCPServer}}(HTTP.Servers.Listener{Nothing, Sockets.TCPServer}(Sockets.InetAddr{Sockets.IPv4}(ip\"127.0.0.1\", 8729), \"127.0.0.1\", \"8729\", nothing, Sockets.TCPServer(RawFD(106) active)), nothing, Set{HTTP.Connections.Connection}(), Task (runnable, started) @0x00007fb60b0fc650, ReentrantLock(nothing, 0x00000000, 0x00, Base.GenericCondition{Base.Threads.SpinLock}(Base.IntrusiveLinkedList{Task}(nothing, nothing), Base.Threads.SpinLock(0)), (0, 0, 431326997840))), MeshCat.AnimationContext[]))"
      ]
     },
     "execution_count": 4,
     "metadata": {},
     "output_type": "execute_result"
    }
   ],
   "source": [
    "# initial guess \n",
    "const x_guess = initial_state(model)\n",
    "\n",
    "# indexing stuff \n",
    "const idx_x = 1:64\n",
    "const idx_u = 65:93\n",
    "const idx_c = 94:(157 + 3)\n",
    "\n",
    "function cost(y::Vector)\n",
    "    x = y[idx_x]\n",
    "    u = y[idx_u]\n",
    "    \n",
    "    return 1/2 * (x - x_guess)' * (x - x_guess) + 1/2 * 1e-3*u'*u\n",
    "end\n",
    "function constraint(y::Vector)::Vector\n",
    "    x = y[idx_x]\n",
    "    u = y[idx_u]\n",
    "\n",
    "    dynamics_constraint = dynamics(model, x, u)\n",
    "    floot_flat_constraint = x[1:3]\n",
    "    return [dynamics_constraint; floot_flat_constraint]\n",
    "end\n",
    "function kkt(z::Vector)::Vector\n",
    "    x = z[idx_x]\n",
    "    u = z[idx_u]\n",
    "    λ = z[idx_c]\n",
    "    \n",
    "    y = [x;u]\n",
    "    s = FD.gradient(cost, y) + FD.jacobian(constraint, y)' * λ\n",
    "    \n",
    "    pf = constraint(y)\n",
    "    return [s; pf]\n",
    "end\n",
    "\n",
    "function kkt_jac(z::Vector)::Matrix\n",
    "    x = z[idx_x]\n",
    "    u = z[idx_u]\n",
    "    λ = z[idx_c]\n",
    "    \n",
    "    y = [x;u]\n",
    "    \n",
    "    H = FD.hessian(cost, y)\n",
    "    C = FD.jacobian(constraint, y)\n",
    "    J = [\n",
    "        H C';\n",
    "        C zeros(size(λ, 1), size(λ, 1))\n",
    "    ]\n",
    "\n",
    "    β = 1e-3\n",
    "    reg = [I(size(y, 1)) zeros(size(C')); zeros(size(C)) I(size(λ, 1))]\n",
    "\n",
    "    return J + β * reg\n",
    "    \n",
    "end\n",
    "   \n",
    "    \n",
    "z0 = [x_guess; zeros(29); zeros(67)]\n",
    "Z = newtons_method(z0, kkt, kkt_jac, merit; tol = 1e-6, verbose = false, max_iters = 50)\n",
    "# visualizer \n",
    "set_configuration!(mvis, Z[end][1:state_dim(model)÷2])\n",
    "u_eq = Z[end][idx_u]\n",
    "x_eq = Z[end][idx_x]\n",
    "x_dot = dynamics(model, x_eq, u_eq)\n",
    "@assert norm(x_dot, Inf) < 1e-6\n",
    "foot_equilib_pos = get_right_foot_tip_location(mech, x_eq)\n",
    "println(foot_equilib_pos)\n",
    "println(\"Equilibrium found! $(norm(x_dot, Inf))\")\n",
    "render(mvis)"
   ]
  },
  {
   "cell_type": "code",
   "execution_count": 5,
   "id": "e1420822-07b9-494f-876b-85ecc7789a13",
   "metadata": {},
   "outputs": [
    {
     "name": "stdout",
     "output_type": "stream",
     "text": [
      "1.4157584329238388\n",
      "13.891208669154103\n"
     ]
    }
   ],
   "source": [
    "x_max = norm(x_eq, Inf)\n",
    "u_max = norm(u_eq, Inf)\n",
    "println(x_max)\n",
    "println(u_max)\n",
    "save(\"equilibrium.jld2\", \"x\", x_eq, \"u\", u_eq)\n"
   ]
  },
  {
   "cell_type": "markdown",
   "id": "3b2a7aae",
   "metadata": {},
   "source": [
    "## Solve For Initial Guess"
   ]
  },
  {
   "cell_type": "code",
   "execution_count": 5,
   "id": "7965c82f",
   "metadata": {},
   "outputs": [
    {
     "name": "stdout",
     "output_type": "stream",
     "text": [
      "[-0.35669330497416457, -0.1798673859280268, 0.2760771399790852]\n",
      "[-0.34364492483204556, -0.17844260347294033, 0.26799538042892956]\n",
      "[-0.33059654468992655, -0.17701782101785385, 0.2600426703649527]\n",
      "[-0.31754816454780754, -0.17559303856276737, 0.25221900978715456]\n",
      "[-0.3044997844056886, -0.17416825610768089, 0.24452439869553533]\n",
      "[-0.29145140426356964, -0.17274347365259443, 0.23695883709009471]\n",
      "[-0.2784030241214506, -0.17131869119750795, 0.22952232497083289]\n",
      "[-0.2653546439793317, -0.16989390874242144, 0.2222148623377498]\n",
      "[-0.2523062638372126, -0.16846912628733499, 0.21503644919084552]\n",
      "[-0.23925788369509365, -0.1670443438322485, 0.20798708553011996]\n",
      "[-0.22620950355297464, -0.165619561377162, 0.2010667713555732]\n",
      "[-0.21316112341085572, -0.16419477892207554, 0.19427550666720517]\n",
      "[-0.20011274326873668, -0.16276999646698903, 0.18761329146501587]\n",
      "[-0.18706436312661773, -0.16134521401190258, 0.1810801257490054]\n",
      "[-0.17401598298449872, -0.15992043155681607, 0.17467600951917361]\n",
      "[-0.16096760284237974, -0.1584956491017296, 0.16840094277552065]\n",
      "[-0.14791922270026076, -0.15707086664664313, 0.1622549255180464]\n",
      "[-0.13487084255814175, -0.15564608419155665, 0.17714397450770977]\n",
      "[-0.12182246241602276, -0.15422130173647017, 0.1712069635782691]\n",
      "[-0.10877408227390378, -0.15279651928138369, 0.16530081684635928]\n",
      "[-0.09572570213178477, -0.1513717368262972, 0.15942553431198037]\n",
      "[-0.08267732198966579, -0.14994695437121072, 0.1535811159751323]\n",
      "[-0.06962894184754684, -0.14852217191612427, 0.1477675618358151]\n",
      "[-0.056580561705427856, -0.1470973894610378, 0.14198487189402875]\n",
      "[-0.04353218156330886, -0.1456726070059513, 0.13623304614977327]\n",
      "[-0.030483801421189866, -0.14424782455086482, 0.13051208460304867]\n",
      "[-0.01743542127907087, -0.14282304209577834, 0.12482198725385489]\n",
      "[-0.004387041136951889, -0.14139825964069183, 0.119162754102192]\n",
      "[0.008661339005167107, -0.13997347718560538, 0.11353438514805998]\n",
      "[0.021709719147286102, -0.13854869473051887, 0.10793688039145881]\n",
      "[0.0347580992894051, -0.1371239122754324, 0.10237023983238851]\n",
      "[0.04780647943152404, -0.13569912982034593, 0.09683446347084909]\n",
      "[0.06085485957364303, -0.13427434736525945, 0.09132955130684052]\n",
      "[0.07390323971576201, -0.13284956491017297, 0.08585550334036283]\n",
      "[0.08695161985788101, -0.1314247824550865, 0.080412319571416]\n",
      "[0.1, -0.13, 0.07500000000000001]\n",
      "[0.1, -0.13, 0.07]\n"
     ]
    }
   ],
   "source": [
    "function generate_kick_arc_trajectory(\n",
    "    start_pos::Vector{Float64},\n",
    "    end_pos::Vector{Float64},\n",
    "    arc_dip::Float64,\n",
    "    arc_rise::Float64,\n",
    "    max_step_norm::Float64;\n",
    "    max_points::Int = 500,\n",
    "    scale_dip_if_needed::Bool = true\n",
    ")\n",
    "    num_points = 2\n",
    "    orig_dip = arc_dip  # Save original for scaling logic\n",
    "\n",
    "    function create_kick_arc(n, dip)\n",
    "        arc_traj = Vector{SVector{3, Float64}}()\n",
    "        for i in range(0, 1, length=n)\n",
    "            pos = (1 - i) * start_pos .+ i * end_pos\n",
    "\n",
    "            if i < 0.5\n",
    "                z_mod = -4 * dip * i * (1 - i)\n",
    "            else\n",
    "                z_mod = 2 * arc_rise * (i - 0.5)^2\n",
    "            end\n",
    "\n",
    "            pos[3] += z_mod\n",
    "            push!(arc_traj, SVector{3}(pos))\n",
    "        end\n",
    "        return arc_traj\n",
    "    end\n",
    "\n",
    "    while num_points <= max_points\n",
    "        arc = create_kick_arc(num_points, arc_dip)\n",
    "        max_dist = maximum(norm(arc[i+1] - arc[i]) for i in 1:length(arc)-1)\n",
    "\n",
    "        if max_dist < max_step_norm\n",
    "            return arc\n",
    "        end\n",
    "\n",
    "        # Optional: adaptive dip scaling\n",
    "        if scale_dip_if_needed && num_points == max_points\n",
    "            arc_dip *= 0.95  # reduce dip a bit\n",
    "            num_points = 2   # restart with fewer points\n",
    "            #@info \"Reducing dip to $(round(arc_dip, digits=4)) to meet step constraint.\"\n",
    "        else\n",
    "            num_points += 1\n",
    "        end\n",
    "    end\n",
    "\n",
    "    error(\"Could not satisfy step constraint after $max_points points. Final dip = $(round(arc_dip, digits=4))\")\n",
    "end\n",
    "\n",
    "\n",
    "\n",
    "\n",
    "# Example inputs\n",
    "equilib_foot_pos = [-0.3697416851162835, -0.1812921683831133, 0.28428794901541954]\n",
    "goal_foot_pos = [0.1, -0.13, 0.07]\n",
    "\n",
    "kick_arc = generate_kick_arc_trajectory(\n",
    "    equilib_foot_pos, \n",
    "    goal_foot_pos, \n",
    "    0.05,   \n",
    "    0.01,\n",
    "    0.02\n",
    ")\n",
    "\n",
    "if kick_arc[size(kick_arc, 1)] != goal_foot_pos\n",
    "    push!(kick_arc, goal_foot_pos)\n",
    "end\n",
    "\n",
    "if kick_arc[1] == equilib_foot_pos\n",
    "    popfirst!(kick_arc)\n",
    "end\n",
    "# Print the resulting arc\n",
    "for pos in kick_arc\n",
    "    println(pos)\n",
    "end"
   ]
  },
  {
   "cell_type": "code",
   "execution_count": 6,
   "id": "d49d9622",
   "metadata": {},
   "outputs": [
    {
     "name": "stdout",
     "output_type": "stream",
     "text": [
      "Solving timestep 2, with foot position: [-0.35669330497416457, -0.1798673859280268, 0.2760771399790852]\n"
     ]
    },
    {
     "name": "stderr",
     "output_type": "stream",
     "text": [
      "WARNING: redefinition of constant Main.idx_c. This may fail, cause incorrect answers, or produce other errors.\n"
     ]
    },
    {
     "name": "stdout",
     "output_type": "stream",
     "text": [
      "Solving timestep 3, with foot position: [-0.34364492483204556, -0.17844260347294033, 0.26799538042892956]\n",
      "Solving timestep 4, with foot position: [-0.33059654468992655, -0.17701782101785385, 0.2600426703649527]\n",
      "Solving timestep 5, with foot position: [-0.31754816454780754, -0.17559303856276737, 0.25221900978715456]\n",
      "Solving timestep 6, with foot position: [-0.3044997844056886, -0.17416825610768089, 0.24452439869553533]\n",
      "Solving timestep 7, with foot position: [-0.29145140426356964, -0.17274347365259443, 0.23695883709009471]\n",
      "Solving timestep 8, with foot position: [-0.2784030241214506, -0.17131869119750795, 0.22952232497083289]\n",
      "Solving timestep 9, with foot position: [-0.2653546439793317, -0.16989390874242144, 0.2222148623377498]\n",
      "Solving timestep 10, with foot position: [-0.2523062638372126, -0.16846912628733499, 0.21503644919084552]\n",
      "Solving timestep 11, with foot position: [-0.23925788369509365, -0.1670443438322485, 0.20798708553011996]\n",
      "Solving timestep 12, with foot position: [-0.22620950355297464, -0.165619561377162, 0.2010667713555732]\n",
      "Solving timestep 13, with foot position: [-0.21316112341085572, -0.16419477892207554, 0.19427550666720517]\n",
      "Solving timestep 14, with foot position: [-0.20011274326873668, -0.16276999646698903, 0.18761329146501587]\n",
      "Solving timestep 15, with foot position: [-0.18706436312661773, -0.16134521401190258, 0.1810801257490054]\n",
      "Solving timestep 16, with foot position: [-0.17401598298449872, -0.15992043155681607, 0.17467600951917361]\n",
      "Solving timestep 17, with foot position: [-0.16096760284237974, -0.1584956491017296, 0.16840094277552065]\n",
      "Solving timestep 18, with foot position: [-0.14791922270026076, -0.15707086664664313, 0.1622549255180464]\n",
      "Solving timestep 19, with foot position: [-0.13487084255814175, -0.15564608419155665, 0.17714397450770977]\n",
      "Solving timestep 20, with foot position: [-0.12182246241602276, -0.15422130173647017, 0.1712069635782691]\n",
      "Solving timestep 21, with foot position: [-0.10877408227390378, -0.15279651928138369, 0.16530081684635928]\n",
      "Solving timestep 22, with foot position: [-0.09572570213178477, -0.1513717368262972, 0.15942553431198037]\n",
      "Solving timestep 23, with foot position: [-0.08267732198966579, -0.14994695437121072, 0.1535811159751323]\n",
      "Solving timestep 24, with foot position: [-0.06962894184754684, -0.14852217191612427, 0.1477675618358151]\n",
      "Solving timestep 25, with foot position: [-0.056580561705427856, -0.1470973894610378, 0.14198487189402875]\n",
      "Solving timestep 26, with foot position: [-0.04353218156330886, -0.1456726070059513, 0.13623304614977327]\n",
      "Solving timestep 27, with foot position: [-0.030483801421189866, -0.14424782455086482, 0.13051208460304867]\n",
      "Solving timestep 28, with foot position: [-0.01743542127907087, -0.14282304209577834, 0.12482198725385489]\n",
      "Solving timestep 29, with foot position: [-0.004387041136951889, -0.14139825964069183, 0.119162754102192]\n",
      "Solving timestep 30, with foot position: [0.008661339005167107, -0.13997347718560538, 0.11353438514805998]\n",
      "Solving timestep 31, with foot position: [0.021709719147286102, -0.13854869473051887, 0.10793688039145881]\n",
      "Solving timestep 32, with foot position: [0.0347580992894051, -0.1371239122754324, 0.10237023983238851]\n",
      "Solving timestep 33, with foot position: [0.04780647943152404, -0.13569912982034593, 0.09683446347084909]\n",
      "Solving timestep 34, with foot position: [0.06085485957364303, -0.13427434736525945, 0.09132955130684052]\n",
      "Solving timestep 35, with foot position: [0.07390323971576201, -0.13284956491017297, 0.08585550334036283]\n",
      "Solving timestep 36, with foot position: [0.08695161985788101, -0.1314247824550865, 0.080412319571416]\n",
      "Solving timestep 37, with foot position: [0.1, -0.13, 0.07500000000000001]\n",
      "Solving timestep 38, with foot position: [0.1, -0.13, 0.07]\n"
     ]
    }
   ],
   "source": [
    "x_curr = x_eq\n",
    "states = Vector{Vector{Float64}}(undef, length(kick_arc)+1)\n",
    "states[1] = x_eq\n",
    "k = 2\n",
    "for desired_foot_pos in kick_arc\n",
    "    # indexing stuff \n",
    "    idx_x = 1:64\n",
    "    idx_u = 65:93\n",
    "    idx_c = 94:(157 + 3 + 3)\n",
    "    function cost(y::Vector)\n",
    "        x = y[idx_x]\n",
    "        u = y[idx_u]\n",
    "        \n",
    "        return 1/2 * (x - x_curr)' * (x - x_curr) + 1/2 * 1e-3*u'*u\n",
    "    end\n",
    "    function constraint(y::Vector)::Vector\n",
    "        x = y[idx_x]\n",
    "        u = y[idx_u]\n",
    "\n",
    "        dynamics_constraint = dynamics(model, x, u)\n",
    "        floot_flat_constraint = x[1:3]\n",
    "        kick_constraint = get_right_foot_tip_location(model.mech, x) - desired_foot_pos\n",
    "        return [dynamics_constraint; floot_flat_constraint; kick_constraint]\n",
    "    end\n",
    "    function kkt(z::Vector)::Vector\n",
    "        x = z[idx_x]\n",
    "        u = z[idx_u]\n",
    "        λ = z[idx_c]\n",
    "        \n",
    "        y = [x;u]\n",
    "        s = FD.gradient(cost, y) + FD.jacobian(constraint, y)' * λ\n",
    "        \n",
    "        pf = constraint(y)\n",
    "        return [s; pf]\n",
    "    end\n",
    "\n",
    "    function kkt_jac(z::Vector)::Matrix\n",
    "        x = z[idx_x]\n",
    "        u = z[idx_u]\n",
    "        λ = z[idx_c]\n",
    "        \n",
    "        y = [x;u]\n",
    "        \n",
    "        H = FD.hessian(cost, y)\n",
    "        C = FD.jacobian(constraint, y)\n",
    "        J = [\n",
    "            H C';\n",
    "            C zeros(size(λ, 1), size(λ, 1))\n",
    "        ]\n",
    "\n",
    "        β = 1e-3\n",
    "        reg = [I(size(y, 1)) zeros(size(C')); zeros(size(C)) I(size(λ, 1))]\n",
    "\n",
    "        return J + β * reg\n",
    "        \n",
    "    end\n",
    "    println(\"Solving timestep $(k), with foot position: $(desired_foot_pos)\")\n",
    "    z0 = [x_curr; zeros(29); zeros(70)]\n",
    "    Z = newtons_method(z0, kkt, kkt_jac, merit; tol = 1e-3, verbose = false, max_iters = 1000)\n",
    "    u = Z[end][idx_u]\n",
    "    x_curr = Z[end][idx_x]\n",
    "    states[k] = x_curr\n",
    "    k += 1\n",
    "end\n"
   ]
  },
  {
   "cell_type": "code",
   "execution_count": null,
   "id": "19fc08a9",
   "metadata": {},
   "outputs": [
    {
     "name": "stderr",
     "output_type": "stream",
     "text": [
      "\u001b[36m\u001b[1m[ \u001b[22m\u001b[39m\u001b[36m\u001b[1mInfo: \u001b[22m\u001b[39mListening on: 127.0.0.1:8737, thread id: 1\n",
      "\u001b[36m\u001b[1m┌ \u001b[22m\u001b[39m\u001b[36m\u001b[1mInfo: \u001b[22m\u001b[39mMeshCat server started. You can open the visualizer by visiting the following URL in your browser:\n",
      "\u001b[36m\u001b[1m└ \u001b[22m\u001b[39mhttp://127.0.0.1:8737\n"
     ]
    }
   ],
   "source": [
    "mvis = initialize_visualizer(model) # visualizer\n",
    "open(mvis)\n",
    "dt = 0.05\n",
    "for k = 1:length(states)\n",
    "    q = states[k]\n",
    "    v = zeros(length(q))              # zero velocities\n",
    "    full_state = [q; v]               # concatenate position and velocity\n",
    "    set_configuration!(mvis, full_state[1:state_dim(model)÷2])\n",
    "    sleep(dt)\n",
    "    render(mvis)\n",
    "end"
   ]
  },
  {
   "cell_type": "code",
   "execution_count": null,
   "id": "b798ac00",
   "metadata": {},
   "outputs": [
    {
     "name": "stdout",
     "output_type": "stream",
     "text": [
      "38"
     ]
    }
   ],
   "source": [
    "for k = 1:length(kick_arc)-1\n",
    "    states[k][33:64] = (states[k+1][1:32] - states[k][1:32]) / dt\n",
    "end\n",
    "\n",
    "nv = 32\n",
    "\n",
    "window_size = 3\n",
    "states[end][33:64] = states[end-1][33:64]\n",
    "for i in 1:length(kick_arc)\n",
    "    count = 0\n",
    "    for j in max(1, i - window_size):min(length(kick_arc), i + window_size)\n",
    "        states[i][33:64] .+= states[j][33:64]\n",
    "        count += 1\n",
    "    end\n",
    "    states[i][33:64] ./= count\n",
    "end\n",
    "save(\"guess.jld2\", \"x\", states)"
   ]
  },
  {
   "cell_type": "code",
   "execution_count": 46,
   "id": "c2abec8e",
   "metadata": {},
   "outputs": [],
   "source": [
    "using RigidBodyDynamics\n",
    "\n",
    "state = MechanismState(model.mech)\n",
    "v̇ = similar(velocity(state))  # SegmentedVector{jointid} for joint accelerations\n",
    "result = DynamicsResult(model.mech)\n",
    "\n",
    "u_list = Vector{Vector{Float64}}(undef, length(states)-1)\n",
    "\n",
    "nq = 32\n",
    "nv = 32\n",
    "for k in 1:length(kick_arc) - 1\n",
    "    x1 = states[k]\n",
    "    x2 = states[k+1]\n",
    "\n",
    "    # Extract states\n",
    "    q = x1[1:nq]\n",
    "    v = x1[nq+1:nq+nv]\n",
    "    v_next = x2[nq+1:nq+nv]\n",
    "    a = (v_next - v) / dt\n",
    "    #println(maximum(a))\n",
    "    set_configuration!(state, q)\n",
    "    set_velocity!(state, v)\n",
    "    copyto!(v̇, a)\n",
    "    u = inverse_dynamics(state, v̇) # requires segement vector input\n",
    "    u_list[k] = copy(u)\n",
    "end"
   ]
  },
  {
   "cell_type": "code",
   "execution_count": 47,
   "id": "341a3547",
   "metadata": {},
   "outputs": [
    {
     "name": "stdout",
     "output_type": "stream",
     "text": [
      "[1.9206790386412052e-12, 2.808912675253687e-12, 1.677233253661875e-15, 0.055885794070459426, -0.08481177117166601, 0.24759979934721957, -0.09589945974351341, 0.5221884661892939, -0.45625849809228763, -0.3203508745543521, 0.005079869213525887, 0.19599109240866744, 0.10910769293267471, -0.10318426248232228, -0.17245876410021446, 1.4157584329238388, 0.20913638218966316, 0.2077991258851042, 0.17509396581556846, 0.07785586814903218, 0.07743992433453438, 0.00134817892116859, 0.08356762924822243, 0.08209750526819433, -0.5253144489708447, -0.525542899213209, 0.1744995706828743, 0.1745139907221226, -0.0007927339886340707, -0.0008594514354240303, -0.00023311554445147912, -0.0003484705129092962, 0.0, 0.0, 0.0, 0.0, 0.0, 0.0, 0.0, 0.0, 0.0, 0.0, 0.0, 0.0, 0.0, 0.0, 0.0, 0.0, 0.0, 0.0, 0.0, 0.0, 0.0, 0.0, 0.0, 0.0, 0.0, 0.0, 0.0, 0.0, 0.0, 0.0, 0.0, 0.0]\n",
      "[-0.0018498307304751751, -0.015616488318149229, 0.012490210079777245, 0.0014300459945057534, -0.042038343725335874, 0.0592530598373448, -0.006665639400280879, 2.42502968760272e-5, -0.028872104702001467, -0.007000082058131796, 0.009063381213181, 0.00157165285877231, 0.024497636897098635, 0.0015317333256253535, 0.03693484682744358, 0.007855871366154732, -0.00795753031130142, -0.004914015945802708, -0.00021718309376536626, -0.0035021423543169367, -0.002274806391059661, -0.002739729296388846, -0.002774071929099939, -0.003740435788262761, -0.0021963113302745363, -0.006571348748250716, 0.0004215349319914574, -8.916225276084377e-5, 0.003392536380468016, 0.005400258472669806, -0.0006851232682631062, -0.0013715838165980977, -41.46084604739742, -11.458688121631095, -7.3035309176331396, -41.3679273763219, -11.060606934411428, -0.9021372852899232, -6.266265981983392, -2.4696167890425937, 1.2349422262369278, -0.2823009289193948, 0.12544293882947377, -0.32475714747353845, -0.34530562323277536, 0.43789511758223676, -0.8088727841990689, 0.026857876383883594, 0.6305336393792345, 0.26846886471246423, 0.0676483631565179, -0.020418720341136287, -0.07337410006444436, 0.0053334658370650795, 0.1200210749565637, 0.27940713573534864, 0.32719537343085614, 0.6414824970228069, -0.02353565609117976, 0.03622596407252556, -0.5769228319530205, -0.5217222348321915, 0.06059596556725434, 0.09676373039687186]\n",
      "[-0.000703764397418616, -0.007439050673824794, 0.004752718322992589, -0.0030129096326550475, -0.008080919474944354, -9.929947341474898e-7, -0.0090788347205496, 0.01940576079346845, 0.004056929739064463, 0.0037264485977806516, 0.009107046295377424, 0.028968427490830395, 0.04036120310275254, -0.001998839688359594, 0.0033261876198525386, -0.02620679456058017, 0.001304541623108696, 0.002147697078759031, 0.011985905150271925, -0.003760118019632941, -0.0028491383779971347, -0.003042870964660901, -0.002371463318016631, -0.0027410465743347018, -0.002981645996242066, -0.0033747356159590236, 0.00010305547597763698, -0.00013100320474832006, 0.002548716069982085, 0.001977828247596424, -0.000528595599777897, -0.0007051067442470488, -61.82185099741554, -65.0589533712664, -6.994426912594694, -61.632427499289484, -68.67736745610371, 3.8913802849943346, -8.839425801175585, -2.365332438850716, 0.5865300062107919, 0.1426439863783937, 0.2529837016404364, -0.04695701407332509, 0.2958133558931939, 0.19248419290042856, -0.10414935107150047, -0.03680111426858579, 0.1695142354764551, 0.04675593276350687, 0.08144177701182542, -0.3001681557084197, -0.305419595968369, -0.07584327808121422, -0.025373378750401493, -0.007931199205432948, 0.30243426128484685, -0.20084832609423256, 0.044102804691315715, 0.05414596649972231, -0.4016961655636448, 0.3252232703177394, 0.018241077867172054, -0.08989759805215145]\n",
      "[-0.00018902209824117117, -0.003765345078460053, 0.0012775391621114838, -0.004887695555952195, 0.008522146862863726, -0.03265529710247042, -0.009181581382918885, 0.03467248616215035, 0.026215766665349916, 0.012565535340797407, 0.011445024100502257, 0.05043961099203803, 0.06575277668254015, -0.0016405358705444129, -0.01745730817108604, -0.05072014714980755, 0.007458837291492382, 0.007520952497653305, 0.022803231550730496, -0.005760230403143843, -0.004851771934736522, -0.0037754719325881377, -0.0033630900815159875, -0.003333270199479779, -0.0030955912181903633, -0.0021664534169816285, 1.4100551899376423e-5, -0.0001754487821629125, 0.0017811905083951357, 0.000477655140898215, -0.0005266477916323338, -0.00048348090439401443, -98.92598486916069, -126.08876304085227, -3.667977784083359, -98.71580297400082, -134.13133313214828, 8.931309483581478, -8.30815007735039, -1.8166826719229008, -0.3800789569917773, 0.2425410495297804, 0.13841706863871595, 0.06641506082801696, 0.47060929086732717, 0.0008057590664576203, 0.21329863981195518, -0.06079854078045166, -0.07038092650724392, -0.10054085170502053, 0.08714562578569285, -0.305558322707291, -0.3043141292345555, -0.08217962719180477, -0.04251832639179498, -0.10918327831108787, 0.16564777259264687, -0.45934431113313134, 0.04320025975325602, 0.05232383774224109, -0.18263833590116668, 0.5688422457882796, 1.7330644349033628e-5, -0.14033757790175805]\n",
      "[-6.644924734224915e-5, -0.0018955332860603033, 0.0004494356148272089, -0.005697223793177334, 0.015283521126291957, -0.04642614677260505, -0.008428306041003655, 0.04615181360794485, 0.03863339221264003, 0.01762709922362607, 0.016009571317305946, 0.06579986588238723, 0.08801784956773517, 0.00013173346341704972, -0.024982542728041623, -0.06627973622134409, 0.01032830188403222, 0.010703197449856594, 0.030866673786545784, -0.007697569439851351, -0.006760874975739947, -0.004655828178260206, -0.004636809331703837, -0.004398219707722466, -0.0030174496838967224, -0.002120320192892433, -7.073781143759894e-5, -0.00017761153580070355, 0.0015197949156057636, -0.00010270174946173764, -0.000544002570237652, -0.0004454527038531429, -116.70053170940999, -170.84541314776718, 7.274285720894675, -116.78041627449926, -182.13470210413706, 12.103054249446258, 0.7848029802481256, 0.7003599284092308, -1.1219462050178854, 0.2363354913015645, 0.07462356234044631, 0.33629050930924453, 0.5147801967730334, -0.006500590183164762, 0.3190740597470414, -0.13930417899944558, -0.1007051125824468, -0.16916343038697892, 0.22653802781672638, -0.18624743441811503, -0.1788250324729848, 0.009278163451873989, 0.0005511404121156527, -0.08364654787059353, -0.003079787457682441, -0.3560858977234956, 0.019024018346783435, 0.02992074631411196, -0.009205977797067742, 0.46846283853688087, -0.00839273314111697, -0.10982023911788948]\n",
      "[-0.00010915500729837285, -0.0010479970445774177, 0.0007371108859985621, -0.006119374887785051, 0.016762742353272565, -0.04875146342064962, -0.008961828089693813, 0.053127307881744135, 0.042824740905787195, 0.01901019426241815, 0.02023173619617337, 0.07565053989963533, 0.10362585883079167, 0.0014238572537657312, -0.02488278733948024, -0.07534471656588004, 0.011862457757392086, 0.012125807266167132, 0.036162174727109475, -0.009171325479132277, -0.0080598996129597, -0.005320200751584528, -0.00551803399629508, -0.0051021727640495965, -0.002920318855360593, -0.0017905150816666104, -0.00010363377281982777, -0.0001518658196233702, 0.0009306140482643619, -0.0007754613381242689, -0.0005532452490364945, -0.00037856615736941816, -108.34307315872988, -202.981242994392, 9.193610073595526, -108.45709181519783, -216.47219290589805, 14.565212751706897, 1.7917822324354562, 0.9266907949973882, -1.7130477257925723, 0.15281260976246824, 0.010241826105778062, 0.3138340935220665, 0.4608676317798768, -0.06692214480040581, 0.294119323632097, -0.12730014831382075, -0.12766279424298638, -0.17665341242490706, 0.21274925002637057, -0.1344252479475545, -0.12680370568459837, 0.012655230684027019, 0.0072344762885179215, -0.07827722622766606, -0.06498335571935458, -0.331100204766156, 0.010576149679024134, 0.02002748816170606, 0.07578158042318953, 0.4295811941918885, -0.011599065385516742, -0.09644837902913861]\n",
      "[-0.00010686535596399668, -0.000609159463901423, 0.0007213868654542494, -0.006530311030931504, 0.017393590797041166, -0.04963876561255619, -0.01012407943524482, 0.05899109599004426, 0.04567206706713431, 0.019810389628930197, 0.02394681928574087, 0.08392090768718463, 0.11573985749798088, 0.0023166487228118565, -0.023651795738070247, -0.08304234339986971, 0.01288455019535023, 0.01312546723712682, 0.04070956413505428, -0.010369779064649014, -0.009065549407070682, -0.00594654847981586, -0.0062168027136421805, -0.005700590318567525, -0.0028940581811380817, -0.0017924005371121599, -0.00011095381874637322, -0.0001277554752249499, 0.0004930578302045543, -0.0011305859808843034, -0.0005654875728508496, -0.0003609836015174366, -103.76478094208224, -220.1043506624722, 12.15047845608045, -103.9791642685229, -234.75179905051974, 15.747767372400839, 4.494499255599449, 1.5652906456683768, -2.0385146413803605, 0.10345619540286682, 0.013055520082042471, 0.34700175635897645, 0.41477770951484816, -0.050316793756023506, 0.2690106333417413, -0.1170011489998779, -0.1255443834553254, -0.17146738397130065, 0.2235045972655676, -0.08063235592069035, -0.07480183818605735, 0.030832698250471885, 0.01740344050560297, -0.060507665960796264, -0.12251578182478941, -0.2836306834999182, 0.000801413251831211, 0.01018691229904275, 0.14414666688912675, 0.37266938995660265, -0.013371843964798017, -0.08021185815595268]\n",
      "[-8.58872368763272e-5, -0.0003540341718585949, 0.0005796850334005432, -0.006688811988452909, 0.0170424296889964, -0.048294681814538276, -0.011494877710724577, 0.06271085717068725, 0.0468280528774534, 0.019650403103789682, 0.02690123458167687, 0.08963475902425655, 0.12398990038047009, 0.0032328289440317626, -0.021176845105716158, -0.08842247672916936, 0.013464362419808418, 0.013707297721113065, 0.04417938765471219, -0.011222988571912198, -0.009750474054198335, -0.006501972204057779, -0.00670196237509299, -0.006122091299185652, -0.0029646201768396274, -0.00197887628250204, -0.00011973905548212649, -9.666454696427573e-5, 0.00019652836904418807, -0.0012906902979654472, -0.0005707301026605213, -0.0003714040850391711, -92.45839137188857, -222.9782293909648, 14.944661697077745, -92.79102388135864, -237.80245113299097, 15.822626457761066, 7.53968541579518, 2.2765038765768395, -2.150439122269856, 0.08772905483827032, 0.044874419056938564, 0.396147992329412, 0.3816048403540191, -0.0002370577997923562, 0.2571741406471799, -0.10511802969802853, -0.11444133731840395, -0.16207959395136987, 0.23685854601585432, -0.038366629881783965, -0.03170562547535799, 0.051944213696050456, 0.0248927663271849, -0.04236111150314753, -0.16823271180164673, -0.24044490869819052, -0.005701229446820365, 0.0009473921102259005, 0.19431252536906227, 0.3229361935002355, -0.015329955786296581, -0.06635054951954396]\n",
      "[-5.265939460655826e-5, -0.00024832886167887693, 0.0003555062442403884, -0.0067641214061856525, 0.016088554730020566, -0.04569211821298359, -0.012971229471608031, 0.06482994326750058, 0.046802368276995354, 0.018841390492640386, 0.028894517481851484, 0.09334724045836618, 0.12865847687481902, 0.004001072797877578, -0.01834928552900239, -0.09222662707577067, 0.013869560432240025, 0.014037030991698063, 0.04682812394047836, -0.011754243429797247, -0.010113612767682648, -0.0069406073065583565, -0.00697640091178095, -0.00633979883038132, -0.0030852144373713086, -0.0021876384167234253, -0.00011842005967530045, -7.061291504797951e-5, -8.548667437409483e-5, -0.0013937314337980214, -0.0005680083885782707, -0.00037905622171316867, -78.71056728825123, -221.7845101973713, 15.784757398650425, -79.0913509842413, -236.50299411027106, 15.67506954099283, 8.74191245316344, 2.5255633916260023, -2.2072095787132895, 0.06622569331319811, 0.07169700791760314, 0.39787347310734056, 0.34015591964962333, 0.03030595885627055, 0.23263676576534106, -0.07780262464246013, -0.1077903512739905, -0.1481349390121434, 0.2179233240850702, -0.012139850981400913, -0.00578222065517342, 0.05926086361579935, 0.02635477601399769, -0.03113251262145894, -0.19621751494028497, -0.21920388080190456, -0.008984402293497808, -0.004748601725664697, 0.22949194581301513, 0.293457319286166, -0.01682386327740156, -0.058168811215659345]\n",
      "[-2.2905741281291296e-5, -0.000183834533618952, 0.00015466207321319442, -0.006740138016449992, 0.015209920244121117, -0.04326483695171374, -0.014266640728732793, 0.06566425736689685, 0.04655452454910258, 0.017768038096155875, 0.030091145530389773, 0.0956314308970212, 0.13097847041041832, 0.004743573862932504, -0.015983417467213268, -0.09523619987023813, 0.014225681376107746, 0.014319313724280858, 0.04896122740101355, -0.012064012252161915, -0.01027763341639349, -0.007315917097402806, -0.007114614566388643, -0.0064285871223482005, -0.0032482022299493707, -0.002446858094188542, -0.00011529234115589815, -4.833535515721965e-5, -0.00029759097071309186, -0.00143336883340102, -0.0005602954631861545, -0.0003884936794913206, -66.47767327595628, -214.32912181803297, 16.607147852235116, -66.91107499982344, -228.5232814675112, 15.055791666752597, 10.05437776986886, 2.8022321141045206, -2.169585222822965, 0.06305491988887635, 0.1020926897316411, 0.40718984940108927, 0.30749482105056014, 0.06914828849817015, 0.22021282152886373, -0.05310000698163808, -0.10114833034217041, -0.1353522034311969, 0.20169710714820632, 0.00964997519668409, 0.015735551284385002, 0.06741049582544928, 0.027112119543031027, -0.02174992954435312, -0.2187740411076056, -0.20065306545306433, -0.011594700684263909, -0.00941038904906558, 0.25719663630466094, 0.26735354232030095, -0.018122890592679766, -0.05127375086593619]\n",
      "[1.6716408087789425e-6, -0.0001389145280055543, -1.1204873469434334e-5, -0.006611866850601129, 0.01427288062688307, -0.040653092929389956, -0.015379104203516264, 0.06532268920890494, 0.04593328329635091, 0.016413099180957902, 0.030661243496068746, 0.09653378221471631, 0.13116997260339747, 0.005493114942916946, -0.013765621841913711, -0.09740683411937434, 0.014503198919868898, 0.014522828441900726, 0.050591386220332324, -0.01217196736291393, -0.010258887001577677, -0.007625411892262561, -0.007135622713896665, -0.00640151684345152, -0.0034266819363584222, -0.0027141205711419536, -0.00011190831394197742, -2.8663045165328027e-5, -0.00046924531318307244, -0.001447519623136626, -0.0005465216343689787, -0.0003932285569330789, -53.726342070579214, -203.28307418346614, 17.006538741721066, -54.19707816953988, -216.71684105714968, 14.192485372540943, 10.987463834847539, 2.987053002030346, -2.083497186679721, 0.06502847983124455, 0.12714320751050467, 0.40972059838065356, 0.27841210357554047, 0.10243738586498882, 0.210478312292783, -0.029353135973931188, -0.09496743871858793, -0.12324603677040119, 0.18143905655179804, 0.02571043713620874, 0.0317503574586451, 0.07339691157039599, 0.026786628082326985, -0.014509031971533609, -0.2341040310339818, -0.18590197699501831, -0.013094645965380562, -0.012889263654347448, 0.2762641368307134, 0.2456892944406378, -0.019156277805947496, -0.04578598655697445]\n",
      "[2.124387813799118e-5, -0.00011333198238306792, -0.00014328071774125475, -0.006430238884929312, 0.013332283705847398, -0.038038787602547836, -0.016295778328329374, 0.06412922502133545, 0.045094407603362446, 0.014929341563937215, 0.03071616843076913, 0.09636030651521854, 0.12963616002544764, 0.006220093424742668, -0.011784312262409447, -0.09904238968600088, 0.014735783809689262, 0.014678378080587029, 0.05186044498170067, -0.012116514020200793, -0.01008963194492506, -0.007872715654456852, -0.007062835740484177, -0.006280160336881481, -0.003603508376086917, -0.002971685573057603, -0.00010621493005233407, -1.275935133984718e-5, -0.0006214114635212202, -0.001452447313102955, -0.0005278482587753601, -0.0003910997339885503, -41.91551883120127, -191.43932311017545, 16.907721456177153, -42.401654646742344, -204.06570800018918, 13.300420589482137, 11.389177973540491, 3.0449297360584686, -1.9867043704062093, 0.0640996263575071, 0.14429494017148115, 0.4009569701671083, 0.24984715339228059, 0.12454521316198933, 0.19826314343127233, -0.006047117050844708, -0.089720096950961, -0.11181492800337872, 0.15571438361806145, 0.03703870556981187, 0.04272305169727106, 0.0760341005476868, 0.025755355789190137, -0.009212407674528744, -0.242814068923435, -0.1742891385028202, -0.01387949353245855, -0.015104312206785398, 0.2879730427192081, 0.2275043662102595, -0.019775082745872682, -0.041458813887881515]\n",
      "[3.634037882787982e-5, -9.641449894148476e-5, -0.00024513181019150275, -0.006212187463191691, 0.012451769246939672, -0.03556679272064154, -0.017002329161797503, 0.06231183568607224, 0.04417733895314915, 0.01343253281473722, 0.030398250871271515, 0.09534795293779608, 0.1268048478096827, 0.0069362506445593, -0.010060111421988482, -0.10036411384193789, 0.014932855293833869, 0.0148054498705536, 0.05288180375808027, -0.01193477852766136, -0.00980860712156427, -0.008075681380942397, -0.006919332157859864, -0.006089527178883024, -0.0037770415010359715, -0.0032219447897228193, -0.00010019959509655063, 6.258209570564333e-7, -0.0007450818689684136, -0.0014459897731197695, -0.0005056654051359202, -0.00038443929637420066, -31.000307927496216, -178.35525371920212, 16.62882148144319, -31.493259577017994, -190.09670464459214, 12.329514608618817, 11.595303888283546, 3.0583314984454795, -1.8705922374862731, 0.06481415483288333, 0.15619787001532703, 0.38962269644681946, 0.22446858601009811, 0.14160359966819627, 0.18785495932689517, 0.014661702759305673, -0.08465773376236169, -0.10155474510027857, 0.12968892446838254, 0.04527716465082196, 0.05065146493956457, 0.07769029844351144, 0.02453231363647601, -0.005071255385472401, -0.24720803015251142, -0.16383456522053136, -0.014218025879660605, -0.016590885032134323, 0.2940738925923413, 0.21116495076255634, -0.020124856458000794, -0.03778728762930316]\n",
      "[4.616882766533188e-5, -8.239626505374148e-5, -0.0003114349774253304, -0.005956431720268185, 0.011608736105710261, -0.033169718144468306, -0.01751809158322304, 0.05997854279378256, 0.04316881736762565, 0.011961124924109473, 0.0298151329436821, 0.09360137655172596, 0.12294260246670097, 0.007657830532154186, -0.008493985370102208, -0.10144312667634636, 0.01508688945537362, 0.01489620533029018, 0.053722090170983616, -0.011652822039088944, -0.009439043709542586, -0.008240083949091488, -0.006721002885383326, -0.005845533847649992, -0.003937263608500885, -0.003456470709828241, -9.381078994555314e-5, 1.2177456895690053e-5, -0.0008524464975668295, -0.001435587054041912, -0.0004803261098221827, -0.00037308277459259563, -20.584700892807664, -165.06469097351663, 16.09761103532654, -21.07224534817749, -175.91333605038193, 11.361169827951526, 11.514418780106318, 3.005560687090133, -1.7504542967564067, 0.0631616829283157, 0.1622112092796364, 0.37316290540477803, 0.20052413031643468, 0.15113433198310788, 0.1759869986919203, 0.032879188012339355, -0.07952483712044861, -0.09201617740688445, 0.10269527869821626, 0.05068688902471649, 0.05578910320332259, 0.07778973771028691, 0.023171678746520014, -0.0018116264598293796, -0.24683472584000193, -0.15356850369743696, -0.014120919398271857, -0.017415464328249215, 0.29429193071143855, 0.1955598665520625, -0.020137629677772086, -0.03447679464904865]\n",
      "[4.589195084173937e-5, -9.085062018062533e-5, -0.0003095427701910618, -0.005898029209528807, 0.010798956947846763, -0.03142103302350578, -0.021147970001845123, 0.05896968588852758, 0.04415118951729147, 0.0092852703681984, 0.029079428838236054, 0.09412202381630208, 0.12218200913201571, 0.006700486703143244, -0.007164167137086785, -0.09451992234123174, 0.015321815444734765, 0.014980033891974442, 0.04968803653598508, -0.011944172578458255, -0.009452907212654856, -0.008203756871755216, -0.006744930587799493, -0.005778117381501559, -0.004027697206614778, -0.0036180410903196014, 2.2630010852675575e-5, -4.695552112990442e-5, -0.0012778644669247628, -0.001521743535022142, -0.0004961714513767716, -0.00033403506971544424, 2.149128154657522, -117.49029647737943, -3.354631178325817, 2.3956025014550266, -125.31862919019086, 8.87170366844657, -6.356564997152922, -1.450109577971341, -1.408300695952338, -0.22586168273981466, -0.04041415086295563, -0.13306758453772183, -0.014527008285415643, -0.22862746146002882, -0.14342789134720452, 0.026859310335408892, -0.020228342764126273, -0.015699002145527385, -0.08891635246398266, -0.015915821705441424, -0.02159086881339453, -0.0024810689848002165, 0.005741383240821324, -0.01309239318934205, 0.0907053081771375, 0.044855070963410286, -0.0012505931364800186, 0.00925557888500586, -0.08075276229300522, -0.033876747359440726, 0.008545677813045025, 0.005208070179176414]\n",
      "[5.365301532405687e-5, -6.494554512198645e-5, -0.00036196367023216586, -0.0057447327544798595, 0.010135306116375458, -0.02999604474706602, -0.025384310862448106, 0.05782370554717853, 0.04623853574684658, 0.005435862615384562, 0.02869204026043884, 0.09443770903865312, 0.12188984626841637, 0.004598899524654268, -0.005756751106852753, -0.08408593727850189, 0.01528113181126306, 0.015110977546572368, 0.042762077509467256, -0.012039230063188851, -0.009594155274468807, -0.008046555009938179, -0.006834525308301503, -0.00585847511442085, -0.004250608882541251, -0.0038978538472791424, -2.790923969614445e-5, -4.4869216611620466e-7, -0.0011238215996460504, -0.0014408193957957255, -0.0004920752044052798, -0.00037730554505285667, -51.61721949268618, -140.02772174668166, 15.007989751220572, -52.08575459949161, -149.20495750908984, 9.552365040692772, 11.199316015109552, 2.8714564134266083, -1.515389080692716, 0.04290420961523477, 0.17467919743484128, 0.3338672269454608, 0.1545928217020811, 0.1522639836533393, 0.14138181554503595, 0.08029875033126288, -0.0704288025992304, -0.07345249106723212, 0.031458013974771326, 0.06889637827217787, 0.062235582936101624, 0.07813063575545681, 0.02023027493915433, 0.00043407976754331057, -0.24517021273619755, -0.13495931095635627, -0.020237475612071645, -0.014357450385042237, 0.30141745289176625, 0.17141915959947263, -0.0184087083994414, -0.03162160644061061]\n",
      "[5.372261433015425e-5, -5.4929170769761446e-5, -0.0003624000671305538, -0.005398600428241517, 0.009566560250508272, -0.02815213481060563, -0.02785802258411238, 0.05503786971412927, 0.0463645638502031, 0.002539866197139584, 0.02834030799851986, 0.09267826950287561, 0.11862688414520095, 0.004110183544426424, -0.004019258000232118, -0.07845218305101587, 0.015237037306276846, 0.015083160273980045, 0.03875577531030194, -0.011915417922980153, -0.009395337588543174, -0.007951671288963916, -0.006744591278040342, -0.0057225430356611096, -0.004353418508655671, -0.004078213247747597, -1.7133977991218297e-5, 7.28700418375916e-6, -0.0012286603634629797, -0.001430211110567443, -0.0004793594899019575, -0.00037443582078207577, -44.0838420954065, -129.26336767630482, 13.8740844974024, -44.51576369081725, -137.73021881208754, 8.813055645185022, 10.379488078259248, 2.6494484842064305, -1.418857056881458, 0.027216073407401634, 0.16590737467936778, 0.3019468936098013, 0.13142396149387903, 0.13806616287801307, 0.12335212945885266, 0.09398833008160623, -0.06513550162192838, -0.06587013187334528, 0.00010555100235487558, 0.06884524474175333, 0.06170326411660715, 0.07414124840158555, 0.020048290236125865, 0.003007111553982214, -0.23282714027859153, -0.12074328975512447, -0.019577685329823864, -0.013755043595580344, 0.28765856963216097, 0.15331801273614143, -0.017299854850144313, -0.028104618491393007]\n",
      "[3.560211968245236e-5, -4.4960768130436505e-5, -0.0002405456921358367, -0.005307519633730488, 0.008953051658453257, -0.026995490752723703, -0.034019417512989064, 0.05415491052509391, 0.04900248536872255, -0.0018258688437172155, 0.027997913848133937, 0.09401435391239688, 0.11959689016538855, 0.001748545811575436, -0.0027142767212051666, -0.06331528626614547, 0.015272335078250487, 0.015145290009002832, 0.028801777976781295, -0.012537981332847187, -0.009694519501122378, -0.0076493306544821935, -0.006994004693605588, -0.005860057588609302, -0.004345895606553518, -0.0042627357723389325, 0.00013881582547550786, -8.233713140456955e-5, -0.0016968932255724666, -0.00150378061515603, -0.0005274248787378736, -0.0003415364411731565, -40.82882110236442, -83.7734407321204, -4.3148769582138184, -40.577872436332946, -89.37572602316436, 6.4273118998899115, -6.319962520854219, -1.5015607112641374, -0.9743880622641271, -0.21001870591299648, -0.05046826238693514, -0.17117607858925177, -0.058173715033307705, -0.22585279750514814, -0.1265088354319785, 0.0648181270980881, -0.01594481366827416, -0.0105543760953965, -0.15455285088822324, 0.004858443104968191, -0.019286698187293644, 0.0062530355106130975, 0.01171477872450935, -0.010372743522398462, 0.10507105675265235, 0.08580361261862453, -0.011570935169068534, 0.016375181277800008, -0.08651137396448888, -0.0740215024761371, 0.013613628907543071, 0.009615867931134578]\n",
      "[0.000552997435167634, -0.00018826831323763937, -0.0037308278089884955, -0.00020410968394402387, 0.0072253742512960045, -0.014368486690038136, 0.0038915432770924296, 0.023946085379651927, 0.01433846579069821, 0.014419461048513604, 0.02791109970895589, 0.05107395266825265, 0.05711199387538601, 0.02976583305136489, -0.0010635042382423354, -0.17329111990519463, 0.014154102965435233, 0.014813701361801601, 0.09485737838647534, -0.004204806100605321, -0.0018423748666934834, -0.00839826839396407, -0.003193939159097124, -0.001977502041512709, -0.003601258005212382, -0.0026730985433478516, -0.00023780400682454905, 1.1271352193531481e-5, -0.0008864960119299003, -0.0038011877817669577, -0.00011787526970726426, 0.00048492763541077, -119.27252140764719, -188.2339402796645, 51.953300879271715, -121.28598777018851, -200.09834187287538, 10.82792785072743, 46.47451753793181, 11.620378489648134, -1.9873506635347957, 0.8066352759058166, 0.40186996478084935, 1.3530476205578565, 0.7612689623060409, 0.8523850814970617, 0.9575466761498521, -0.03742661390736535, -0.09666594622849872, -0.2828172554817207, 0.621580546448133, 0.14543464164309805, 0.14434280421771262, 0.011739257090733951, 0.0905515595507286, 0.07038345987621458, -1.094814964587689, -0.7267572085697359, -0.047879583297224096, -0.05374997913211157, 1.1735564560119534, 0.9375512150634957, -0.07643494743877087, -0.17425320945873685]\n",
      "[0.00020047697748379486, -0.0006572826949966895, -0.0013523829122765133, -0.005679736118070941, 0.0057558524397599295, -0.022756192166121025, -0.028370354565222244, 0.04989284791050985, 0.045283435249059215, 0.0013884659429669877, 0.022194397962436496, 0.08497519993052949, 0.10069860554562915, 0.004771585519077429, -0.0063725233014553795, -0.07995955340972893, 0.016243014873793038, 0.015948993631238473, 0.04057814946098731, -0.01011025066538854, -0.007709552268500466, -0.008139571020018999, -0.005819024302701807, -0.004575651352886283, -0.004951485989417526, -0.004693049716554931, -7.303452947129974e-5, 5.4365721559979097e-5, -0.0009657872394127943, -0.0011799439221410121, -0.00039265727323821225, -0.00036948376718640196, 3.8210057462067004, -109.03722123651167, 15.05875495390193, 3.300724843088211, -116.10384908518016, 7.234450464741412, 12.07506194353889, 2.9136180902183666, -1.4692899628477312, 0.025526165316432647, 0.14600701749036793, 0.2820849345695047, 0.09456723090225405, 0.1285075402106188, 0.20361385399451185, 0.14029141520573862, -0.10518909222934647, -0.10118200812989775, -0.019214609079907796, 0.06592712971078421, 0.07938187692096912, 0.08438342825824197, 0.030477356992274662, 0.0014033526069452684, -0.27292186307384303, -0.13678914229602773, -0.012262877103405003, -0.02139613727139398, 0.3196286596226959, 0.15476203425524654, -0.0232792106740137, -0.025432511641844582]\n",
      "[8.313815439115796e-5, 1.7091709009791347e-5, -0.000560914208933759, -0.004381796484296072, 0.007434670460622709, -0.02209032965932989, -0.02932920799153893, 0.04357682086503667, 0.04411307942989126, -0.0011802465866365686, 0.02380807614085001, 0.07967248448919761, 0.097206946554802, 0.005716440823815699, -0.0015008732946252823, -0.07700284233548094, 0.015439607618453866, 0.015186827590199625, 0.038154638785889206, -0.010090027323743405, -0.007513539575308001, -0.008092931049480709, -0.005673483656987707, -0.004489919459590368, -0.0047087727227564935, -0.004676086250186451, -3.598791532477552e-5, 6.33647524211356e-5, -0.0013411089223589676, -0.0012769711299225103, -0.0003619620216354265, -0.0003324343366639367, -3.2068066606063397, -100.49775898435402, 15.406548714585103, -3.7280763303696975, -107.024740849952, 6.61492073610065, 12.459056053324773, 3.0225186428228907, -1.4667074196443157, -0.0130737571814169, 0.1882625052038024, 0.30291547226074766, 0.08477308551811435, 0.1342412245167956, 0.10851876196734522, 0.13876253954519058, -0.06877023589651138, -0.06508386992528087, -0.023402843503106063, 0.09011752187537328, 0.09047332937796415, 0.08139066670025313, 0.024132834482380044, 0.015021723340229318, -0.3017546687429471, -0.13053220047739422, -0.01813654831288401, -0.02166145913025338, 0.35753250496595834, 0.15159007436652908, -0.023962265233439254, -0.025254845639106523]\n",
      "[6.972669256757507e-5, 5.791666302401711e-5, -0.0004705388042142399, -0.0037022834305694852, 0.007079897541937207, -0.019879792166324142, -0.028665884139885855, 0.03839721752759173, 0.041957125533256034, -0.0019315068603084629, 0.023521156293689588, 0.07397346123054194, 0.0895151466432822, 0.007107114218504795, 0.0008409751549331157, -0.07903719489597238, 0.015070707015141016, 0.014797819131715406, 0.03915164337397348, -0.009386233888255217, -0.006810320088597053, -0.008115850002671052, -0.005234428655521282, -0.004077001036820495, -0.004732407380081405, -0.0047472496642613216, -6.803023629226024e-5, 9.752446324631792e-5, -0.0013275463461713786, -0.0012325065818017452, -0.00031165164271580725, -0.00031677318248439154, 4.251482104799936, -102.70773132740858, 20.035715896131407, 3.55989195821998, -109.33974624234831, 6.520543477123691, 16.806210740344927, 4.0943147797598485, -1.6344939280095554, -0.00833552318361009, 0.2702176468943429, 0.4178861114353769, 0.11580168850682271, 0.20236983386221274, 0.1023061552406043, 0.17212913017413944, -0.061750772511209695, -0.058768599528095156, -0.02113971643403567, 0.11902807272452409, 0.1184740450972522, 0.09658676061415855, 0.021421952221721996, 0.027595742113178758, -0.43007807200137926, -0.20324592604295694, -0.021801837214043284, -0.030746627162260502, 0.5011625533674045, 0.23091881586954727, -0.03519366259629766, -0.03927936213771721]\n",
      "[5.377355083826934e-5, 3.851727391550118e-5, -0.00036288894220968263, -0.003228390462147226, 0.006459420193616779, -0.017765736892349383, -0.0273802838052285, 0.03378996924585209, 0.03970197075595293, -0.001683274605029761, 0.022655786174020226, 0.06839151539576349, 0.08092749617092831, 0.008966108469330325, 0.00206890248256289, -0.08299175935157199, 0.0148814643701638, 0.014590862396063609, 0.041872720934070684, -0.008640764657717187, -0.005961431209934458, -0.008171007202894653, -0.0047794383453983805, -0.0035846057849423935, -0.004720290883687306, -0.004870123291350059, -2.784569546177007e-5, 7.773229547519689e-5, -0.0014254407274271411, -0.0012049674038933766, -0.000277778646723072, -0.0002681256456768676, 16.57086413150484, -78.49221870296606, 12.692977875601066, 16.153713011049955, -83.59143077448974, 5.127219764335875, 10.292070155476733, 2.5050463322402354, -1.1966638284587074, -0.03497258719360867, 0.17377776080863094, 0.253893636199928, 0.05647709345067242, 0.11530562880928852, 0.052309684350824365, 0.1418795267146682, -0.04320879291697821, -0.04081552083588674, -0.07040712036075525, 0.08171346395774973, 0.08042447302850737, 0.06760480221337489, 0.018379739825186522, 0.02011471669033669, -0.27009190312892056, -0.11069262651997024, -0.014878780618876566, -0.019380352486030327, 0.3181828652706102, 0.1284290399300746, -0.021825573048154738, -0.02140267872882783]\n",
      "[4.8332567689626147e-5, 2.0291998163465747e-5, -0.0003261856277252985, -0.0028653657754391035, 0.0058926229167787746, -0.016091754953718652, -0.02671934308114665, 0.029841280849928098, 0.03824215172070345, -0.0014276472448216948, 0.021480823939498378, 0.06341915975972712, 0.07327419107437316, 0.010201750976943043, 0.0027860151509161435, -0.08550706899672811, 0.01475982272431181, 0.014440516982168194, 0.04396479949049248, -0.007927755744070236, -0.005220061128075756, -0.008214406587136222, -0.004347671856570784, -0.003134252559392099, -0.004757061584081401, -0.004968179475657086, -2.1081676896073098e-5, 8.021510584652058e-5, -0.0014293529397711047, -0.0011624001154414108, -0.0002401573144960702, -0.00023637770147113928, 18.297729956108853, -71.2748079123975, 11.76888200210693, 17.91580980573707, -75.90716667092182, 4.643365602250921, 9.550223332866414, 2.3232588266146146, -1.104586720130454, -0.04168242551359576, 0.16641371876694044, 0.23478301767825327, 0.04535830495354709, 0.10907090645029793, 0.039143191488387435, 0.14753599523191774, -0.03758598813060987, -0.035313411079404, -0.09495201608209092, 0.07851930286482864, 0.07675211169467011, 0.06222504265418685, 0.016888462990239703, 0.020279908920890655, -0.2555689053759661, -0.10212613745270299, -0.014047673015199096, -0.01827788592044312, 0.3005541707609571, 0.11821902867263592, -0.020767770850655374, -0.01986351742672399]\n",
      "[4.2163860434051404e-5, 3.614858991725361e-5, -0.00028457451188747756, -0.002459320497206976, 0.005525660954417552, -0.014698980549149383, -0.025713579296576916, 0.02570598576201899, 0.03668600820309366, -0.0007149792788424536, 0.02029234434333252, 0.058087514025831566, 0.06537726861214754, 0.011701511692645945, 0.003381687824651508, -0.08919939465108906, 0.014642403292368211, 0.01428427556891948, 0.04714821732828367, -0.0071623087669190465, -0.004432067601980165, -0.008304327495769676, -0.003892028160766982, -0.0026577986790013858, -0.004773197240565463, -0.005058716145329267, -1.4923082500062357e-5, 8.279742037523019e-5, -0.0014393712881499258, -0.001115431569551401, -0.0001990418069828248, -0.00020277150188530504, 22.679727687869793, -63.619650234086485, 10.422538725659178, 22.347794915790914, -67.76153106931979, 4.15372425358769, 8.418236179113265, 2.0433009657057744, -0.9917293464120167, -0.04671957771653716, 0.15093404036033825, 0.20536057512496053, 0.030342286662516038, 0.09899836925185862, 0.029653458505833674, 0.15099782049643196, -0.03317031134731602, -0.030971503491666663, -0.12215571671013259, 0.07210650394062139, 0.07091822082616549, 0.05590821770992713, 0.015978726325646668, 0.01954977311696196, -0.22903189304249286, -0.08576674441300448, -0.012368780003767045, -0.016673139374448913, 0.2689008843778069, 0.0990495628203586, -0.018805201666998714, -0.016489579309435537]\n",
      "[3.575206381420063e-5, 2.2106871639381937e-5, -0.0002406264307825371, -0.002088452859996117, 0.00505958336920767, -0.013287672353617245, -0.024736097714396, 0.021707606772867538, 0.03524389220499664, 0.00039664737703559716, 0.01913193381237399, 0.05279717736234257, 0.05747978250577368, 0.013206501703282782, 0.00388535704527454, -0.093209461031871, 0.014520974050013735, 0.014126217188517032, 0.050989940639243, -0.006386977257957827, -0.0036203201248978453, -0.008422507313839506, -0.0034356311204671447, -0.0021736495636010544, -0.004776242738572356, -0.00515940367121881, 1.3421963438731144e-6, 7.73461998817282e-5, -0.0014579094284566507, -0.0010616730357977562, -0.00016028684089189468, -0.0001653923355684631, 25.854481168540318, -52.52714263433251, 7.4230748135946945, 25.63051549945112, -55.96235817405177, 3.497382263561435, 5.801751821660412, 1.391939676045105, -0.778632981978364, -0.04986692045751602, 0.11036230512911827, 0.13670502883674207, 0.000328323358767868, 0.07336891466685841, 0.02019684155721488, 0.14773101262186072, -0.027579550388253715, -0.026074265471520863, -0.15960613234246157, 0.05644851154433306, 0.05611404067551498, 0.04538783569569646, 0.015664211320403278, 0.016033452684059663, -0.15948499871158422, -0.04244428560225848, -0.009127385047955612, -0.012164312213408576, 0.1884216104401244, 0.050707861951968684, -0.01324213587250658, -0.007894512619582041]\n",
      "[3.0180999838587736e-5, -4.645826543977636e-6, -0.0002041945673819031, -0.0016903670360091903, 0.004570631355124824, -0.011919352600262915, -0.023944157700535984, 0.017654764974576964, 0.034024540234089365, 0.001757966917073528, 0.018017424081914535, 0.04747823088748493, 0.049767173742464976, 0.014626103109480199, 0.004365777063127935, -0.09707531467858632, 0.014389174250784842, 0.013949104118207323, 0.05518623391109456, -0.005606537676647701, -0.002813571373528969, -0.008568394600321202, -0.002976920480111195, -0.0016904517962225418, -0.004775083636415767, -0.005256654817437534, 1.343490940908243e-5, 7.486281899787839e-5, -0.0014658715928919947, -0.0009969343364880472, -0.00011971403639451797, -0.00013075312583220007, 26.79175090860268, -44.81136881106258, 5.537813734712265, 26.634950863751513, -47.75234130746522, 3.0281375745523893, 4.177868468592373, 0.9821669305281282, -0.6278604284330658, -0.05005919922153042, 0.08625146315050924, 0.09290774292537618, -0.022788553276263057, 0.06251337694788689, 0.016539707558250294, 0.15169276346707372, -0.023962196989830598, -0.02302616939353208, -0.1945902712931522, 0.047621171118920766, 0.04781764030659468, 0.03917822635102869, 0.015875699566793345, 0.014196826111242818, -0.11562107251381577, -0.01244583951317195, -0.007198673157029343, -0.009391886954409864, 0.13734454297128068, 0.01706217948478085, -0.009798783638623987, -0.0019094209298939967]\n",
      "[2.2108813498192094e-5, 1.0881913606376222e-5, -0.0001490400292785264, -0.001259323363103488, 0.004280203103057725, -0.010845861091013383, -0.023179245059236964, 0.013425417655979821, 0.03296800287095619, 0.003393817182921477, 0.016952280748122966, 0.04198623454916073, 0.0419254589238337, 0.016095920223679797, 0.004827132251729038, -0.10123587105091458, 0.014246399411316835, 0.013757046599315148, 0.06000817662040503, -0.004790947020955302, -0.001969746125273713, -0.008752350960127761, -0.0025025011844667933, -0.001188365298215921, -0.004752382172974023, -0.005352068731160786, 2.816649530903992e-5, 7.018159760976972e-5, -0.0014856242312292246, -0.0009303820147592307, -7.684861062474914e-5, -9.266453844666497e-5, 27.051639689840886, -36.37721164467681, 3.35410194102338, 26.970854350666812, -38.777490332725364, 2.5236619870392776, 2.2980810058913965, 0.504680208188632, -0.4529151683740363, -0.04676103776251969, 0.057451556214638044, 0.04157584745764509, -0.05070687198523932, 0.05184409126911804, 0.017750446887466825, 0.15620778973120553, -0.021021414679024797, -0.021138890226381157, -0.2331215637336166, 0.03763643247739252, 0.03846906870907996, 0.03311964543652404, 0.016883284541422006, 0.01193817055913426, -0.06432278353185424, 0.024085518573942588, -0.005057270561531184, -0.006043239815434496, 0.07766310027042136, -0.023538304177932352, -0.005716380253476475, 0.005343915230844879]\n",
      "[1.2163499863111459e-5, 3.3614041157273407e-6, -8.213926848985185e-5, -0.0008064283653235679, 0.003912999483740713, -0.00973612864584693, -0.022572874509188157, 0.009039480493568064, 0.03209410281160653, 0.005295734346447367, 0.015954128051570565, 0.03639668305166077, 0.033955220417395404, 0.017536854640247495, 0.005291110403900401, -0.10534392687738459, 0.014088740801311783, 0.013548683140882645, 0.06524328244668731, -0.003939775152461616, -0.0010868448915798273, -0.00896667023495605, -0.00201349761610492, -0.0006671605931415428, -0.0047131471805074154, -0.005451390554162883, 4.594254832315792e-5, 6.236029148209976e-5, -0.0015120310792691386, -0.000859010849421582, -3.2315638453607465e-5, -5.1262143067623556e-5, 25.593476788073506, -26.887615197707202, 0.9514573809221883, 25.593826638696488, -28.67309264385499, 1.947636123691263, 0.25639886699937803, -0.017638700751233, -0.24637535611859696, -0.037491703352027506, 0.025430889633118348, -0.015112669323879002, -0.08304461249134998, 0.04396459504885708, 0.02595043751337886, 0.16198711420826628, -0.01867210300267591, -0.020645213585389732, -0.2741220114588998, 0.027277703668657487, 0.028542854150386064, 0.02716334238054155, 0.018819259203082143, 0.009504246833301328, -0.008578145029595433, 0.06565856191562096, -0.002925702537270255, -0.0021314135818737844, 0.012696197764511884, -0.06922392446179756, -0.0012053046150040788, 0.013427586212428864]\n",
      "[-2.2796192748803256e-6, 8.37770989937435e-5, 1.4749124885305294e-5, -0.00032461601080385066, 0.003912257365334789, -0.009143800885476958, -0.022152492331083684, 0.004440243809561428, 0.031518756231212086, 0.007332315859807231, 0.014988069990836045, 0.03066301795214954, 0.02579593259368862, 0.01896380549462927, 0.005737848058252032, -0.10937067863136302, 0.013923094870875008, 0.013327222986288245, 0.07078778051438606, -0.003042271931091441, -0.00015629069940715362, -0.00920919400704083, -0.0015029842080619277, -0.00011882484375898977, -0.004652839146027765, -0.005544447733773938, 6.566436312141488e-5, 5.2221133395702335e-5, -0.0015519318629521866, -0.0007929839897515712, 1.5592674609513253e-5, -4.024207073690701e-6, 22.210033057169515, -17.706286137462634, -1.240939171508944, 22.28245993114714, -18.894338614371662, 1.3870722759114695, -1.5772125436974795, -0.49217003956067207, -0.04689122807711854, -0.02426537986872468, -0.0029334838953934406, -0.06784877426621644, -0.11637036188430161, 0.04182070043341257, 0.041160799920405944, 0.17092924051459013, -0.017849652841937846, -0.022329480287623438, -0.3134527308055919, 0.019288291467519154, 0.020485072921259992, 0.02155332947319935, 0.021749325658041236, 0.007462395106834836, 0.03961954557809283, 0.10481871253837187, -0.001412871176779627, 0.0017050500473490796, -0.04388894078509306, -0.11191621616494207, 0.002794392196998365, 0.020805580680307568]\n",
      "[-1.9242952114281605e-5, -4.328368716052968e-6, 0.00013072741150106713, 0.00016129058307807684, 0.0033230743163587687, -0.00787738194394775, -0.02199301199262449, -0.0003323449853009919, 0.031001468071816668, 0.009597296632171737, 0.014168903517656067, 0.024887980611671856, 0.017382581109988804, 0.02029636704502291, 0.006317146209383923, -0.11297398734283426, 0.013719754754762226, 0.013068718885969943, 0.07634829598038695, -0.0020930752597227553, 0.0008312110875926745, -0.009465377653700632, -0.0009711576207181022, 0.00045584901713608544, -0.00457281189836245, -0.0056412526261465645, 8.755764735143834e-5, 3.8042939741744775e-5, -0.0015992198102150485, -0.0007257991193949549, 6.60214019632308e-5, 4.8466172090938986e-5, 17.010217764287564, -6.5683305422273035, -3.457695664912293, 17.151460443132876, -7.014165350083326, 0.6622498060593738, -3.3402313213314048, -0.9530806982775256, 0.19793901718534068, -2.31656324741758e-5, -0.030372454862766074, -0.12061363269967446, -0.15242731149701552, 0.04783013137942971, 0.06677063140372916, 0.1811971808442192, -0.01717126409016584, -0.025601148998254664, -0.349942621555845, 0.012346876990277214, 0.01284425417750129, 0.014468209226748296, 0.02578411537864107, 0.005938681403808856, 0.08503978254250599, 0.1450480092417425, -0.00022621098125344202, 0.0059611617702458874, -0.09799035323915627, -0.1550877518409454, 0.0067041986220935925, 0.02805296368940574]\n",
      "[-4.542839606133269e-5, -1.4502842399390466e-5, 0.0003062193949713323, 0.0006946341244623774, 0.0030112418806084148, -0.006923977576155739, -0.022022353227265645, -0.005472083941418626, 0.030678454587031126, 0.011943739953931026, 0.01347873306241179, 0.018872294016074265, 0.008651474479631549, 0.02167160395387039, 0.0070288300488525746, -0.11638396295750036, 0.013481158802025162, 0.012774069295958423, 0.08200600588872764, -0.0010807845332365708, 0.001888332371237908, -0.009738784962559643, -0.0004100755662843486, 0.001066223719672299, -0.0044579646166411635, -0.005719336199217495, 0.00011245655312616676, 2.010134476196357e-5, -0.0016730030937980207, -0.0006819229421038912, 0.0001208370929357645, 0.00011213902346658266, 8.98217970332182, 5.650784360731527, -5.46659902229903, 9.181217214289223, 6.026742269377571, -0.156519260211413, -4.837608545034557, -1.3474577624299164, 0.45202955562588054, 0.032825805321063495, -0.05249329037377662, -0.16724021114306695, -0.18741595997010785, 0.06158728912427469, 0.10145554803887241, 0.1911547829691016, -0.017260718168150224, -0.031115100742984125, -0.3750917660572002, 0.008352701658718098, 0.007056737744834479, 0.005031375276863426, 0.030982615584351517, 0.005224350483708465, 0.11928825873623923, 0.18062260009729145, 4.50436442026909e-5, 0.010302332748292484, -0.13996593432152488, -0.19234015491816708, 0.009956164948563561, 0.03390191388649436]\n",
      "[-8.211467486919581e-5, 1.4245047316584394e-5, 0.0005540699061462228, 0.0012412692587658314, 0.002856278662350376, -0.006189216008516589, -0.02230104743754846, -0.010810451039540814, 0.030593151773468483, 0.014283550194225336, 0.012882131590102763, 0.012785754640984526, -0.0002581410754484148, 0.023027922954693865, 0.007816747943840185, -0.11929150487725354, 0.013218723688198764, 0.012455234777973834, 0.08740722053699446, -1.7089409252915924e-5, 0.0029991804441045003, -0.01001571981314106, 0.0001715353480080256, 0.0017049701363361855, -0.00431366934656352, -0.005780536282861126, 0.000138840054031919, -1.0956374241755107e-6, -0.001769092316659806, -0.0006606809338724987, 0.00017939676105256327, 0.00018549416660107497, -2.011217529731047, 19.091342129592114, -7.1699634691934655, -1.769127487526496, 20.380036040517368, -1.0879176950573215, -5.957840713899613, -1.6456515117382726, 0.7108661633531906, 0.07424192856349665, -0.06757080782872382, -0.20562079650151888, -0.21954635856773586, 0.08254942110255115, 0.14593464949558066, 0.2006569249691288, -0.0187309221336589, -0.039494219461613245, -0.38602477150685965, 0.007709050605579193, 0.003540820979919368, -0.008434274170876943, 0.037310093375017075, 0.005276418674928285, 0.138097421451653, 0.2080296604587454, -0.0007240326035022815, 0.01457168110668454, -0.16512737204789335, -0.21994680636160346, 0.012201194480377646, 0.03759100844858388]\n",
      "[-0.0007674870784345446, 0.0010612063565461037, 0.0051778523056914124, 0.0025439720389094887, 0.00355749723501282, -0.007588070058371363, -0.027895077364202603, -0.027847620684841146, 0.043410768971342224, 0.024215975301898146, 0.019055809006933322, 0.003537877171258641, -0.023211049913785642, 0.032949124754217664, 0.009877685054100083, -0.1692087792502088, 0.01762375582825587, 0.017768234578578568, 0.13575199196839216, 0.0015586581563334645, 0.0073572527997690235, -0.012095334699848262, 0.0005294937167596853, 0.003669148802043845, -0.004570326155064142, -0.00864292816417922, 0.0013267820530697694, -0.0005716413373459406, -0.0036527366086200955, -0.0013493402584125614, 5.254638101412313e-6, 0.0008162146779604608, -138.79230998762299, 246.50564206196074, -109.39535482497061, -135.26508888901535, 263.35574757144894, -12.830866419981325, -94.61423131292044, -24.215460013939992, 7.91775613027078, 1.0499594395770375, -1.436232889553388, -2.637192444566814, -1.4718760254104508, -0.07901980041133072, 0.8485288692863008, -0.5038109993118525, 0.004592893682769883, -0.14971304447669742, -0.2909480894389116, -0.36047768363778376, -0.40945811479780325, -0.21996648780252898, 0.18565436448711112, -0.10482874543307932, 2.4596213520936065, 1.9667416979711991, 0.03231108000084499, 0.1939436707429998, -2.847789122046902, -2.0798927758875028, 0.23003470304374013, 0.3678924586799485]\n",
      "[-0.0008802777914068923, 0.0010872774455833842, 0.005938866296417265, 0.005524480789407184, 0.0052961816528869134, -0.010058608519861484, -0.041844526989948505, -0.055036510674691064, 0.06700315114318076, 0.04389589958432849, 0.025123563122188497, -0.008924574231696125, -0.05597245577711585, 0.05605002954854908, 0.01936064854729813, -0.25638649662983626, 0.025179480139846222, 0.024264933484248907, 0.21442579746736912, 0.005806496823747773, 0.013548382861728728, -0.016138742219728566, 0.0031829166635585562, 0.007263896538462128, -0.007256183723196696, -0.011769394138557154, 0.0013689848596166176, -0.0005557746217800252, -0.004787468265808066, -0.0024300489468732627, 0.00033941723191596197, 0.0012509337766851594, -228.2826032630261, 254.45331903014016, -77.15554889299356, -225.9352905106018, 271.9558552395759, -15.21744328292508, -63.04088192363543, -16.198255314123372, 6.652163644134988, 0.9965166437671753, -0.9571736758785261, -1.914235617561959, -1.1256039790948358, 0.10750752445420675, 0.9236954031937707, -0.2418695320619122, -0.013491085158832017, -0.19761310964256518, -0.4678599430140524, -0.13513013050097653, -0.2624277957090775, -0.5837159218679585, 0.20140073362765185, -0.04936025677243672, 1.5028700096101804, 1.3762877476356565, -0.04243072093711849, 0.1648721922759964, -1.758261148711649, -1.4028548258843108, 0.16846488297728296, 0.22992959024758092]\n",
      "[-0.0018259993729294022, 0.0023350292986716635, 0.012319099699485732, 0.007867674788423033, 0.007433763780454172, -0.013988739212353597, -0.05382533906759873, -0.08334679498193853, 0.0942078428018952, 0.06422714387748851, 0.03485255590411193, -0.01977125172115124, -0.09092949852119037, 0.07917106621041634, 0.026166399985620842, -0.3566277110407349, 0.03433882208204542, 0.033988456924360755, 0.30904260119442073, 0.008361130983332337, 0.0207494362325091, -0.017253358661348445, 0.004363137950715051, 0.010886138834868178, -0.00822720110486641, -0.016152024600553427, 0.0030720139458447204, -0.0013353344889035779, -0.008408246686985872, -0.004234940487353827, 0.00019406558432409648, 0.0022685883071084955, -460.6722388179063, 463.97909802387227, -135.56402433773167, -456.6747035390392, 496.31882563231574, -28.20452257515473, -108.72972919303541, -27.88005448536126, 12.090662707386535, 1.9637688705616245, -1.5145883101683724, -3.3381839549716523, -1.983930272081846, 0.577585882736102, 1.7984217402541538, -0.532099628711542, -0.03491422795577204, -0.3974867354209055, -0.7381914993699787, -0.08357762480176778, -0.4502944302422496, -0.9896122622007977, 0.3977909549411422, -0.08829505557000111, 2.3952902095543664, 2.3282135642612016, -0.1727032356137837, 0.32531287897528754, -2.7904924376722606, -2.3237607355313767, 0.3142968364693048, 0.3590353346166796]\n",
      "[-0.006633060190336392, 0.00861011312680285, 0.04475086778357261, 0.010521907258635749, 0.014419204323087928, -0.028958501297207423, -0.07743795713014157, -0.14790326364915207, 0.16755676966806837, 0.11220139442214122, 0.06616632923422383, -0.03319969003346657, -0.17269372035142305, 0.1237433037107674, 0.033152596562981196, -0.631651643754167, 0.06209174995587197, 0.06758637821455266, 0.5960725741983954, 0.0031173305946344196, 0.040190428460996755, 0.006069850126859122, 0.0009056396890885846, 0.019982339533810872, -0.0011595199796899935, -0.0306301569822216, 0.01593351854390468, -0.007048115686112799, -0.03120781045771064, -0.010900776655743013, -0.0025354514784076522, 0.007093329559175542, -1336.6294300505533, 1377.0880487440872, -447.9600005941155, -1323.4997011524454, 1475.0495100454052, -82.286365733762, -360.86221092270233, -93.129114008902, 40.00807617227811, 6.9672542107443105, -3.8798917729100344, -10.900969653473444, -7.337785362745928, 5.996302728701448, 6.199769522997983, -1.7225621850722703, -0.24579944930108732, -1.3363026593947889, -3.395173564017945, 0.887430505854811, -1.2921245683353284, -0.5845641184133958, 1.4778573894279998, -0.4162308973152007, 7.237387496375022, 7.899094433923243, -1.284568335750371, 1.2667148615090875, -8.114635275866247, -7.834580486730867, 1.2296257244129947, 1.1272724779780146]\n"
     ]
    },
    {
     "name": "stderr",
     "output_type": "stream",
     "text": [
      "\u001b[36m\u001b[1m[ \u001b[22m\u001b[39m\u001b[36m\u001b[1mInfo: \u001b[22m\u001b[39mListening on: 127.0.0.1:8738, thread id: 1\n",
      "\u001b[36m\u001b[1m┌ \u001b[22m\u001b[39m\u001b[36m\u001b[1mInfo: \u001b[22m\u001b[39mMeshCat server started. You can open the visualizer by visiting the following URL in your browser:\n",
      "\u001b[36m\u001b[1m└ \u001b[22m\u001b[39mhttp://127.0.0.1:8738\n"
     ]
    },
    {
     "data": {
      "text/html": [
       "    <div style=\"height: 500px; width: 100%; overflow-x: auto; overflow-y: hidden; resize: both\">\n",
       "    <iframe src=\"http://127.0.0.1:8738\" style=\"width: 100%; height: 100%; border: none\"></iframe>\n",
       "    </div>\n"
      ],
      "text/plain": [
       "MeshCat.DisplayedVisualizer(MeshCat.CoreVisualizer(MeshCat.SceneTrees.SceneNode(nothing, nothing, Dict{String, Vector{UInt8}}(), nothing, Dict{String, MeshCat.SceneTrees.SceneNode}(\"meshcat\" => MeshCat.SceneTrees.SceneNode(nothing, nothing, Dict{String, Vector{UInt8}}(), nothing, Dict{String, MeshCat.SceneTrees.SceneNode}(\"world\" => MeshCat.SceneTrees.SceneNode(nothing, nothing, Dict{String, Vector{UInt8}}(), nothing, Dict{String, MeshCat.SceneTrees.SceneNode}(\"dummy1\" => MeshCat.SceneTrees.SceneNode(nothing, UInt8[0x83, 0xa6, 0x6d, 0x61, 0x74, 0x72, 0x69, 0x78, 0xc7, 0x40  …  0x72, 0x6c, 0x64, 0x2f, 0x64, 0x75, 0x6d, 0x6d, 0x79, 0x31], Dict{String, Vector{UInt8}}(), nothing, Dict{String, MeshCat.SceneTrees.SceneNode}(\"dummy2\" => MeshCat.SceneTrees.SceneNode(nothing, UInt8[0x83, 0xa6, 0x6d, 0x61, 0x74, 0x72, 0x69, 0x78, 0xc7, 0x40  …  0x6d, 0x79, 0x31, 0x2f, 0x64, 0x75, 0x6d, 0x6d, 0x79, 0x32], Dict{String, Vector{UInt8}}(), nothing, Dict{String, MeshCat.SceneTrees.SceneNode}(\"left_ankle_roll_link\" => MeshCat.SceneTrees.SceneNode(nothing, UInt8[0x83, 0xa6, 0x6d, 0x61, 0x74, 0x72, 0x69, 0x78, 0xc7, 0x40  …  0x5f, 0x72, 0x6f, 0x6c, 0x6c, 0x5f, 0x6c, 0x69, 0x6e, 0x6b], Dict{String, Vector{UInt8}}(), nothing, Dict{String, MeshCat.SceneTrees.SceneNode}(\"after_left_ankle_roll_joint\" => MeshCat.SceneTrees.SceneNode(nothing, UInt8[0x83, 0xa6, 0x6d, 0x61, 0x74, 0x72, 0x69, 0x78, 0xc7, 0x40  …  0x72, 0x6f, 0x6c, 0x6c, 0x5f, 0x6a, 0x6f, 0x69, 0x6e, 0x74], Dict{String, Vector{UInt8}}(), nothing, Dict{String, MeshCat.SceneTrees.SceneNode}(\"geometry_8\" => MeshCat.SceneTrees.SceneNode(UInt8[0x83, 0xa6, 0x6f, 0x62, 0x6a, 0x65, 0x63, 0x74, 0x84, 0xaa  …  0x67, 0x65, 0x6f, 0x6d, 0x65, 0x74, 0x72, 0x79, 0x5f, 0x38], UInt8[0x83, 0xa6, 0x6d, 0x61, 0x74, 0x72, 0x69, 0x78, 0xc7, 0x40  …  0x67, 0x65, 0x6f, 0x6d, 0x65, 0x74, 0x72, 0x79, 0x5f, 0x38], Dict{String, Vector{UInt8}}(), nothing, Dict{String, MeshCat.SceneTrees.SceneNode}()))), \"left_ankle_pitch_link\" => MeshCat.SceneTrees.SceneNode(nothing, UInt8[0x83, 0xa6, 0x6d, 0x61, 0x74, 0x72, 0x69, 0x78, 0xc7, 0x40  …  0x70, 0x69, 0x74, 0x63, 0x68, 0x5f, 0x6c, 0x69, 0x6e, 0x6b], Dict{String, Vector{UInt8}}(), nothing, Dict{String, MeshCat.SceneTrees.SceneNode}(\"after_left_ankle_pitch_joint\" => MeshCat.SceneTrees.SceneNode(nothing, UInt8[0x83, 0xa6, 0x6d, 0x61, 0x74, 0x72, 0x69, 0x78, 0xc7, 0x40  …  0x69, 0x74, 0x63, 0x68, 0x5f, 0x6a, 0x6f, 0x69, 0x6e, 0x74], Dict{String, Vector{UInt8}}(), nothing, Dict{String, MeshCat.SceneTrees.SceneNode}(\"geometry_7\" => MeshCat.SceneTrees.SceneNode(UInt8[0x83, 0xa6, 0x6f, 0x62, 0x6a, 0x65, 0x63, 0x74, 0x84, 0xaa  …  0x67, 0x65, 0x6f, 0x6d, 0x65, 0x74, 0x72, 0x79, 0x5f, 0x37], UInt8[0x83, 0xa6, 0x6d, 0x61, 0x74, 0x72, 0x69, 0x78, 0xc7, 0x40  …  0x67, 0x65, 0x6f, 0x6d, 0x65, 0x74, 0x72, 0x79, 0x5f, 0x37], Dict{String, Vector{UInt8}}(), nothing, Dict{String, MeshCat.SceneTrees.SceneNode}()))), \"left_knee_link\" => MeshCat.SceneTrees.SceneNode(nothing, UInt8[0x83, 0xa6, 0x6d, 0x61, 0x74, 0x72, 0x69, 0x78, 0xc7, 0x40  …  0x5f, 0x6b, 0x6e, 0x65, 0x65, 0x5f, 0x6c, 0x69, 0x6e, 0x6b], Dict{String, Vector{UInt8}}(), nothing, Dict{String, MeshCat.SceneTrees.SceneNode}(\"after_left_knee_joint\" => MeshCat.SceneTrees.SceneNode(nothing, UInt8[0x83, 0xa6, 0x6d, 0x61, 0x74, 0x72, 0x69, 0x78, 0xc7, 0x40  …  0x6b, 0x6e, 0x65, 0x65, 0x5f, 0x6a, 0x6f, 0x69, 0x6e, 0x74], Dict{String, Vector{UInt8}}(), nothing, Dict{String, MeshCat.SceneTrees.SceneNode}(\"geometry_6\" => MeshCat.SceneTrees.SceneNode(UInt8[0x83, 0xa6, 0x6f, 0x62, 0x6a, 0x65, 0x63, 0x74, 0x84, 0xaa  …  0x67, 0x65, 0x6f, 0x6d, 0x65, 0x74, 0x72, 0x79, 0x5f, 0x36], UInt8[0x83, 0xa6, 0x6d, 0x61, 0x74, 0x72, 0x69, 0x78, 0xc7, 0x40  …  0x67, 0x65, 0x6f, 0x6d, 0x65, 0x74, 0x72, 0x79, 0x5f, 0x36], Dict{String, Vector{UInt8}}(), nothing, Dict{String, MeshCat.SceneTrees.SceneNode}()))), \"left_hip_yaw_link\" => MeshCat.SceneTrees.SceneNode(nothing, UInt8[0x83, 0xa6, 0x6d, 0x61, 0x74, 0x72, 0x69, 0x78, 0xc7, 0x40  …  0x70, 0x5f, 0x79, 0x61, 0x77, 0x5f, 0x6c, 0x69, 0x6e, 0x6b], Dict{String, Vector{UInt8}}(), nothing, Dict{String, MeshCat.SceneTrees.SceneNode}(\"after_left_hip_yaw_joint\" => MeshCat.SceneTrees.SceneNode(nothing, UInt8[0x83, 0xa6, 0x6d, 0x61, 0x74, 0x72, 0x69, 0x78, 0xc7, 0x40  …  0x5f, 0x79, 0x61, 0x77, 0x5f, 0x6a, 0x6f, 0x69, 0x6e, 0x74], Dict{String, Vector{UInt8}}(), nothing, Dict{String, MeshCat.SceneTrees.SceneNode}(\"geometry_5\" => MeshCat.SceneTrees.SceneNode(UInt8[0x83, 0xa6, 0x6f, 0x62, 0x6a, 0x65, 0x63, 0x74, 0x84, 0xaa  …  0x67, 0x65, 0x6f, 0x6d, 0x65, 0x74, 0x72, 0x79, 0x5f, 0x35], UInt8[0x83, 0xa6, 0x6d, 0x61, 0x74, 0x72, 0x69, 0x78, 0xc7, 0x40  …  0x67, 0x65, 0x6f, 0x6d, 0x65, 0x74, 0x72, 0x79, 0x5f, 0x35], Dict{String, Vector{UInt8}}(), nothing, Dict{String, MeshCat.SceneTrees.SceneNode}()))), \"left_hip_roll_link\" => MeshCat.SceneTrees.SceneNode(nothing, UInt8[0x83, 0xa6, 0x6d, 0x61, 0x74, 0x72, 0x69, 0x78, 0xc7, 0x40  …  0x5f, 0x72, 0x6f, 0x6c, 0x6c, 0x5f, 0x6c, 0x69, 0x6e, 0x6b], Dict{String, Vector{UInt8}}(), nothing, Dict{String, MeshCat.SceneTrees.SceneNode}(\"left_hip_pitch_link\" => MeshCat.SceneTrees.SceneNode(nothing, UInt8[0x83, 0xa6, 0x6d, 0x61, 0x74, 0x72, 0x69, 0x78, 0xc7, 0x40  …  0x70, 0x69, 0x74, 0x63, 0x68, 0x5f, 0x6c, 0x69, 0x6e, 0x6b], Dict{String, Vector{UInt8}}(), nothing, Dict{String, MeshCat.SceneTrees.SceneNode}(\"pelvis\" => MeshCat.SceneTrees.SceneNode(nothing, UInt8[0x83, 0xa6, 0x6d, 0x61, 0x74, 0x72, 0x69, 0x78, 0xc7, 0x40  …  0x69, 0x6e, 0x6b, 0x2f, 0x70, 0x65, 0x6c, 0x76, 0x69, 0x73], Dict{String, Vector{UInt8}}(), nothing, Dict{String, MeshCat.SceneTrees.SceneNode}(\"imu_in_pelvis\" => MeshCat.SceneTrees.SceneNode(nothing, UInt8[0x83, 0xa6, 0x6d, 0x61, 0x74, 0x72, 0x69, 0x78, 0xc7, 0x40  …  0x5f, 0x69, 0x6e, 0x5f, 0x70, 0x65, 0x6c, 0x76, 0x69, 0x73], Dict{String, Vector{UInt8}}(), nothing, Dict{String, MeshCat.SceneTrees.SceneNode}()), \"right_hip_pitch_link\" => MeshCat.SceneTrees.SceneNode(nothing, UInt8[0x83, 0xa6, 0x6d, 0x61, 0x74, 0x72, 0x69, 0x78, 0xc7, 0x40  …  0x70, 0x69, 0x74, 0x63, 0x68, 0x5f, 0x6c, 0x69, 0x6e, 0x6b], Dict{String, Vector{UInt8}}(), nothing, Dict{String, MeshCat.SceneTrees.SceneNode}(\"right_hip_roll_link\" => MeshCat.SceneTrees.SceneNode(nothing, UInt8[0x83, 0xa6, 0x6d, 0x61, 0x74, 0x72, 0x69, 0x78, 0xc7, 0x40  …  0x5f, 0x72, 0x6f, 0x6c, 0x6c, 0x5f, 0x6c, 0x69, 0x6e, 0x6b], Dict{String, Vector{UInt8}}(), nothing, Dict{String, MeshCat.SceneTrees.SceneNode}(\"after_right_hip_roll_joint\" => MeshCat.SceneTrees.SceneNode(nothing, UInt8[0x83, 0xa6, 0x6d, 0x61, 0x74, 0x72, 0x69, 0x78, 0xc7, 0x40  …  0x72, 0x6f, 0x6c, 0x6c, 0x5f, 0x6a, 0x6f, 0x69, 0x6e, 0x74], Dict{String, Vector{UInt8}}(), nothing, Dict{String, MeshCat.SceneTrees.SceneNode}(\"geometry_10\" => MeshCat.SceneTrees.SceneNode(UInt8[0x83, 0xa6, 0x6f, 0x62, 0x6a, 0x65, 0x63, 0x74, 0x84, 0xaa  …  0x65, 0x6f, 0x6d, 0x65, 0x74, 0x72, 0x79, 0x5f, 0x31, 0x30], UInt8[0x83, 0xa6, 0x6d, 0x61, 0x74, 0x72, 0x69, 0x78, 0xc7, 0x40  …  0x65, 0x6f, 0x6d, 0x65, 0x74, 0x72, 0x79, 0x5f, 0x31, 0x30], Dict{String, Vector{UInt8}}(), nothing, Dict{String, MeshCat.SceneTrees.SceneNode}()))), \"right_hip_yaw_link\" => MeshCat.SceneTrees.SceneNode(nothing, UInt8[0x83, 0xa6, 0x6d, 0x61, 0x74, 0x72, 0x69, 0x78, 0xc7, 0x40  …  0x70, 0x5f, 0x79, 0x61, 0x77, 0x5f, 0x6c, 0x69, 0x6e, 0x6b], Dict{String, Vector{UInt8}}(), nothing, Dict{String, MeshCat.SceneTrees.SceneNode}(\"right_knee_link\" => MeshCat.SceneTrees.SceneNode(nothing, UInt8[0x83, 0xa6, 0x6d, 0x61, 0x74, 0x72, 0x69, 0x78, 0xc7, 0x40  …  0x5f, 0x6b, 0x6e, 0x65, 0x65, 0x5f, 0x6c, 0x69, 0x6e, 0x6b], Dict{String, Vector{UInt8}}(), nothing, Dict{String, MeshCat.SceneTrees.SceneNode}(\"right_ankle_pitch_link\" => MeshCat.SceneTrees.SceneNode(nothing, UInt8[0x83, 0xa6, 0x6d, 0x61, 0x74, 0x72, 0x69, 0x78, 0xc7, 0x40  …  0x70, 0x69, 0x74, 0x63, 0x68, 0x5f, 0x6c, 0x69, 0x6e, 0x6b], Dict{String, Vector{UInt8}}(), nothing, Dict{String, MeshCat.SceneTrees.SceneNode}(\"after_right_ankle_pitch_joint\" => MeshCat.SceneTrees.SceneNode(nothing, UInt8[0x83, 0xa6, 0x6d, 0x61, 0x74, 0x72, 0x69, 0x78, 0xc7, 0x40  …  0x69, 0x74, 0x63, 0x68, 0x5f, 0x6a, 0x6f, 0x69, 0x6e, 0x74], Dict{String, Vector{UInt8}}(), nothing, Dict{String, MeshCat.SceneTrees.SceneNode}(\"geometry_13\" => MeshCat.SceneTrees.SceneNode(UInt8[0x83, 0xa6, 0x6f, 0x62, 0x6a, 0x65, 0x63, 0x74, 0x84, 0xaa  …  0x65, 0x6f, 0x6d, 0x65, 0x74, 0x72, 0x79, 0x5f, 0x31, 0x33], UInt8[0x83, 0xa6, 0x6d, 0x61, 0x74, 0x72, 0x69, 0x78, 0xc7, 0x40  …  0x65, 0x6f, 0x6d, 0x65, 0x74, 0x72, 0x79, 0x5f, 0x31, 0x33], Dict{String, Vector{UInt8}}(), nothing, Dict{String, MeshCat.SceneTrees.SceneNode}()))), \"right_ankle_roll_link\" => MeshCat.SceneTrees.SceneNode(nothing, UInt8[0x83, 0xa6, 0x6d, 0x61, 0x74, 0x72, 0x69, 0x78, 0xc7, 0x40  …  0x5f, 0x72, 0x6f, 0x6c, 0x6c, 0x5f, 0x6c, 0x69, 0x6e, 0x6b], Dict{String, Vector{UInt8}}(), nothing, Dict{String, MeshCat.SceneTrees.SceneNode}(\"after_right_ankle_roll_joint\" => MeshCat.SceneTrees.SceneNode(nothing, UInt8[0x83, 0xa6, 0x6d, 0x61, 0x74, 0x72, 0x69, 0x78, 0xc7, 0x40  …  0x72, 0x6f, 0x6c, 0x6c, 0x5f, 0x6a, 0x6f, 0x69, 0x6e, 0x74], Dict{String, Vector{UInt8}}(), nothing, Dict{String, MeshCat.SceneTrees.SceneNode}(\"geometry_14\" => MeshCat.SceneTrees.SceneNode(UInt8[0x83, 0xa6, 0x6f, 0x62, 0x6a, 0x65, 0x63, 0x74, 0x84, 0xaa  …  0x65, 0x6f, 0x6d, 0x65, 0x74, 0x72, 0x79, 0x5f, 0x31, 0x34], UInt8[0x83, 0xa6, 0x6d, 0x61, 0x74, 0x72, 0x69, 0x78, 0xc7, 0x40  …  0x65, 0x6f, 0x6d, 0x65, 0x74, 0x72, 0x79, 0x5f, 0x31, 0x34], Dict{String, Vector{UInt8}}(), nothing, Dict{String, MeshCat.SceneTrees.SceneNode}()))))))), \"after_right_knee_joint\" => MeshCat.SceneTrees.SceneNode(nothing, UInt8[0x83, 0xa6, 0x6d, 0x61, 0x74, 0x72, 0x69, 0x78, 0xc7, 0x40  …  0x6b, 0x6e, 0x65, 0x65, 0x5f, 0x6a, 0x6f, 0x69, 0x6e, 0x74], Dict{String, Vector{UInt8}}(), nothing, Dict{String, MeshCat.SceneTrees.SceneNode}(\"geometry_12\" => MeshCat.SceneTrees.SceneNode(UInt8[0x83, 0xa6, 0x6f, 0x62, 0x6a, 0x65, 0x63, 0x74, 0x84, 0xaa  …  0x65, 0x6f, 0x6d, 0x65, 0x74, 0x72, 0x79, 0x5f, 0x31, 0x32], UInt8[0x83, 0xa6, 0x6d, 0x61, 0x74, 0x72, 0x69, 0x78, 0xc7, 0x40  …  0x65, 0x6f, 0x6d, 0x65, 0x74, 0x72, 0x79, 0x5f, 0x31, 0x32], Dict{String, Vector{UInt8}}(), nothing, Dict{String, MeshCat.SceneTrees.SceneNode}()))))), \"after_right_hip_yaw_joint\" => MeshCat.SceneTrees.SceneNode(nothing, UInt8[0x83, 0xa6, 0x6d, 0x61, 0x74, 0x72, 0x69, 0x78, 0xc7, 0x40  …  0x5f, 0x79, 0x61, 0x77, 0x5f, 0x6a, 0x6f, 0x69, 0x6e, 0x74], Dict{String, Vector{UInt8}}(), nothing, Dict{String, MeshCat.SceneTrees.SceneNode}(\"geometry_11\" => MeshCat.SceneTrees.SceneNode(UInt8[0x83, 0xa6, 0x6f, 0x62, 0x6a, 0x65, 0x63, 0x74, 0x84, 0xaa  …  0x65, 0x6f, 0x6d, 0x65, 0x74, 0x72, 0x79, 0x5f, 0x31, 0x31], UInt8[0x83, 0xa6, 0x6d, 0x61, 0x74, 0x72, 0x69, 0x78, 0xc7, 0x40  …  0x65, 0x6f, 0x6d, 0x65, 0x74, 0x72, 0x79, 0x5f, 0x31, 0x31], Dict{String, Vector{UInt8}}(), nothing, Dict{String, MeshCat.SceneTrees.SceneNode}()))))))), \"after_right_hip_pitch_joint\" => MeshCat.SceneTrees.SceneNode(nothing, UInt8[0x83, 0xa6, 0x6d, 0x61, 0x74, 0x72, 0x69, 0x78, 0xc7, 0x40  …  0x69, 0x74, 0x63, 0x68, 0x5f, 0x6a, 0x6f, 0x69, 0x6e, 0x74], Dict{String, Vector{UInt8}}(), nothing, Dict{String, MeshCat.SceneTrees.SceneNode}(\"geometry_9\" => MeshCat.SceneTrees.SceneNode(UInt8[0x83, 0xa6, 0x6f, 0x62, 0x6a, 0x65, 0x63, 0x74, 0x84, 0xaa  …  0x67, 0x65, 0x6f, 0x6d, 0x65, 0x74, 0x72, 0x79, 0x5f, 0x39], UInt8[0x83, 0xa6, 0x6d, 0x61, 0x74, 0x72, 0x69, 0x78, 0xc7, 0x40  …  0x67, 0x65, 0x6f, 0x6d, 0x65, 0x74, 0x72, 0x79, 0x5f, 0x39], Dict{String, Vector{UInt8}}(), nothing, Dict{String, MeshCat.SceneTrees.SceneNode}()))))), \"pelvis\" => MeshCat.SceneTrees.SceneNode(nothing, UInt8[0x83, 0xa6, 0x6d, 0x61, 0x74, 0x72, 0x69, 0x78, 0xc7, 0x40  …  0x76, 0x69, 0x73, 0x2f, 0x70, 0x65, 0x6c, 0x76, 0x69, 0x73], Dict{String, Vector{UInt8}}(), nothing, Dict{String, MeshCat.SceneTrees.SceneNode}(\"geometry_1\" => MeshCat.SceneTrees.SceneNode(UInt8[0x83, 0xa6, 0x6f, 0x62, 0x6a, 0x65, 0x63, 0x74, 0x84, 0xaa  …  0x67, 0x65, 0x6f, 0x6d, 0x65, 0x74, 0x72, 0x79, 0x5f, 0x31], UInt8[0x83, 0xa6, 0x6d, 0x61, 0x74, 0x72, 0x69, 0x78, 0xc7, 0x40  …  0x67, 0x65, 0x6f, 0x6d, 0x65, 0x74, 0x72, 0x79, 0x5f, 0x31], Dict{String, Vector{UInt8}}(), nothing, Dict{String, MeshCat.SceneTrees.SceneNode}()))), \"pelvis_contour_link\" => MeshCat.SceneTrees.SceneNode(nothing, UInt8[0x83, 0xa6, 0x6d, 0x61, 0x74, 0x72, 0x69, 0x78, 0xc7, 0x40  …  0x6e, 0x74, 0x6f, 0x75, 0x72, 0x5f, 0x6c, 0x69, 0x6e, 0x6b], Dict{String, Vector{UInt8}}(), nothing, Dict{String, MeshCat.SceneTrees.SceneNode}(\"after_pelvis_contour_joint\" => MeshCat.SceneTrees.SceneNode(nothing, UInt8[0x83, 0xa6, 0x6d, 0x61, 0x74, 0x72, 0x69, 0x78, 0xc7, 0x40  …  0x74, 0x6f, 0x75, 0x72, 0x5f, 0x6a, 0x6f, 0x69, 0x6e, 0x74], Dict{String, Vector{UInt8}}(), nothing, Dict{String, MeshCat.SceneTrees.SceneNode}(\"geometry_2\" => MeshCat.SceneTrees.SceneNode(UInt8[0x83, 0xa6, 0x6f, 0x62, 0x6a, 0x65, 0x63, 0x74, 0x84, 0xaa  …  0x67, 0x65, 0x6f, 0x6d, 0x65, 0x74, 0x72, 0x79, 0x5f, 0x32], UInt8[0x83, 0xa6, 0x6d, 0x61, 0x74, 0x72, 0x69, 0x78, 0xc7, 0x40  …  0x67, 0x65, 0x6f, 0x6d, 0x65, 0x74, 0x72, 0x79, 0x5f, 0x32], Dict{String, Vector{UInt8}}(), nothing, Dict{String, MeshCat.SceneTrees.SceneNode}()))))), \"waist_yaw_link\" => MeshCat.SceneTrees.SceneNode(nothing, UInt8[0x83, 0xa6, 0x6d, 0x61, 0x74, 0x72, 0x69, 0x78, 0xc7, 0x40  …  0x74, 0x5f, 0x79, 0x61, 0x77, 0x5f, 0x6c, 0x69, 0x6e, 0x6b], Dict{String, Vector{UInt8}}(), nothing, Dict{String, MeshCat.SceneTrees.SceneNode}(\"after_waist_yaw_joint\" => MeshCat.SceneTrees.SceneNode(nothing, UInt8[0x83, 0xa6, 0x6d, 0x61, 0x74, 0x72, 0x69, 0x78, 0xc7, 0x40  …  0x5f, 0x79, 0x61, 0x77, 0x5f, 0x6a, 0x6f, 0x69, 0x6e, 0x74], Dict{String, Vector{UInt8}}(), nothing, Dict{String, MeshCat.SceneTrees.SceneNode}(\"geometry_15\" => MeshCat.SceneTrees.SceneNode(UInt8[0x83, 0xa6, 0x6f, 0x62, 0x6a, 0x65, 0x63, 0x74, 0x84, 0xaa  …  0x65, 0x6f, 0x6d, 0x65, 0x74, 0x72, 0x79, 0x5f, 0x31, 0x35], UInt8[0x83, 0xa6, 0x6d, 0x61, 0x74, 0x72, 0x69, 0x78, 0xc7, 0x40  …  0x65, 0x6f, 0x6d, 0x65, 0x74, 0x72, 0x79, 0x5f, 0x31, 0x35], Dict{String, Vector{UInt8}}(), nothing, Dict{String, MeshCat.SceneTrees.SceneNode}()))), \"waist_roll_link\" => MeshCat.SceneTrees.SceneNode(nothing, UInt8[0x83, 0xa6, 0x6d, 0x61, 0x74, 0x72, 0x69, 0x78, 0xc7, 0x40  …  0x5f, 0x72, 0x6f, 0x6c, 0x6c, 0x5f, 0x6c, 0x69, 0x6e, 0x6b], Dict{String, Vector{UInt8}}(), nothing, Dict{String, MeshCat.SceneTrees.SceneNode}(\"torso_link\" => MeshCat.SceneTrees.SceneNode(nothing, UInt8[0x83, 0xa6, 0x6d, 0x61, 0x74, 0x72, 0x69, 0x78, 0xc7, 0x40  …  0x74, 0x6f, 0x72, 0x73, 0x6f, 0x5f, 0x6c, 0x69, 0x6e, 0x6b], Dict{String, Vector{UInt8}}(), nothing, Dict{String, MeshCat.SceneTrees.SceneNode}(\"left_shoulder_pitch_link\" => MeshCat.SceneTrees.SceneNode(nothing, UInt8[0x83, 0xa6, 0x6d, 0x61, 0x74, 0x72, 0x69, 0x78, 0xc7, 0x40  …  0x70, 0x69, 0x74, 0x63, 0x68, 0x5f, 0x6c, 0x69, 0x6e, 0x6b], Dict{String, Vector{UInt8}}(), nothing, Dict{String, MeshCat.SceneTrees.SceneNode}(\"after_left_shoulder_pitch_joint\" => MeshCat.SceneTrees.SceneNode(nothing, UInt8[0x83, 0xa6, 0x6d, 0x61, 0x74, 0x72, 0x69, 0x78, 0xc7, 0x40  …  0x69, 0x74, 0x63, 0x68, 0x5f, 0x6a, 0x6f, 0x69, 0x6e, 0x74], Dict{String, Vector{UInt8}}(), nothing, Dict{String, MeshCat.SceneTrees.SceneNode}(\"geometry_21\" => MeshCat.SceneTrees.SceneNode(UInt8[0x83, 0xa6, 0x6f, 0x62, 0x6a, 0x65, 0x63, 0x74, 0x84, 0xaa  …  0x65, 0x6f, 0x6d, 0x65, 0x74, 0x72, 0x79, 0x5f, 0x32, 0x31], UInt8[0x83, 0xa6, 0x6d, 0x61, 0x74, 0x72, 0x69, 0x78, 0xc7, 0x40  …  0x65, 0x6f, 0x6d, 0x65, 0x74, 0x72, 0x79, 0x5f, 0x32, 0x31], Dict{String, Vector{UInt8}}(), nothing, Dict{String, MeshCat.SceneTrees.SceneNode}()))), \"left_shoulder_roll_link\" => MeshCat.SceneTrees.SceneNode(nothing, UInt8[0x83, 0xa6, 0x6d, 0x61, 0x74, 0x72, 0x69, 0x78, 0xc7, 0x40  …  0x5f, 0x72, 0x6f, 0x6c, 0x6c, 0x5f, 0x6c, 0x69, 0x6e, 0x6b], Dict{String, Vector{UInt8}}(), nothing, Dict{String, MeshCat.SceneTrees.SceneNode}(\"left_shoulder_yaw_link\" => MeshCat.SceneTrees.SceneNode(nothing, UInt8[0x83, 0xa6, 0x6d, 0x61, 0x74, 0x72, 0x69, 0x78, 0xc7, 0x40  …  0x72, 0x5f, 0x79, 0x61, 0x77, 0x5f, 0x6c, 0x69, 0x6e, 0x6b], Dict{String, Vector{UInt8}}(), nothing, Dict{String, MeshCat.SceneTrees.SceneNode}(\"left_elbow_link\" => MeshCat.SceneTrees.SceneNode(nothing, UInt8[0x83, 0xa6, 0x6d, 0x61, 0x74, 0x72, 0x69, 0x78, 0xc7, 0x40  …  0x65, 0x6c, 0x62, 0x6f, 0x77, 0x5f, 0x6c, 0x69, 0x6e, 0x6b], Dict{String, Vector{UInt8}}(), nothing, Dict{String, MeshCat.SceneTrees.SceneNode}(\"left_wrist_roll_link\" => MeshCat.SceneTrees.SceneNode(nothing, UInt8[0x83, 0xa6, 0x6d, 0x61, 0x74, 0x72, 0x69, 0x78, 0xc7, 0x40  …  0x5f, 0x72, 0x6f, 0x6c, 0x6c, 0x5f, 0x6c, 0x69, 0x6e, 0x6b], Dict{String, Vector{UInt8}}(), nothing, Dict{String, MeshCat.SceneTrees.SceneNode}(\"after_left_wrist_roll_joint\" => MeshCat.SceneTrees.SceneNode(nothing, UInt8[0x83, 0xa6, 0x6d, 0x61, 0x74, 0x72, 0x69, 0x78, 0xc7, 0x40  …  0x72, 0x6f, 0x6c, 0x6c, 0x5f, 0x6a, 0x6f, 0x69, 0x6e, 0x74], Dict{String, Vector{UInt8}}(), nothing, Dict{String, MeshCat.SceneTrees.SceneNode}(\"geometry_25\" => MeshCat.SceneTrees.SceneNode(UInt8[0x83, 0xa6, 0x6f, 0x62, 0x6a, 0x65, 0x63, 0x74, 0x84, 0xaa  …  0x65, 0x6f, 0x6d, 0x65, 0x74, 0x72, 0x79, 0x5f, 0x32, 0x35], UInt8[0x83, 0xa6, 0x6d, 0x61, 0x74, 0x72, 0x69, 0x78, 0xc7, 0x40  …  0x65, 0x6f, 0x6d, 0x65, 0x74, 0x72, 0x79, 0x5f, 0x32, 0x35], Dict{String, Vector{UInt8}}(), nothing, Dict{String, MeshCat.SceneTrees.SceneNode}()))), \"left_wrist_pitch_link\" => MeshCat.SceneTrees.SceneNode(nothing, UInt8[0x83, 0xa6, 0x6d, 0x61, 0x74, 0x72, 0x69, 0x78, 0xc7, 0x40  …  0x70, 0x69, 0x74, 0x63, 0x68, 0x5f, 0x6c, 0x69, 0x6e, 0x6b], Dict{String, Vector{UInt8}}(), nothing, Dict{String, MeshCat.SceneTrees.SceneNode}(\"left_wrist_yaw_link\" => MeshCat.SceneTrees.SceneNode(nothing, UInt8[0x83, 0xa6, 0x6d, 0x61, 0x74, 0x72, 0x69, 0x78, 0xc7, 0x40  …  0x74, 0x5f, 0x79, 0x61, 0x77, 0x5f, 0x6c, 0x69, 0x6e, 0x6b], Dict{String, Vector{UInt8}}(), nothing, Dict{String, MeshCat.SceneTrees.SceneNode}(\"left_rubber_hand\" => MeshCat.SceneTrees.SceneNode(nothing, UInt8[0x83, 0xa6, 0x6d, 0x61, 0x74, 0x72, 0x69, 0x78, 0xc7, 0x40  …  0x75, 0x62, 0x62, 0x65, 0x72, 0x5f, 0x68, 0x61, 0x6e, 0x64], Dict{String, Vector{UInt8}}(), nothing, Dict{String, MeshCat.SceneTrees.SceneNode}(\"after_left_hand_palm_joint\" => MeshCat.SceneTrees.SceneNode(nothing, UInt8[0x83, 0xa6, 0x6d, 0x61, 0x74, 0x72, 0x69, 0x78, 0xc7, 0x40  …  0x70, 0x61, 0x6c, 0x6d, 0x5f, 0x6a, 0x6f, 0x69, 0x6e, 0x74], Dict{String, Vector{UInt8}}(), nothing, Dict{String, MeshCat.SceneTrees.SceneNode}(\"geometry_28\" => MeshCat.SceneTrees.SceneNode(UInt8[0x83, 0xa6, 0x6f, 0x62, 0x6a, 0x65, 0x63, 0x74, 0x84, 0xaa  …  0x65, 0x6f, 0x6d, 0x65, 0x74, 0x72, 0x79, 0x5f, 0x32, 0x38], UInt8[0x83, 0xa6, 0x6d, 0x61, 0x74, 0x72, 0x69, 0x78, 0xc7, 0x40  …  0x65, 0x6f, 0x6d, 0x65, 0x74, 0x72, 0x79, 0x5f, 0x32, 0x38], Dict{String, Vector{UInt8}}(), nothing, Dict{String, MeshCat.SceneTrees.SceneNode}()))))), \"after_left_wrist_yaw_joint\" => MeshCat.SceneTrees.SceneNode(nothing, UInt8[0x83, 0xa6, 0x6d, 0x61, 0x74, 0x72, 0x69, 0x78, 0xc7, 0x40  …  0x5f, 0x79, 0x61, 0x77, 0x5f, 0x6a, 0x6f, 0x69, 0x6e, 0x74], Dict{String, Vector{UInt8}}(), nothing, Dict{String, MeshCat.SceneTrees.SceneNode}(\"geometry_27\" => MeshCat.SceneTrees.SceneNode(UInt8[0x83, 0xa6, 0x6f, 0x62, 0x6a, 0x65, 0x63, 0x74, 0x84, 0xaa  …  0x65, 0x6f, 0x6d, 0x65, 0x74, 0x72, 0x79, 0x5f, 0x32, 0x37], UInt8[0x83, 0xa6, 0x6d, 0x61, 0x74, 0x72, 0x69, 0x78, 0xc7, 0x40  …  0x65, 0x6f, 0x6d, 0x65, 0x74, 0x72, 0x79, 0x5f, 0x32, 0x37], Dict{String, Vector{UInt8}}(), nothing, Dict{String, MeshCat.SceneTrees.SceneNode}()))))), \"after_left_wrist_pitch_joint\" => MeshCat.SceneTrees.SceneNode(nothing, UInt8[0x83, 0xa6, 0x6d, 0x61, 0x74, 0x72, 0x69, 0x78, 0xc7, 0x40  …  0x69, 0x74, 0x63, 0x68, 0x5f, 0x6a, 0x6f, 0x69, 0x6e, 0x74], Dict{String, Vector{UInt8}}(), nothing, Dict{String, MeshCat.SceneTrees.SceneNode}(\"geometry_26\" => MeshCat.SceneTrees.SceneNode(UInt8[0x83, 0xa6, 0x6f, 0x62, 0x6a, 0x65, 0x63, 0x74, 0x84, 0xaa  …  0x65, 0x6f, 0x6d, 0x65, 0x74, 0x72, 0x79, 0x5f, 0x32, 0x36], UInt8[0x83, 0xa6, 0x6d, 0x61, 0x74, 0x72, 0x69, 0x78, 0xc7, 0x40  …  0x65, 0x6f, 0x6d, 0x65, 0x74, 0x72, 0x79, 0x5f, 0x32, 0x36], Dict{String, Vector{UInt8}}(), nothing, Dict{String, MeshCat.SceneTrees.SceneNode}()))))))), \"after_left_elbow_joint\" => MeshCat.SceneTrees.SceneNode(nothing, UInt8[0x83, 0xa6, 0x6d, 0x61, 0x74, 0x72, 0x69, 0x78, 0xc7, 0x40  …  0x6c, 0x62, 0x6f, 0x77, 0x5f, 0x6a, 0x6f, 0x69, 0x6e, 0x74], Dict{String, Vector{UInt8}}(), nothing, Dict{String, MeshCat.SceneTrees.SceneNode}(\"geometry_24\" => MeshCat.SceneTrees.SceneNode(UInt8[0x83, 0xa6, 0x6f, 0x62, 0x6a, 0x65, 0x63, 0x74, 0x84, 0xaa  …  0x65, 0x6f, 0x6d, 0x65, 0x74, 0x72, 0x79, 0x5f, 0x32, 0x34], UInt8[0x83, 0xa6, 0x6d, 0x61, 0x74, 0x72, 0x69, 0x78, 0xc7, 0x40  …  0x65, 0x6f, 0x6d, 0x65, 0x74, 0x72, 0x79, 0x5f, 0x32, 0x34], Dict{String, Vector{UInt8}}(), nothing, Dict{String, MeshCat.SceneTrees.SceneNode}()))))), \"after_left_shoulder_yaw_joint\" => MeshCat.SceneTrees.SceneNode(nothing, UInt8[0x83, 0xa6, 0x6d, 0x61, 0x74, 0x72, 0x69, 0x78, 0xc7, 0x40  …  0x5f, 0x79, 0x61, 0x77, 0x5f, 0x6a, 0x6f, 0x69, 0x6e, 0x74], Dict{String, Vector{UInt8}}(), nothing, Dict{String, MeshCat.SceneTrees.SceneNode}(\"geometry_23\" => MeshCat.SceneTrees.SceneNode(UInt8[0x83, 0xa6, 0x6f, 0x62, 0x6a, 0x65, 0x63, 0x74, 0x84, 0xaa  …  0x65, 0x6f, 0x6d, 0x65, 0x74, 0x72, 0x79, 0x5f, 0x32, 0x33], UInt8[0x83, 0xa6, 0x6d, 0x61, 0x74, 0x72, 0x69, 0x78, 0xc7, 0x40  …  0x65, 0x6f, 0x6d, 0x65, 0x74, 0x72, 0x79, 0x5f, 0x32, 0x33], Dict{String, Vector{UInt8}}(), nothing, Dict{String, MeshCat.SceneTrees.SceneNode}()))))), \"after_left_shoulder_roll_joint\" => MeshCat.SceneTrees.SceneNode(nothing, UInt8[0x83, 0xa6, 0x6d, 0x61, 0x74, 0x72, 0x69, 0x78, 0xc7, 0x40  …  0x72, 0x6f, 0x6c, 0x6c, 0x5f, 0x6a, 0x6f, 0x69, 0x6e, 0x74], Dict{String, Vector{UInt8}}(), nothing, Dict{String, MeshCat.SceneTrees.SceneNode}(\"geometry_22\" => MeshCat.SceneTrees.SceneNode(UInt8[0x83, 0xa6, 0x6f, 0x62, 0x6a, 0x65, 0x63, 0x74, 0x84, 0xaa  …  0x65, 0x6f, 0x6d, 0x65, 0x74, 0x72, 0x79, 0x5f, 0x32, 0x32], UInt8[0x83, 0xa6, 0x6d, 0x61, 0x74, 0x72, 0x69, 0x78, 0xc7, 0x40  …  0x65, 0x6f, 0x6d, 0x65, 0x74, 0x72, 0x79, 0x5f, 0x32, 0x32], Dict{String, Vector{UInt8}}(), nothing, Dict{String, MeshCat.SceneTrees.SceneNode}()))))))), \"logo_link\" => MeshCat.SceneTrees.SceneNode(nothing, UInt8[0x83, 0xa6, 0x6d, 0x61, 0x74, 0x72, 0x69, 0x78, 0xc7, 0x40  …  0x2f, 0x6c, 0x6f, 0x67, 0x6f, 0x5f, 0x6c, 0x69, 0x6e, 0x6b], Dict{String, Vector{UInt8}}(), nothing, Dict{String, MeshCat.SceneTrees.SceneNode}(\"after_logo_joint\" => MeshCat.SceneTrees.SceneNode(nothing, UInt8[0x83, 0xa6, 0x6d, 0x61, 0x74, 0x72, 0x69, 0x78, 0xc7, 0x40  …  0x6c, 0x6f, 0x67, 0x6f, 0x5f, 0x6a, 0x6f, 0x69, 0x6e, 0x74], Dict{String, Vector{UInt8}}(), nothing, Dict{String, MeshCat.SceneTrees.SceneNode}(\"geometry_18\" => MeshCat.SceneTrees.SceneNode(UInt8[0x83, 0xa6, 0x6f, 0x62, 0x6a, 0x65, 0x63, 0x74, 0x84, 0xaa  …  0x65, 0x6f, 0x6d, 0x65, 0x74, 0x72, 0x79, 0x5f, 0x31, 0x38], UInt8[0x83, 0xa6, 0x6d, 0x61, 0x74, 0x72, 0x69, 0x78, 0xc7, 0x40  …  0x65, 0x6f, 0x6d, 0x65, 0x74, 0x72, 0x79, 0x5f, 0x31, 0x38], Dict{String, Vector{UInt8}}(), nothing, Dict{String, MeshCat.SceneTrees.SceneNode}()))))), \"after_waist_pitch_joint\" => MeshCat.SceneTrees.SceneNode(nothing, UInt8[0x83, 0xa6, 0x6d, 0x61, 0x74, 0x72, 0x69, 0x78, 0xc7, 0x40  …  0x69, 0x74, 0x63, 0x68, 0x5f, 0x6a, 0x6f, 0x69, 0x6e, 0x74], Dict{String, Vector{UInt8}}(), nothing, Dict{String, MeshCat.SceneTrees.SceneNode}(\"geometry_17\" => MeshCat.SceneTrees.SceneNode(UInt8[0x83, 0xa6, 0x6f, 0x62, 0x6a, 0x65, 0x63, 0x74, 0x84, 0xaa  …  0x65, 0x6f, 0x6d, 0x65, 0x74, 0x72, 0x79, 0x5f, 0x31, 0x37], UInt8[0x83, 0xa6, 0x6d, 0x61, 0x74, 0x72, 0x69, 0x78, 0xc7, 0x40  …  0x65, 0x6f, 0x6d, 0x65, 0x74, 0x72, 0x79, 0x5f, 0x31, 0x37], Dict{String, Vector{UInt8}}(), nothing, Dict{String, MeshCat.SceneTrees.SceneNode}()))), \"right_shoulder_pitch_link\" => MeshCat.SceneTrees.SceneNode(nothing, UInt8[0x83, 0xa6, 0x6d, 0x61, 0x74, 0x72, 0x69, 0x78, 0xc7, 0x40  …  0x70, 0x69, 0x74, 0x63, 0x68, 0x5f, 0x6c, 0x69, 0x6e, 0x6b], Dict{String, Vector{UInt8}}(), nothing, Dict{String, MeshCat.SceneTrees.SceneNode}(\"after_right_shoulder_pitch_joint\" => MeshCat.SceneTrees.SceneNode(nothing, UInt8[0x83, 0xa6, 0x6d, 0x61, 0x74, 0x72, 0x69, 0x78, 0xc7, 0x40  …  0x69, 0x74, 0x63, 0x68, 0x5f, 0x6a, 0x6f, 0x69, 0x6e, 0x74], Dict{String, Vector{UInt8}}(), nothing, Dict{String, MeshCat.SceneTrees.SceneNode}(\"geometry_29\" => MeshCat.SceneTrees.SceneNode(UInt8[0x83, 0xa6, 0x6f, 0x62, 0x6a, 0x65, 0x63, 0x74, 0x84, 0xaa  …  0x65, 0x6f, 0x6d, 0x65, 0x74, 0x72, 0x79, 0x5f, 0x32, 0x39], UInt8[0x83, 0xa6, 0x6d, 0x61, 0x74, 0x72, 0x69, 0x78, 0xc7, 0x40  …  0x65, 0x6f, 0x6d, 0x65, 0x74, 0x72, 0x79, 0x5f, 0x32, 0x39], Dict{String, Vector{UInt8}}(), nothing, Dict{String, MeshCat.SceneTrees.SceneNode}()))), \"right_shoulder_roll_link\" => MeshCat.SceneTrees.SceneNode(nothing, UInt8[0x83, 0xa6, 0x6d, 0x61, 0x74, 0x72, 0x69, 0x78, 0xc7, 0x40  …  0x5f, 0x72, 0x6f, 0x6c, 0x6c, 0x5f, 0x6c, 0x69, 0x6e, 0x6b], Dict{String, Vector{UInt8}}(), nothing, Dict{String, MeshCat.SceneTrees.SceneNode}(\"right_shoulder_yaw_link\" => MeshCat.SceneTrees.SceneNode(nothing, UInt8[0x83, 0xa6, 0x6d, 0x61, 0x74, 0x72, 0x69, 0x78, 0xc7, 0x40  …  0x72, 0x5f, 0x79, 0x61, 0x77, 0x5f, 0x6c, 0x69, 0x6e, 0x6b], Dict{String, Vector{UInt8}}(), nothing, Dict{String, MeshCat.SceneTrees.SceneNode}(\"right_elbow_link\" => MeshCat.SceneTrees.SceneNode(nothing, UInt8[0x83, 0xa6, 0x6d, 0x61, 0x74, 0x72, 0x69, 0x78, 0xc7, 0x40  …  0x65, 0x6c, 0x62, 0x6f, 0x77, 0x5f, 0x6c, 0x69, 0x6e, 0x6b], Dict{String, Vector{UInt8}}(), nothing, Dict{String, MeshCat.SceneTrees.SceneNode}(\"after_right_elbow_joint\" => MeshCat.SceneTrees.SceneNode(nothing, UInt8[0x83, 0xa6, 0x6d, 0x61, 0x74, 0x72, 0x69, 0x78, 0xc7, 0x40  …  0x6c, 0x62, 0x6f, 0x77, 0x5f, 0x6a, 0x6f, 0x69, 0x6e, 0x74], Dict{String, Vector{UInt8}}(), nothing, Dict{String, MeshCat.SceneTrees.SceneNode}(\"geometry_32\" => MeshCat.SceneTrees.SceneNode(UInt8[0x83, 0xa6, 0x6f, 0x62, 0x6a, 0x65, 0x63, 0x74, 0x84, 0xaa  …  0x65, 0x6f, 0x6d, 0x65, 0x74, 0x72, 0x79, 0x5f, 0x33, 0x32], UInt8[0x83, 0xa6, 0x6d, 0x61, 0x74, 0x72, 0x69, 0x78, 0xc7, 0x40  …  0x65, 0x6f, 0x6d, 0x65, 0x74, 0x72, 0x79, 0x5f, 0x33, 0x32], Dict{String, Vector{UInt8}}(), nothing, Dict{String, MeshCat.SceneTrees.SceneNode}()))), \"right_wrist_roll_link\" => MeshCat.SceneTrees.SceneNode(nothing, UInt8[0x83, 0xa6, 0x6d, 0x61, 0x74, 0x72, 0x69, 0x78, 0xc7, 0x40  …  0x5f, 0x72, 0x6f, 0x6c, 0x6c, 0x5f, 0x6c, 0x69, 0x6e, 0x6b], Dict{String, Vector{UInt8}}(), nothing, Dict{String, MeshCat.SceneTrees.SceneNode}(\"right_wrist_pitch_link\" => MeshCat.SceneTrees.SceneNode(nothing, UInt8[0x83, 0xa6, 0x6d, 0x61, 0x74, 0x72, 0x69, 0x78, 0xc7, 0x40  …  0x70, 0x69, 0x74, 0x63, 0x68, 0x5f, 0x6c, 0x69, 0x6e, 0x6b], Dict{String, Vector{UInt8}}(), nothing, Dict{String, MeshCat.SceneTrees.SceneNode}(\"after_right_wrist_pitch_joint\" => MeshCat.SceneTrees.SceneNode(nothing, UInt8[0x83, 0xa6, 0x6d, 0x61, 0x74, 0x72, 0x69, 0x78, 0xc7, 0x40  …  0x69, 0x74, 0x63, 0x68, 0x5f, 0x6a, 0x6f, 0x69, 0x6e, 0x74], Dict{String, Vector{UInt8}}(), nothing, Dict{String, MeshCat.SceneTrees.SceneNode}(\"geometry_34\" => MeshCat.SceneTrees.SceneNode(UInt8[0x83, 0xa6, 0x6f, 0x62, 0x6a, 0x65, 0x63, 0x74, 0x84, 0xaa  …  0x65, 0x6f, 0x6d, 0x65, 0x74, 0x72, 0x79, 0x5f, 0x33, 0x34], UInt8[0x83, 0xa6, 0x6d, 0x61, 0x74, 0x72, 0x69, 0x78, 0xc7, 0x40  …  0x65, 0x6f, 0x6d, 0x65, 0x74, 0x72, 0x79, 0x5f, 0x33, 0x34], Dict{String, Vector{UInt8}}(), nothing, Dict{String, MeshCat.SceneTrees.SceneNode}()))), \"right_wrist_yaw_link\" => MeshCat.SceneTrees.SceneNode(nothing, UInt8[0x83, 0xa6, 0x6d, 0x61, 0x74, 0x72, 0x69, 0x78, 0xc7, 0x40  …  0x74, 0x5f, 0x79, 0x61, 0x77, 0x5f, 0x6c, 0x69, 0x6e, 0x6b], Dict{String, Vector{UInt8}}(), nothing, Dict{String, MeshCat.SceneTrees.SceneNode}(\"after_right_wrist_yaw_joint\" => MeshCat.SceneTrees.SceneNode(nothing, UInt8[0x83, 0xa6, 0x6d, 0x61, 0x74, 0x72, 0x69, 0x78, 0xc7, 0x40  …  0x5f, 0x79, 0x61, 0x77, 0x5f, 0x6a, 0x6f, 0x69, 0x6e, 0x74], Dict{String, Vector{UInt8}}(), nothing, Dict{String, MeshCat.SceneTrees.SceneNode}(\"geometry_35\" => MeshCat.SceneTrees.SceneNode(UInt8[0x83, 0xa6, 0x6f, 0x62, 0x6a, 0x65, 0x63, 0x74, 0x84, 0xaa  …  0x65, 0x6f, 0x6d, 0x65, 0x74, 0x72, 0x79, 0x5f, 0x33, 0x35], UInt8[0x83, 0xa6, 0x6d, 0x61, 0x74, 0x72, 0x69, 0x78, 0xc7, 0x40  …  0x65, 0x6f, 0x6d, 0x65, 0x74, 0x72, 0x79, 0x5f, 0x33, 0x35], Dict{String, Vector{UInt8}}(), nothing, Dict{String, MeshCat.SceneTrees.SceneNode}()))), \"right_rubber_hand\" => MeshCat.SceneTrees.SceneNode(nothing, UInt8[0x83, 0xa6, 0x6d, 0x61, 0x74, 0x72, 0x69, 0x78, 0xc7, 0x40  …  0x75, 0x62, 0x62, 0x65, 0x72, 0x5f, 0x68, 0x61, 0x6e, 0x64], Dict{String, Vector{UInt8}}(), nothing, Dict{String, MeshCat.SceneTrees.SceneNode}(\"after_right_hand_palm_joint\" => MeshCat.SceneTrees.SceneNode(nothing, UInt8[0x83, 0xa6, 0x6d, 0x61, 0x74, 0x72, 0x69, 0x78, 0xc7, 0x40  …  0x70, 0x61, 0x6c, 0x6d, 0x5f, 0x6a, 0x6f, 0x69, 0x6e, 0x74], Dict{String, Vector{UInt8}}(), nothing, Dict{String, MeshCat.SceneTrees.SceneNode}(\"geometry_36\" => MeshCat.SceneTrees.SceneNode(UInt8[0x83, 0xa6, 0x6f, 0x62, 0x6a, 0x65, 0x63, 0x74, 0x84, 0xaa  …  0x65, 0x6f, 0x6d, 0x65, 0x74, 0x72, 0x79, 0x5f, 0x33, 0x36], UInt8[0x83, 0xa6, 0x6d, 0x61, 0x74, 0x72, 0x69, 0x78, 0xc7, 0x40  …  0x65, 0x6f, 0x6d, 0x65, 0x74, 0x72, 0x79, 0x5f, 0x33, 0x36], Dict{String, Vector{UInt8}}(), nothing, Dict{String, MeshCat.SceneTrees.SceneNode}()))))))))), \"after_right_wrist_roll_joint\" => MeshCat.SceneTrees.SceneNode(nothing, UInt8[0x83, 0xa6, 0x6d, 0x61, 0x74, 0x72, 0x69, 0x78, 0xc7, 0x40  …  0x72, 0x6f, 0x6c, 0x6c, 0x5f, 0x6a, 0x6f, 0x69, 0x6e, 0x74], Dict{String, Vector{UInt8}}(), nothing, Dict{String, MeshCat.SceneTrees.SceneNode}(\"geometry_33\" => MeshCat.SceneTrees.SceneNode(UInt8[0x83, 0xa6, 0x6f, 0x62, 0x6a, 0x65, 0x63, 0x74, 0x84, 0xaa  …  0x65, 0x6f, 0x6d, 0x65, 0x74, 0x72, 0x79, 0x5f, 0x33, 0x33], UInt8[0x83, 0xa6, 0x6d, 0x61, 0x74, 0x72, 0x69, 0x78, 0xc7, 0x40  …  0x65, 0x6f, 0x6d, 0x65, 0x74, 0x72, 0x79, 0x5f, 0x33, 0x33], Dict{String, Vector{UInt8}}(), nothing, Dict{String, MeshCat.SceneTrees.SceneNode}()))))))), \"after_right_shoulder_yaw_joint\" => MeshCat.SceneTrees.SceneNode(nothing, UInt8[0x83, 0xa6, 0x6d, 0x61, 0x74, 0x72, 0x69, 0x78, 0xc7, 0x40  …  0x5f, 0x79, 0x61, 0x77, 0x5f, 0x6a, 0x6f, 0x69, 0x6e, 0x74], Dict{String, Vector{UInt8}}(), nothing, Dict{String, MeshCat.SceneTrees.SceneNode}(\"geometry_31\" => MeshCat.SceneTrees.SceneNode(UInt8[0x83, 0xa6, 0x6f, 0x62, 0x6a, 0x65, 0x63, 0x74, 0x84, 0xaa  …  0x65, 0x6f, 0x6d, 0x65, 0x74, 0x72, 0x79, 0x5f, 0x33, 0x31], UInt8[0x83, 0xa6, 0x6d, 0x61, 0x74, 0x72, 0x69, 0x78, 0xc7, 0x40  …  0x65, 0x6f, 0x6d, 0x65, 0x74, 0x72, 0x79, 0x5f, 0x33, 0x31], Dict{String, Vector{UInt8}}(), nothing, Dict{String, MeshCat.SceneTrees.SceneNode}()))))), \"after_right_shoulder_roll_joint\" => MeshCat.SceneTrees.SceneNode(nothing, UInt8[0x83, 0xa6, 0x6d, 0x61, 0x74, 0x72, 0x69, 0x78, 0xc7, 0x40  …  0x72, 0x6f, 0x6c, 0x6c, 0x5f, 0x6a, 0x6f, 0x69, 0x6e, 0x74], Dict{String, Vector{UInt8}}(), nothing, Dict{String, MeshCat.SceneTrees.SceneNode}(\"geometry_30\" => MeshCat.SceneTrees.SceneNode(UInt8[0x83, 0xa6, 0x6f, 0x62, 0x6a, 0x65, 0x63, 0x74, 0x84, 0xaa  …  0x65, 0x6f, 0x6d, 0x65, 0x74, 0x72, 0x79, 0x5f, 0x33, 0x30], UInt8[0x83, 0xa6, 0x6d, 0x61, 0x74, 0x72, 0x69, 0x78, 0xc7, 0x40  …  0x65, 0x6f, 0x6d, 0x65, 0x74, 0x72, 0x79, 0x5f, 0x33, 0x30], Dict{String, Vector{UInt8}}(), nothing, Dict{String, MeshCat.SceneTrees.SceneNode}()))))))), \"imu_in_torso\" => MeshCat.SceneTrees.SceneNode(nothing, UInt8[0x83, 0xa6, 0x6d, 0x61, 0x74, 0x72, 0x69, 0x78, 0xc7, 0x40  …  0x75, 0x5f, 0x69, 0x6e, 0x5f, 0x74, 0x6f, 0x72, 0x73, 0x6f], Dict{String, Vector{UInt8}}(), nothing, Dict{String, MeshCat.SceneTrees.SceneNode}()), \"mid360_link\" => MeshCat.SceneTrees.SceneNode(nothing, UInt8[0x83, 0xa6, 0x6d, 0x61, 0x74, 0x72, 0x69, 0x78, 0xc7, 0x40  …  0x69, 0x64, 0x33, 0x36, 0x30, 0x5f, 0x6c, 0x69, 0x6e, 0x6b], Dict{String, Vector{UInt8}}(), nothing, Dict{String, MeshCat.SceneTrees.SceneNode}()), \"d435_link\" => MeshCat.SceneTrees.SceneNode(nothing, UInt8[0x83, 0xa6, 0x6d, 0x61, 0x74, 0x72, 0x69, 0x78, 0xc7, 0x40  …  0x2f, 0x64, 0x34, 0x33, 0x35, 0x5f, 0x6c, 0x69, 0x6e, 0x6b], Dict{String, Vector{UInt8}}(), nothing, Dict{String, MeshCat.SceneTrees.SceneNode}()), \"waist_support_link\" => MeshCat.SceneTrees.SceneNode(nothing, UInt8[0x83, 0xa6, 0x6d, 0x61, 0x74, 0x72, 0x69, 0x78, 0xc7, 0x40  …  0x70, 0x70, 0x6f, 0x72, 0x74, 0x5f, 0x6c, 0x69, 0x6e, 0x6b], Dict{String, Vector{UInt8}}(), nothing, Dict{String, MeshCat.SceneTrees.SceneNode}(\"after_waist_support_joint\" => MeshCat.SceneTrees.SceneNode(nothing, UInt8[0x83, 0xa6, 0x6d, 0x61, 0x74, 0x72, 0x69, 0x78, 0xc7, 0x40  …  0x70, 0x6f, 0x72, 0x74, 0x5f, 0x6a, 0x6f, 0x69, 0x6e, 0x74], Dict{String, Vector{UInt8}}(), nothing, Dict{String, MeshCat.SceneTrees.SceneNode}(\"geometry_20\" => MeshCat.SceneTrees.SceneNode(UInt8[0x83, 0xa6, 0x6f, 0x62, 0x6a, 0x65, 0x63, 0x74, 0x84, 0xaa  …  0x65, 0x6f, 0x6d, 0x65, 0x74, 0x72, 0x79, 0x5f, 0x32, 0x30], UInt8[0x83, 0xa6, 0x6d, 0x61, 0x74, 0x72, 0x69, 0x78, 0xc7, 0x40  …  0x65, 0x6f, 0x6d, 0x65, 0x74, 0x72, 0x79, 0x5f, 0x32, 0x30], Dict{String, Vector{UInt8}}(), nothing, Dict{String, MeshCat.SceneTrees.SceneNode}()))))), \"head_link\" => MeshCat.SceneTrees.SceneNode(nothing, UInt8[0x83, 0xa6, 0x6d, 0x61, 0x74, 0x72, 0x69, 0x78, 0xc7, 0x40  …  0x2f, 0x68, 0x65, 0x61, 0x64, 0x5f, 0x6c, 0x69, 0x6e, 0x6b], Dict{String, Vector{UInt8}}(), nothing, Dict{String, MeshCat.SceneTrees.SceneNode}(\"after_head_joint\" => MeshCat.SceneTrees.SceneNode(nothing, UInt8[0x83, 0xa6, 0x6d, 0x61, 0x74, 0x72, 0x69, 0x78, 0xc7, 0x40  …  0x68, 0x65, 0x61, 0x64, 0x5f, 0x6a, 0x6f, 0x69, 0x6e, 0x74], Dict{String, Vector{UInt8}}(), nothing, Dict{String, MeshCat.SceneTrees.SceneNode}(\"geometry_19\" => MeshCat.SceneTrees.SceneNode(UInt8[0x83, 0xa6, 0x6f, 0x62, 0x6a, 0x65, 0x63, 0x74, 0x84, 0xaa  …  0x65, 0x6f, 0x6d, 0x65, 0x74, 0x72, 0x79, 0x5f, 0x31, 0x39], UInt8[0x83, 0xa6, 0x6d, 0x61, 0x74, 0x72, 0x69, 0x78, 0xc7, 0x40  …  0x65, 0x6f, 0x6d, 0x65, 0x74, 0x72, 0x79, 0x5f, 0x31, 0x39], Dict{String, Vector{UInt8}}(), nothing, Dict{String, MeshCat.SceneTrees.SceneNode}()))))))), \"after_waist_roll_joint\" => MeshCat.SceneTrees.SceneNode(nothing, UInt8[0x83, 0xa6, 0x6d, 0x61, 0x74, 0x72, 0x69, 0x78, 0xc7, 0x40  …  0x72, 0x6f, 0x6c, 0x6c, 0x5f, 0x6a, 0x6f, 0x69, 0x6e, 0x74], Dict{String, Vector{UInt8}}(), nothing, Dict{String, MeshCat.SceneTrees.SceneNode}(\"geometry_16\" => MeshCat.SceneTrees.SceneNode(UInt8[0x83, 0xa6, 0x6f, 0x62, 0x6a, 0x65, 0x63, 0x74, 0x84, 0xaa  …  0x65, 0x6f, 0x6d, 0x65, 0x74, 0x72, 0x79, 0x5f, 0x31, 0x36], UInt8[0x83, 0xa6, 0x6d, 0x61, 0x74, 0x72, 0x69, 0x78, 0xc7, 0x40  …  0x65, 0x6f, 0x6d, 0x65, 0x74, 0x72, 0x79, 0x5f, 0x31, 0x36], Dict{String, Vector{UInt8}}(), nothing, Dict{String, MeshCat.SceneTrees.SceneNode}()))))))))), \"after_left_hip_pitch_joint\" => MeshCat.SceneTrees.SceneNode(nothing, UInt8[0x83, 0xa6, 0x6d, 0x61, 0x74, 0x72, 0x69, 0x78, 0xc7, 0x40  …  0x69, 0x74, 0x63, 0x68, 0x5f, 0x6a, 0x6f, 0x69, 0x6e, 0x74], Dict{String, Vector{UInt8}}(), nothing, Dict{String, MeshCat.SceneTrees.SceneNode}(\"geometry_3\" => MeshCat.SceneTrees.SceneNode(UInt8[0x83, 0xa6, 0x6f, 0x62, 0x6a, 0x65, 0x63, 0x74, 0x84, 0xaa  …  0x67, 0x65, 0x6f, 0x6d, 0x65, 0x74, 0x72, 0x79, 0x5f, 0x33], UInt8[0x83, 0xa6, 0x6d, 0x61, 0x74, 0x72, 0x69, 0x78, 0xc7, 0x40  …  0x67, 0x65, 0x6f, 0x6d, 0x65, 0x74, 0x72, 0x79, 0x5f, 0x33], Dict{String, Vector{UInt8}}(), nothing, Dict{String, MeshCat.SceneTrees.SceneNode}()))))), \"after_left_hip_roll_joint\" => MeshCat.SceneTrees.SceneNode(nothing, UInt8[0x83, 0xa6, 0x6d, 0x61, 0x74, 0x72, 0x69, 0x78, 0xc7, 0x40  …  0x72, 0x6f, 0x6c, 0x6c, 0x5f, 0x6a, 0x6f, 0x69, 0x6e, 0x74], Dict{String, Vector{UInt8}}(), nothing, Dict{String, MeshCat.SceneTrees.SceneNode}(\"geometry_4\" => MeshCat.SceneTrees.SceneNode(UInt8[0x83, 0xa6, 0x6f, 0x62, 0x6a, 0x65, 0x63, 0x74, 0x84, 0xaa  …  0x67, 0x65, 0x6f, 0x6d, 0x65, 0x74, 0x72, 0x79, 0x5f, 0x34], UInt8[0x83, 0xa6, 0x6d, 0x61, 0x74, 0x72, 0x69, 0x78, 0xc7, 0x40  …  0x67, 0x65, 0x6f, 0x6d, 0x65, 0x74, 0x72, 0x79, 0x5f, 0x34], Dict{String, Vector{UInt8}}(), nothing, Dict{String, MeshCat.SceneTrees.SceneNode}()))))))))))))))))))))))), Set{HTTP.WebSockets.WebSocket}(), ip\"127.0.0.1\", 8738, HTTP.Servers.Server{HTTP.Servers.Listener{Nothing, Sockets.TCPServer}}(HTTP.Servers.Listener{Nothing, Sockets.TCPServer}(Sockets.InetAddr{Sockets.IPv4}(ip\"127.0.0.1\", 8738), \"127.0.0.1\", \"8738\", nothing, Sockets.TCPServer(RawFD(148) active)), nothing, Set{HTTP.Connections.Connection}(), Task (runnable, started) @0x00007fb66c2544c0, ReentrantLock(nothing, 0x00000000, 0x00, Base.GenericCondition{Base.Threads.SpinLock}(Base.IntrusiveLinkedList{Task}(nothing, nothing), Base.Threads.SpinLock(0)), (0, 0, 416147095773))), MeshCat.AnimationContext[]))"
      ]
     },
     "execution_count": 47,
     "metadata": {},
     "output_type": "execute_result"
    }
   ],
   "source": [
    "function hermite_simpson(model, x1, x2, u, dt::Real)\n",
    "    x1dot = dynamics(model, x1, u[4:end])\n",
    "    x2dot = dynamics(model, x2, u[4:end])\n",
    "    x_k12 = 1/2 * (x1 + x2) + dt/8 * (x1dot - x2dot)\n",
    "    #@show norm(x1dot), norm(x2dot), norm(x_k12)\n",
    "    return x1 + dt/6 * (x1dot + 4 * dynamics(model, x_k12, u[4:end]) + x2dot) - x2\n",
    "end\n",
    "\n",
    "x_discrete = Vector{Vector{Float64}}(undef, length(states)-1)\n",
    "x_discrete[1] = x_eq\n",
    "println(x_eq)\n",
    "for k = 1:length(kick_arc) - 1\n",
    "    xp1 = hermite_simpson(model, states[k], states[k+1], u_list[k], dt)\n",
    "    x_discrete[k+1] = xp1\n",
    "    println(xp1)\n",
    "end\n",
    "\n",
    "mvis = initialize_visualizer(model) # visualizer\n",
    "open(mvis)\n",
    "set_configuration!(mvis, x_discrete[2][1:state_dim(model)÷2])\n",
    "render(mvis)\n",
    "\n",
    "# open(mvis)\n",
    "# for k = 1:length(kick_arc)\n",
    "#     x = x_discrete[k]\n",
    "#     set_configuration!(mvis, x[1:state_dim(model)÷2])\n",
    "#     sleep(dt)\n",
    "#     render(mvis)\n",
    "# end"
   ]
  },
  {
   "cell_type": "markdown",
   "id": "54cccac4-1b20-49fe-b414-471e54c40ff5",
   "metadata": {},
   "source": [
    "## Ball Dynamics, Calculating Kick Point"
   ]
  },
  {
   "cell_type": "code",
   "execution_count": null,
   "id": "e423c1b3-4eea-43e0-a39e-0a40c33313b5",
   "metadata": {},
   "outputs": [],
   "source": [
    "q_i = [0.0, 0.0] # Note, this is in the X-Z Plane only, y value will be assigned manually after the fact\n",
    "q_des = [20.0, 3.0]\n",
    "J = optimize_impulse(q_des, q_i) # Can also specify mass\n",
    "dynamics_rollout(J, q_des, q_i)\n",
    "p_c = get_contact_point(J) # Can also specify radius of ball\n",
    "visualize_contact(J, p_c)"
   ]
  },
  {
   "cell_type": "markdown",
   "id": "777cb06d-048d-4d39-8835-a78f8b8e5f4e",
   "metadata": {},
   "source": [
    "## Calculating Kick Trajectory"
   ]
  },
  {
   "cell_type": "code",
   "execution_count": 10,
   "id": "7738babb-e1f7-433e-b56f-b96ac84a9346",
   "metadata": {},
   "outputs": [
    {
     "name": "stderr",
     "output_type": "stream",
     "text": [
      "\u001b[32m\u001b[1m    Updating\u001b[22m\u001b[39m git-repo `https://github.com/kevin-tracy/lazy_nlp_qd.jl.git`\n",
      "\u001b[32m\u001b[1m   Resolving\u001b[22m\u001b[39m package versions...\n",
      "\u001b[32m\u001b[1m  No Changes\u001b[22m\u001b[39m to `~/.julia/environments/v1.11/Project.toml`\n",
      "\u001b[32m\u001b[1m  No Changes\u001b[22m\u001b[39m to `~/.julia/environments/v1.11/Manifest.toml`\n"
     ]
    },
    {
     "data": {
      "text/plain": [
       "constraint_violation (generic function with 1 method)"
      ]
     },
     "execution_count": 10,
     "metadata": {},
     "output_type": "execute_result"
    }
   ],
   "source": [
    "using Pkg\n",
    "\n",
    "#Pkg.add(\"NamedTrajectories\")\n",
    "#Pkg.add(\"CairoMakie\")\n",
    "#Pkg.add(\"BenchmarkTools\")\n",
    "Pkg.add(url=\"https://github.com/kevin-tracy/lazy_nlp_qd.jl.git\")\n",
    "#Pkg.add(\"ProgressMeter\")\n",
    "using NamedTrajectories\n",
    "using CairoMakie\n",
    "using BenchmarkTools\n",
    "import ForwardDiff as FD\n",
    "using LinearAlgebra\n",
    "using Plots\n",
    "using lazy_nlp_qd\n",
    "#import MeshCat as mc\n",
    "using StaticArrays\n",
    "using ProgressMeter\n",
    "using FileIO\n",
    "include(joinpath(@__DIR__, \"../src/utils/utils.jl\"))\n",
    "include(joinpath(@__DIR__, \"../src/utils/nlp_utils.jl\"))"
   ]
  },
  {
   "cell_type": "code",
   "execution_count": 165,
   "id": "342d4bc9-9bcd-428e-8916-fd94ab76a13a",
   "metadata": {},
   "outputs": [
    {
     "data": {
      "text/plain": [
       "hermite_simpson (generic function with 2 methods)"
      ]
     },
     "execution_count": 165,
     "metadata": {},
     "output_type": "execute_result"
    }
   ],
   "source": [
    "function hermite_simpson(params::NamedTuple, x1::Vector, x2::Vector, u)::Vector\n",
    "    model = params.model\n",
    "    dt = params.dt\n",
    "    x1dot = dynamics(model, x1, u)\n",
    "    x2dot = dynamics(model, x2, u)\n",
    "    x_k12 = 1/2 * (x1 + x2) + dt/8 * (x1dot - x2dot)\n",
    "    return x1 + dt/6 * (x1dot + 4 * dynamics(model, x_k12, u) + x2dot) - x2\n",
    "end"
   ]
  },
  {
   "cell_type": "code",
   "execution_count": 28,
   "id": "f1878930-8d59-440e-b6a8-e03e1eb701dd",
   "metadata": {},
   "outputs": [
    {
     "data": {
      "text/plain": [
       "foot_position_constraint (generic function with 1 method)"
      ]
     },
     "execution_count": 28,
     "metadata": {},
     "output_type": "execute_result"
    }
   ],
   "source": [
    "function quadratic_cost(traj_indices::NamedTuple, k::Int64, Q1::Matrix{Float64}, Q2::Matrix{Float64}, R::Matrix{Float64}, x_g, foot_ref, mech, kick_time)\n",
    "    xi, ui = traj_indices.x[k], traj_indices.u[k]\n",
    "    foot_body = findbody(model.mech, \"right_ankle_roll_link\")\n",
    "    world_body = findbody(model.mech, \"world\")\n",
    "    kinematic_path = path(model.mech, foot_body, world_body)\n",
    "    desired_foot_pos = foot_ref[k]\n",
    "    s_p_ic = traj_indices.s_p_ic[k]\n",
    "    s_n_ic = traj_indices.s_n_ic[k]\n",
    "    s_p_foot = traj_indices.s_p_foot[k]\n",
    "    s_n_foot = traj_indices.s_n_foot[k]\n",
    "    s_p_dynamics = traj_indices.s_p_dynamics[k]\n",
    "    s_n_dynamics = traj_indices.s_n_dynamics[k]\n",
    "    # s_p_g = traj_indices.s_p_g[k]\n",
    "    # s_n_g = traj_indices.s_p_g[k]\n",
    "    p = 1000\n",
    "    # TODO: Tune this cost function\n",
    "    function cost_func(params::NamedTuple, z::Vector)\n",
    "        x = z[xi]\n",
    "        foot_tip_pos = get_right_foot_tip_location(mech, x)\n",
    "        J = 0\n",
    "        J += p * (sum(abs.(z[s_p_ic])) + sum(abs.(z[s_n_ic])))  # Penalize slack for initial condition\n",
    "        J += p * (sum(abs.(z[s_p_foot])) + sum(abs.(z[s_n_foot]))) \n",
    "        # J += p * (sum(abs.(z[s_p_g])) + sum(abs.(z[s_n_g]))) \n",
    "        J += p * (sum(abs.(z[s_p_dynamics])) + sum(abs.(z[s_n_dynamics]))) \n",
    "        J += 0.5*(foot_tip_pos - desired_foot_pos)'*Q1*(foot_tip_pos - desired_foot_pos) + 0.5 * z[ui]'*R*z[ui]\n",
    "        return J\n",
    "    end\n",
    "\n",
    "    function cost_grad!(params::NamedTuple, z::Vector{Float64}, grad::Vector{Float64})\n",
    "        grad .+= FD.gradient(z_ -> cost_func(params, z_), z)\n",
    "    end\n",
    "    return (cost_func=cost_func, cost_grad=cost_grad!)\n",
    "end\n",
    "\n",
    "function final_cost(traj_indices::NamedTuple, N::Int64, Qf::Matrix{Float64}, foot_ref, mech, x_g)\n",
    "    xi = traj_indices.x[N]\n",
    "    # TODO: Tune this cost function\n",
    "    # s_p = traj_indices.s_p_g[N]\n",
    "    # s_n = traj_indices.s_p_g[N]\n",
    "    p = 1000\n",
    "    s_p_foot = traj_indices.s_p_foot[N]\n",
    "    s_n_foot = traj_indices.s_n_foot[N]\n",
    "    desired_foot_pos = foot_ref[N]\n",
    "\n",
    "    function cost_func(params::NamedTuple, z::Vector)\n",
    "        foot_tip_pos = get_right_foot_tip_location(mech, z[xi])\n",
    "        J = p * (sum(abs.(z[s_p_foot])) + sum(abs.(z[s_n_foot]))) \n",
    "        return J + 0.5*((foot_tip_pos - desired_foot_pos)'*Qf*(foot_tip_pos - desired_foot_pos))\n",
    "    end\n",
    "\n",
    "    function cost_grad!(params::NamedTuple, z::Vector{Float64}, grad::Vector{Float64})\n",
    "        grad .+= FD.gradient(z_ -> cost_func(params, z_), z)\n",
    "    end\n",
    "    return (cost_func=cost_func, cost_grad=cost_grad!)\n",
    "end\n",
    "\n",
    "# Dynamics Constraints\n",
    "function dyn_constraint(traj_indices::NamedTuple, k::Int64)\n",
    "    # Get indices for knot data in trajectory\n",
    "    xi, ui, next_xi = traj_indices.x[k], traj_indices.u[k], traj_indices.x[k+1]\n",
    "    s_pi, s_ni = traj_indices.s_p_dynamics[k], traj_indices.s_n_dynamics[k]\n",
    "    nx = 64\n",
    "    function residual(params::NamedTuple, z::Vector, con::AbstractVector)\n",
    "        con .= hermite_simpson(params, z[xi], z[next_xi], z[ui]) - z[s_pi] + z[s_ni]\n",
    "    end\n",
    "    function jacobian!(params::NamedTuple, z::Vector, conjac::AbstractMatrix)\n",
    "        x_k, u_k, next_x_k = z[xi], z[ui], z[next_xi]\n",
    "        conjac[:, xi] = FD.jacobian(x_ -> hermite_simpson(params, x_, next_x_k, u_k), x_k);\n",
    "        conjac[:, ui] = FD.jacobian(u_ -> hermite_simpson(params, x_k, next_x_k, u_), u_k);\n",
    "        conjac[:, next_xi] = FD.jacobian(x_ -> hermite_simpson(params, x_k, x_, u_k), next_x_k);\n",
    "        conjac[:, s_pi] = -1 .* I(length(z[s_pi]))\n",
    "        conjac[:, s_ni] = I(length(z[s_ni]))\n",
    "        return nothing\n",
    "    end\n",
    "\n",
    "    # Indication of which blocks are populated (i.e. sparsity structure) for constraint\n",
    "    function sparsity!(conjac::AbstractMatrix)\n",
    "        conjac[:, xi] .= 1;\n",
    "        conjac[:, ui] .= 1;\n",
    "        conjac[:, next_xi] .= 1;\n",
    "        conjac[:, s_pi] .= 1\n",
    "        conjac[:, s_ni] .= 1\n",
    "        return nothing\n",
    "    end\n",
    "    bounds = (zeros(nx), zeros(nx))\n",
    "    return (length=nx, residual=residual, jacobian=jacobian!, sparsity=sparsity!, bounds=bounds)\n",
    "end\n",
    "\n",
    "# State Intial Condition Constraint\n",
    "function ic_constraint(traj_indices::NamedTuple, x_ic::Vector{Float64})\n",
    "    x0 = traj_indices.x[1]\n",
    "    s_p, s_n = traj_indices.s_p_ic[1], traj_indices.s_n_ic[1]\n",
    "    nx = 64\n",
    "    function residual(params::NamedTuple, z::Vector, con::AbstractVector) \n",
    "        con .= z[x0] - x_ic - z[s_p] + z[s_n]\n",
    "    end\n",
    "    function jacobian!(params::NamedTuple, z::Vector, conjac::AbstractMatrix)\n",
    "        conjac[:, x0] = I(length(x_ic))\n",
    "        conjac[:, s_p] = -1 .* I(length(z[s_p]))\n",
    "        conjac[:, s_n] = I(length(z[s_n]))\n",
    "        return nothing\n",
    "    end\n",
    "    function sparsity!(conjac::AbstractMatrix)\n",
    "        conjac[:, x0] .= 1\n",
    "        conjac[:, s_p] .= 1\n",
    "        conjac[:, s_n] .= 1\n",
    "        return nothing\n",
    "    end\n",
    "    bounds = (zeros(nx), zeros(nx))\n",
    "    return (length=nx, residual=residual, jacobian=jacobian!, sparsity=sparsity!, bounds=bounds)\n",
    "end\n",
    "\n",
    "# State Goal Condition Constraint\n",
    "# function goal_constraint(traj_indices::NamedTuple, x_g::Vector{Float64}, N)\n",
    "#     x_N = traj_indices.x[N]\n",
    "#     s_p, s_n = traj_indices.s_p_g[N], traj_indices.s_n_g[N]\n",
    "#     nx = 64\n",
    "#     function residual(params::NamedTuple, z::Vector, con::AbstractVector)\n",
    "#         con .= z[x_N] - x_g - z[s_p] + z[s_n]\n",
    "#     end\n",
    "#     function jacobian!(params::NamedTuple, z::Vector, conjac::AbstractMatrix)\n",
    "#         conjac[:, x_N] = I(length(x_N))\n",
    "#         conjac[:, s_p] = -1 .* I(length(z[s_p]))\n",
    "#         conjac[:, s_n] = I(length(z[s_n]))\n",
    "#         return nothing\n",
    "#     end\n",
    "#     function sparsity!(conjac::AbstractMatrix)\n",
    "#         conjac[:, x_N] .= 1\n",
    "#         conjac[:, s_p] .= 1\n",
    "#         conjac[:, s_n] .= 1\n",
    "#     end\n",
    "#     bounds = (zeros(nx), zeros(nx))\n",
    "#     return (length=nx, residual=residual, jacobian=jacobian!, sparsity=sparsity!, bounds=bounds)\n",
    "# end\n",
    "\n",
    "function foot_position_constraint(traj_indices::NamedTuple, mech::Mechanism, ball_pos::AbstractVector, k::Int) # use this as goal constraint as well\n",
    "    xi = traj_indices.x[k]\n",
    "    foot_body = findbody(model.mech, \"right_ankle_roll_link\")\n",
    "    world_body = findbody(model.mech, \"world\")\n",
    "    kinematic_path = path(model.mech, foot_body, world_body)\n",
    "    s_pi, s_ni = traj_indices.s_p_foot[k], traj_indices.s_n_foot[k]\n",
    "    residual(params::NamedTuple, z::Vector, con::AbstractVector) = begin\n",
    "        foot_tip_pos = get_right_foot_tip_location(mech, z[xi])\n",
    "        con .= foot_tip_pos - ball_pos - z[s_pi] + z[s_ni]\n",
    "    end\n",
    "\n",
    "   jacobian!(params::NamedTuple, z::Vector, conjac::AbstractMatrix) = begin\n",
    "        state = MechanismState(mech)\n",
    "        copyto!(state, z[xi])\n",
    "        \n",
    "        foot_jacobian = geometric_jacobian(state, kinematic_path)\n",
    "        \n",
    "        # Extract translation components (3 × nq matrix)\n",
    "        J_trans = Matrix(foot_jacobian)[4:6, :]\n",
    "        nq = size(J_trans, 2)\n",
    "        if length(xi) < nq\n",
    "            error(\"xi must span at least $nq columns (joint positions) but has length $(length(xi))\")\n",
    "        end\n",
    "        conjac[:, xi[1:nq]] .= J_trans\n",
    "        conjac[:, s_pi] .= -1 .* I(length(z[s_pi]))\n",
    "        conjac[:, s_ni] .= I(length(z[s_ni]))\n",
    "        return nothing\n",
    "    end\n",
    "    \n",
    "    \n",
    "    function sparsity!(conjac::AbstractMatrix)\n",
    "        conjac[:, xi] .= 1\n",
    "        conjac[:, s_pi] .= 1\n",
    "        conjac[:, s_ni] .= 1\n",
    "        return nothing\n",
    "    end\n",
    "    bounds = (zeros(3), zeros(3))\n",
    "    \n",
    "    return (length=3, residual=residual, jacobian=jacobian!, sparsity=sparsity!, bounds=bounds)\n",
    "end"
   ]
  },
  {
   "cell_type": "code",
   "execution_count": 26,
   "id": "c0a298d9-8ba6-4f24-912d-5f5f0474f38b",
   "metadata": {},
   "outputs": [
    {
     "data": {
      "text/plain": [
       "29-element Vector{Float64}:\n",
       " 2.8798\n",
       " 2.9671\n",
       " 2.7576\n",
       " 2.8798\n",
       " 0.5236\n",
       " 0.2618\n",
       " 2.8798\n",
       " 0.5236\n",
       " 2.7576\n",
       " 2.8798\n",
       " 0.5236\n",
       " 0.2618\n",
       " 2.618\n",
       " ⋮\n",
       " 2.618\n",
       " 2.0944\n",
       " 1.9722\n",
       " 1.6144\n",
       " 1.6144\n",
       " 2.6704\n",
       " 1.5882\n",
       " 2.618\n",
       " 2.0944\n",
       " 1.9722\n",
       " 1.6144\n",
       " 1.6144"
      ]
     },
     "execution_count": 26,
     "metadata": {},
     "output_type": "execute_result"
    }
   ],
   "source": [
    "equilib_loaded = load(\"equilibrium.jld2\")\n",
    "x_eq = equilib_loaded[\"x\"]\n",
    "u_eq = equilib_loaded[\"u\"]\n",
    "\n",
    "lower_limits = [\n",
    "    -2.5307, -0.5236, -2.7576, -0.087267, -0.87267, -0.2618,\n",
    "    -2.5307, -2.9671, -2.7576, -0.087267, -0.87267, -0.2618,\n",
    "    -2.618, -0.52, -0.52,\n",
    "    -3.0892, -1.5882, -2.618, -1.0472, -1.9722, -1.6144, -1.6144,\n",
    "    -3.0892, -2.2515, -2.618, -1.0472, -1.9722, -1.6144, -1.6144\n",
    "]\n",
    "\n",
    "upper_limits = [\n",
    "     2.8798,  2.9671,  2.7576,  2.8798,  0.5236,  0.2618,\n",
    "     2.8798,  0.5236,  2.7576,  2.8798,  0.5236,  0.2618,\n",
    "     2.618,  0.52,  0.52,\n",
    "     2.6704,  2.2515,  2.618,  2.0944,  1.9722,  1.6144, 1.6144,\n",
    "     2.6704,  1.5882,  2.618,  2.0944,  1.9722,  1.6144, 1.6144\n",
    "]\n"
   ]
  },
  {
   "cell_type": "code",
   "execution_count": null,
   "id": "941f0732-4a46-4412-b652-add7665a40fb",
   "metadata": {},
   "outputs": [
    {
     "data": {
      "text/plain": [
       "optimize_trajectory_sparse (generic function with 1 method)"
      ]
     },
     "execution_count": 30,
     "metadata": {},
     "output_type": "execute_result"
    }
   ],
   "source": [
    "function optimize_trajectory_sparse(nx, nu, dt, N, x_eq, u_eq, equilib_foot_pos, kick_foot_pos, model, lower_joint_limits, upper_joint_limits, x_ref, u_ref)\n",
    "    Q1 = diagm(1e0*ones(3))\n",
    "    Q2 = diagm(1e0*ones(nx))\n",
    "    R = diagm(1e-2*ones(nu))\n",
    "    Qf = diagm(1e2*ones(3))\n",
    "    x_ic = 1 * x_eq\n",
    "    x_ic[1:3] .= 0\n",
    "    x_g = 1 * x_eq\n",
    "    x_g[1:3] .= 0\n",
    "\n",
    "    # introduce the slack variables for the constraints\n",
    "    components = (\n",
    "        x = rand(nx, N),\n",
    "        u = rand(nu, N),\n",
    "        s_p_dynamics = rand(nx, N),\n",
    "        s_n_dynamics = rand(nx, N),\n",
    "        s_p_ic = rand(nx, N),\n",
    "        s_n_ic = rand(nx, N),\n",
    "        # s_p_g = rand(nx, N),\n",
    "        # s_n_g = rand(nx, N),\n",
    "        s_p_foot = rand(3, N),\n",
    "        s_n_foot = rand(3, N)\n",
    "    )\n",
    "\n",
    "    z0 = vcat(\n",
    "        [vcat(x_ref[i], u_ref[i], rand(nx), rand(nx), rand(nx), rand(nx), rand(3), rand(3)) for i in 1:N]...\n",
    "    )\n",
    "   \n",
    "    #z0  = vcat([x_ref[i], u_ref[i], rand(nx), rand(nx), rand(nx), rand(nx), rand(3), rand(3) for i in 1:N]...)\n",
    "    # push!(z0, vcat(x_ref[N], u_ref[N-1], rand(nx), rand(nx), rand(nx), rand(nx), rand(3), rand(3)))\n",
    "\n",
    "    # foot_ref = vcat([\n",
    "    #     (1 - t) * equilib_foot_pos + t * kick_foot_pos for t in range(0, stop=1, length=div(N, 2))\n",
    "    # ],\n",
    "    # [\n",
    "    #     (1 - t) * kick_foot_pos + t * equilib_foot_pos for t in range(0, stop=1, length=div(N, 2))\n",
    "    # ])\n",
    "\n",
    "    foot_ref = [(1 - t) * equilib_foot_pos + t * kick_foot_pos for t in LinRange(0, 1, N)]\n",
    "\n",
    "\n",
    "    #foot_pos = foot_equilib_pos .+ 0.1 * rand(3)\n",
    "    traj = NamedTrajectory(components; timestep=dt, controls=:u)\n",
    "    traj_indices = NamedTuple{traj.names}([[(k - 1)*traj.dim .+ getproperty(traj.components, symbol) for k in 1:traj.T] for symbol in traj.names])\n",
    "    cost_objs = vcat(\n",
    "        [quadratic_cost(traj_indices, k, Q1, Q2, R, x_g, foot_ref, model.mech, N÷2) for k = 1:N-1], \n",
    "        final_cost(traj_indices, N, Qf, foot_ref, mech, x_g)\n",
    "    )\n",
    "    # con_objs = Vector{NamedTuple}([foot_position_constraint(traj_indices, model.mech, kick_foot_pos, N÷2), ic_constraint(traj_indices, x_ic), goal_constraint(traj_indices, x_g, N), [dyn_constraint(traj_indices, k) for k = 1:N-1]...])\n",
    "    con_objs = Vector{NamedTuple}([foot_position_constraint(traj_indices, model.mech, kick_foot_pos, N), ic_constraint(traj_indices, x_ic), [dyn_constraint(traj_indices, k) for k = 1:N-1]...])\n",
    "\n",
    "    nc, conjac = setup_constraints(traj, con_objs)\n",
    "\n",
    "    # u_scale is used to normalize u to be closer to 1 (allowing for faster optimization)\n",
    "    param = (costs = cost_objs, constraints = con_objs, nconstraints=nc, nz=length(traj.datavec), model=model, dt=dt)\n",
    "    @assert nc < length(traj.datavec)\n",
    "    # Constrain bounds (equality and inequality)\n",
    "    c_l, c_u = constraint_bounds(param)\n",
    "\n",
    "\n",
    "    # Intial_guess\n",
    "    #z0 = randn(param.nz) * 0.01\n",
    "    #z0 = vcat([[x_eq; u_eq] for _ in 1:N]...) # warm start\n",
    "\n",
    "    # primal bounds\n",
    "    z_l, z_u = fill(-120.0, param.nz), fill(120.0, param.nz)\n",
    "\n",
    "\n",
    "    # bound foot rotation to be zero\n",
    "    for k = 1:N\n",
    "        xi = traj_indices.x[k]\n",
    "        ui = traj_indices.u[k]\n",
    "        s_p_dynamics_i = traj_indices.s_p_dynamics[k]\n",
    "        s_n_dynamics_i = traj_indices.s_n_dynamics[k]\n",
    "\n",
    "        z_l[xi[1:3]] .= 0\n",
    "        z_u[xi[1:3]] .= 0\n",
    "        z_l[xi[4:32]] .= lower_joint_limits\n",
    "        z_u[xi[4:32]] .= upper_joint_limits\n",
    "        z_l[xi[36:64]] .= -15\n",
    "        z_u[xi[36:64]] .= 15\n",
    "        z_l[s_p_dynamics_i] .= 0\n",
    "        z_l[s_n_dynamics_i] .= 0\n",
    "        z_u[s_p_dynamics_i] .= Inf\n",
    "        z_u[s_n_dynamics_i] .= Inf\n",
    "\n",
    "        z_l[traj_indices.s_p_ic[k]] .= 0\n",
    "        z_u[traj_indices.s_p_ic[k]] .= Inf\n",
    "        z_l[traj_indices.s_n_ic[k]] .= 0\n",
    "        z_u[traj_indices.s_n_ic[k]] .= Inf\n",
    "    \n",
    "        # z_l[traj_indices.s_p_g[k]] .= 0\n",
    "        # z_u[traj_indices.s_p_g[k]] .= Inf\n",
    "        # z_l[traj_indices.s_n_g[k]] .= 0\n",
    "        # z_u[traj_indices.s_n_g[k]] .= Inf\n",
    "    \n",
    "        z_l[traj_indices.s_p_foot[k]] .= 0\n",
    "        z_u[traj_indices.s_p_foot[k]] .= Inf\n",
    "        z_l[traj_indices.s_n_foot[k]] .= 0\n",
    "        z_u[traj_indices.s_n_foot[k]] .= Inf\n",
    "    end\n",
    "\n",
    "    z = lazy_nlp_qd.sparse_fmincon(cost_func,\n",
    "                                cost_gradient!,\n",
    "                                constraint_residual!,\n",
    "                                constraint_jacobian!,\n",
    "                                conjac,\n",
    "                                z_l,\n",
    "                                z_u, \n",
    "                                c_l,\n",
    "                                c_u,\n",
    "                                z0,\n",
    "                                param,\n",
    "                                tol = 1e-1, # for testing purposes\n",
    "                                c_tol = 1e-1, # for testing purposes\n",
    "                                max_iters = 100,\n",
    "                                print_level = 5); # for testing purposes\n",
    "    traj.datavec .= z\n",
    "    return traj\n",
    "end"
   ]
  },
  {
   "cell_type": "code",
   "execution_count": null,
   "id": "78acb878-2ba9-4536-a64c-016cd22c4715",
   "metadata": {},
   "outputs": [
    {
     "data": {
      "text/plain": [
       "(x = UnitRange{Int64}[1:64, 356:419, 711:774, 1066:1129, 1421:1484, 1776:1839, 2131:2194, 2486:2549, 2841:2904, 3196:3259], u = UnitRange{Int64}[65:93, 420:448, 775:803, 1130:1158, 1485:1513, 1840:1868, 2195:2223, 2550:2578, 2905:2933, 3260:3288], s_p_dynamics = UnitRange{Int64}[94:157, 449:512, 804:867, 1159:1222, 1514:1577, 1869:1932, 2224:2287, 2579:2642, 2934:2997, 3289:3352], s_n_dynamics = UnitRange{Int64}[158:221, 513:576, 868:931, 1223:1286, 1578:1641, 1933:1996, 2288:2351, 2643:2706, 2998:3061, 3353:3416], s_p_ic = UnitRange{Int64}[222:285, 577:640, 932:995, 1287:1350, 1642:1705, 1997:2060, 2352:2415, 2707:2770, 3062:3125, 3417:3480], s_n_ic = UnitRange{Int64}[286:349, 641:704, 996:1059, 1351:1414, 1706:1769, 2061:2124, 2416:2479, 2771:2834, 3126:3189, 3481:3544], s_p_foot = UnitRange{Int64}[350:352, 705:707, 1060:1062, 1415:1417, 1770:1772, 2125:2127, 2480:2482, 2835:2837, 3190:3192, 3545:3547], s_n_foot = UnitRange{Int64}[353:355, 708:710, 1063:1065, 1418:1420, 1773:1775, 2128:2130, 2483:2485, 2838:2840, 3193:3195, 3548:3550])"
      ]
     },
     "execution_count": 31,
     "metadata": {},
     "output_type": "execute_result"
    }
   ],
   "source": [
    "#Pkg.add(\"FileIO\")\n",
    "# Save full trajectory data\n",
    "model = G1Humanoid()\n",
    "mech = model.mech\n",
    "nx, nu, dt, N = size(x_eq, 1), size(u_eq, 1), 0.2, 10 #length(states)\n",
    "\n",
    "equilib_foot_pos = [-0.3697416851162835, -0.1812921683831133, 0.28428794901541954]\n",
    "foot_pos = goal_foot_pos\n",
    "x_init = states\n",
    "u_init = [0.001 * rand(nu) for k=1:length(x_init)]\n",
    "traj = optimize_trajectory_sparse(nx, nu, dt, N, x_eq, u_eq, equilib_foot_pos, foot_pos, model, lower_limits, upper_limits, x_init, u_init)\n",
    "#CairoMakie.plot(z)\n",
    "# i = 1\n",
    "# for foot_pos in kick_arc\n",
    "#     if i == 1\n",
    "#         z0 = vcat([[x_eq; u_eq] for _ in 1:N]...)\n",
    "#     else\n",
    "#         traj_loaded = load(\"trajectory_$(i-1).jld2\")\n",
    "#         z0 = traj_loaded[\"z\"]\n",
    "#     end\n",
    "#     println(\"Optimizing for index $(i), foot position: $(foot_pos)\")\n",
    "#     z = optimize_trajectory_sparse(nx, nu, dt, N, x_eq, u_eq, foot_pos, model, z0)\n",
    "#     save(\"trajectory_$(i).jld2\", \"z\", z, \"traj_indices\", traj_indices)\n",
    "#     i += 1\n",
    "# end\n",
    "# Later reload\n"
   ]
  },
  {
   "cell_type": "code",
   "execution_count": 54,
   "id": "c0ee65c3-ba75-4466-bff0-04b73c4c923a",
   "metadata": {},
   "outputs": [
    {
     "data": {
      "text/plain": [
       "(x = UnitRange{Int64}[1:64, 94:157, 187:250, 280:343, 373:436, 466:529, 559:622, 652:715, 745:808, 838:901  …  2605:2668, 2698:2761, 2791:2854, 2884:2947, 2977:3040, 3070:3133, 3163:3226, 3256:3319, 3349:3412, 3442:3505], u = UnitRange{Int64}[65:93, 158:186, 251:279, 344:372, 437:465, 530:558, 623:651, 716:744, 809:837, 902:930  …  2669:2697, 2762:2790, 2855:2883, 2948:2976, 3041:3069, 3134:3162, 3227:3255, 3320:3348, 3413:3441, 3506:3534])"
      ]
     },
     "execution_count": 54,
     "metadata": {},
     "output_type": "execute_result"
    }
   ],
   "source": [
    "loaded = load(\"trajectory.jld2\")\n",
    "traj = loaded[\"traj\"]\n",
    "traj_indices = loaded[\"traj_indices\"]"
   ]
  },
  {
   "cell_type": "code",
   "execution_count": 55,
   "id": "dbffc806",
   "metadata": {},
   "outputs": [
    {
     "name": "stderr",
     "output_type": "stream",
     "text": [
      "\u001b[36m\u001b[1m[ \u001b[22m\u001b[39m\u001b[36m\u001b[1mInfo: \u001b[22m\u001b[39mListening on: 127.0.0.1:8740, thread id: 1\n",
      "\u001b[36m\u001b[1m┌ \u001b[22m\u001b[39m\u001b[36m\u001b[1mInfo: \u001b[22m\u001b[39mMeshCat server started. You can open the visualizer by visiting the following URL in your browser:\n",
      "\u001b[36m\u001b[1m└ \u001b[22m\u001b[39mhttp://127.0.0.1:8740\n"
     ]
    }
   ],
   "source": [
    "mvis = initialize_visualizer(model) # visualizer\n",
    "open(mvis)\n",
    "dt = 0.05\n",
    "for k = 1:length(states)\n",
    "    set_configuration!(mvis, traj.datavec[traj_indices.x[k][1:32]])\n",
    "    sleep(dt)\n",
    "    render(mvis)\n",
    "end"
   ]
  }
 ],
 "metadata": {
  "kernelspec": {
   "display_name": "Julia 1.11.5",
   "language": "julia",
   "name": "julia-1.11"
  },
  "language_info": {
   "file_extension": ".jl",
   "mimetype": "application/julia",
   "name": "julia",
   "version": "1.11.5"
  }
 },
 "nbformat": 4,
 "nbformat_minor": 5
}
